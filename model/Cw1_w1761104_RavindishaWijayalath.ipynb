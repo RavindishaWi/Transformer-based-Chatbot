{
 "cells": [
  {
   "cell_type": "markdown",
   "metadata": {},
   "source": [
    "<h1>Sigmund - The Chatbot</h1>"
   ]
  },
  {
   "cell_type": "markdown",
   "metadata": {},
   "source": [
    "<p style=\"text-align: justify\">The problem domain area chosen for this project is 'Chatbots'. The main goal of this research project is to develop a chatbot named Sigmund to diagnose the symptoms of mental health conditions such as major depressive disorder and anxiety disorder by interacting with the user, and provide depression intervention under Cognitive Behavioural Therapy (CBT) principles. This chatbot will only be used to provide the instructions and interact with the user until further actions are taken.</p>"
   ]
  },
  {
   "cell_type": "markdown",
   "metadata": {},
   "source": [
    "<h3>Literature Review</h3>"
   ]
  },
  {
   "cell_type": "markdown",
   "metadata": {},
   "source": [
    "<p style=\"text-align: justify\">A literature review on existing solutions was conducted by the author to explore the different AI techniques that can be used to achieve the aforementioned goal and implement the solution.</p>"
   ]
  },
  {
   "cell_type": "markdown",
   "metadata": {},
   "source": [
    "The two main types of chatbot models that can be identified in the literature are,\n",
    "1. Classical/rule-based chatbots\n",
    "2. Neural Network based chatbots"
   ]
  },
  {
   "cell_type": "markdown",
   "metadata": {},
   "source": [
    "<h4>Classical/rule Based Chatbots</h4>"
   ]
  },
  {
   "cell_type": "markdown",
   "metadata": {},
   "source": [
    "Classical approaches can be referred to as rule-based methods as they use established rules to generate responses. Rule-based approaches work well when the domain of the conversation is centered on a particular topic or a task. Writing rules in this approaches can be done using a language designed for classical chatbots, AIML (Artifcial Intelligence Markup Language), which is based on XML format. Pattern Matching can be identified as one of the main rule based approach (Agarwal and Wadhwa, 2020)."
   ]
  },
  {
   "cell_type": "markdown",
   "metadata": {},
   "source": [
    "<h4>Neural Network Based Chatbots</h4>"
   ]
  },
  {
   "cell_type": "markdown",
   "metadata": {},
   "source": [
    "The tedious effort of writing rules for each utterance-response pair has been eliminated by neural network-based chatbots. A neural network can generate responses in one of two ways: either by creating something from scratch (generative) or by obtaining data from a huge dataset (retrieval-based). Some hybrid approaches that combines the both methods have also been introduced.\n",
    "\n",
    "(Agarwal and Wadhwa, 2020)"
   ]
  },
  {
   "cell_type": "markdown",
   "metadata": {},
   "source": [
    "<p>The three main techniques identified in the literature review are,</p>"
   ]
  },
  {
   "cell_type": "markdown",
   "metadata": {},
   "source": [
    "1. Long Short Term Memory (LSTM) networks\n",
    "2. Recurrent Neural Networks (RNNs)\n",
    "3. Transformer based attempts"
   ]
  },
  {
   "cell_type": "markdown",
   "metadata": {},
   "source": [
    "<h4>Long Short Term Memory (LSTM) Networks</h4>"
   ]
  },
  {
   "cell_type": "markdown",
   "metadata": {},
   "source": [
    "<p style=\"text-align: justify\">LSTM networks are very useful in the scenarios of vanishing gradients. Identity serves as the activation function for the LSTM, and its derivative is 1, which prevents the backpropagated gradient from disappearing. With the aid of 'gates', LSTM completes this task. The element that determines which information will be allowed to travel through is the gate. The gates output a value in the range of 0 and 1, indicating how much of each component should pass. 0 indicates that nothing should pass through, whereas 1 indicates that everything passes. To govern the information flow from one network unit to the succeeding one, the LSTM relies on input and forgets gates. These gates determine how the network updates its state. The output from the hidden layer is decided by the output gate.</p>"
   ]
  },
  {
   "cell_type": "markdown",
   "metadata": {},
   "source": [
    "<h4>Recurrent Neural Networks (RNNs)</h4>"
   ]
  },
  {
   "cell_type": "markdown",
   "metadata": {},
   "source": [
    "<p style=\"text-align: justify\">Any conversational agent would benefit from having the capability to take previous discussions and context into account when generating a response. If it simply takes the most recent input into account while creating a reply, the responses get boring. The chatbot can use Recurrent Neural Networks (RNNs) to use the previous output as input and produce more logical responses. In contrast to typical neural networks, RNN permits data persistence.</p>"
   ]
  },
  {
   "cell_type": "markdown",
   "metadata": {},
   "source": [
    "<h4>Transformer-Based Networks</h4>"
   ]
  },
  {
   "cell_type": "markdown",
   "metadata": {},
   "source": [
    "<p style=\"text-align: justify\">Language models for Transformers are mainly based on the\n",
    "Attention Mechanism. By differentially valuing the importance of each component of the input data, transformers have replaced RNN models like long short-term memory (LSTM) as the preferred model for challenges in NLP. They offer training parallelization that makes it possible to train on larger datasets than were previously feasible. As a result, pre-trained systems like BERT (Bidirectional Encoder Representations from Transformers) and GPT (Generative Pre-trained Transformer) were created. These systems can be customized for particular applications and were trained using large language datasets like the Wikipedia Corpus and Common Crawl. Since then, other variations of the Transformer have been introduced, including the Reformer and the Transformer XL. The issues unique to the work at hand have been addressed in each transformer version. Transformers can be adjusted to do dialogue modeling tasks, even though they were originally designed to address Machine Translation problems.</p>"
   ]
  },
  {
   "cell_type": "markdown",
   "metadata": {},
   "source": [
    "<h3>Comparison of Techniques</h3>"
   ]
  },
  {
   "cell_type": "markdown",
   "metadata": {},
   "source": [
    "<h4>Strengths and Weaknesses</h4>"
   ]
  },
  {
   "cell_type": "markdown",
   "metadata": {},
   "source": [
    "<table style=\"width: 100%\">\n",
    "  <tr>\n",
    "    <th style=\"text-align: left\">Technique</th>\n",
    "    <th style=\"text-align: left\">Strengths</th>\n",
    "    <th style=\"text-align: left\">Weaknesses</th>\n",
    "  </tr>\n",
    "  <tr>\n",
    "    <td style=\"text-align: left\">Long Short Term Memory (LSTM)</td>\n",
    "    <td style=\"text-align: left\">memory cells, long-term memory for long-term dependencies</td>\n",
    "    <td style=\"text-align: left\">prone to overfitting, higher memory usage, slow training and computation, limited attention span</td>\n",
    "  </tr>\n",
    "  <tr>\n",
    "    <td style=\"text-align: left\">Recurrent Neural Networks (RNNs)</td>\n",
    "    <td style=\"text-align: left\">simple, widely general, adaptive and flexible model, time collection, ability to process temporal information</td>\n",
    "    <td style=\"text-align: left\">slow training and computation, gradient exploding and gradient vanishing</td>\n",
    "  </tr>\n",
    "  <tr>\n",
    "    <td style=\"text-align: left\">Transformers</td>\n",
    "    <td style=\"text-align: left\">mechanism of self-attention, training parellalization, faster training and processing, flexible</td>\n",
    "    <td style=\"text-align: left\">minimization of loss-function, fixed-length texts</td>\n",
    "  </tr>\n",
    "</table>"
   ]
  },
  {
   "cell_type": "markdown",
   "metadata": {},
   "source": [
    "<h4>Advantages and Disadvantages</h4>"
   ]
  },
  {
   "cell_type": "markdown",
   "metadata": {},
   "source": [
    "<table style=\"width: 100%\">\n",
    "  <tr>\n",
    "    <th style=\"text-align: left\">Technique</th>\n",
    "    <th style=\"text-align: left\">Advantages</th>\n",
    "    <th style=\"text-align: left\">Disadvantages</th>\n",
    "  </tr>\n",
    "  <tr>\n",
    "    <td style=\"text-align: left\">Long Short Term Memory (LSTM)</td>\n",
    "    <td style=\"text-align: left\">uses identity as its activation function which prevents the backpropagated gradient to vanish, forms a memory cell that does the task of remembering, models long-term dependencies</td>\n",
    "    <td style=\"text-align: left\">does not allow parallel training, difficulties in using for transfer learning, limited attention on training data, prone to overfitting when the training dataset is small</td>\n",
    "  </tr>\n",
    "  <tr>\n",
    "    <td style=\"text-align: left\">Recurrent Neural Networks (RNNs)</td>\n",
    "    <td style=\"text-align: left\"> does not require domain-specific knowledge to provide valuable results, can be easily used and adapted to work with other algorithms, </td>\n",
    "    <td style=\"text-align: left\">the input sentence's information needs to be encoded in a fixed-length vector, information gets lost in the process for longer sentences, frequently concentrates on a single response when generating answers, which results in a lack of coherence in the conversational exchanges</td>\n",
    "  </tr>\n",
    "  <tr>\n",
    "    <td style=\"text-align: left\">Transformers</td>\n",
    "    <td style=\"text-align: left\">provides training parallelization that enables training on larger datasets, can process and train more data in lesser time, use of the Attention Mechanism that provides attention on training data, provides equal attention to all the elements in the sequence, can model long-term dependencies, faster training</td>\n",
    "    <td style=\"text-align: left\">restricted by a context of fixed length in the context of language modeling</td>\n",
    "  </tr>\n",
    "</table>"
   ]
  },
  {
   "cell_type": "markdown",
   "metadata": {},
   "source": [
    "<p style=\"text-align: justify\">The AI technique chosen for this project is Transformer-based technique. Since there are only a very limited chatbot models are currently available in the literature, a transformer model was implemented to provide a solution to the identified problem. Therefore, a transformer model is chosen to implement the solution, since it allows parallel training, provides attention mechanism using encoders and decoders to provide multi-head attention to training data and allows faster training than other techniques.</p>"
   ]
  },
  {
   "cell_type": "markdown",
   "metadata": {},
   "source": [
    "<h3>High-Level Diagram</h3>"
   ]
  },
  {
   "attachments": {
    "The-Transformer-model-architecture.png": {
     "image/png": "[encoded data removed]"
    }
   },
   "cell_type": "markdown",
   "metadata": {},
   "source": [
    "![The-Transformer-model-architecture.png](attachment:The-Transformer-model-architecture.png)"
   ]
  },
  {
   "cell_type": "markdown",
   "metadata": {},
   "source": [
    "<h3>Datasets</h3>"
   ]
  },
  {
   "cell_type": "markdown",
   "metadata": {},
   "source": [
    "The dataset can be found on: https://towardsdatascience.com/counsel-chat-bootstrapping-high-quality-therapy-data-971b419f33da\n",
    "The input data is provided in json format of objects of strings and provided to the model as a numpy array. Therefore, the data is converted from json format to CSV for model training."
   ]
  },
  {
   "cell_type": "markdown",
   "metadata": {},
   "source": [
    "<h3>References</h3>"
   ]
  },
  {
   "cell_type": "markdown",
   "metadata": {},
   "source": [
    "<p>Agarwal, R. and Wadhwa, M. (2020) “Review of State-of-the-Art Design Techniques for Chatbots,” SN Computer Science, 1(5). Available at: https://doi.org/10.1007/s42979-020-00255-3.\n",
    "\n",
    "Caldarini, G., Jaf, S. and McGarry, K. (2022) “A Literature Survey of Recent Advances in Chatbots,” Information (Switzerland), 13(1). Available at: https://doi.org/10.3390/info13010041.\n",
    "\n",
    "Adamopoulou, E. and Moussiades, L. (2020) “Chatbots: History, technology, and applications,” Machine Learning with Applications, 2, p. 100006. Available at: https://doi.org/10.1016/j.mlwa.2020.100006.\n",
    "\n",
    "Devlin, J. et al. (2018) “BERT: Pre-training of Deep Bidirectional Transformers for Language Understanding.” Available at: http://arxiv.org/abs/1810.04805.\n",
    "    \n",
    "Kitaev, N., Kaiser, Ł. and Levskaya, A. (2020) “Reformer: The Efficient Transformer.” Available at: http://arxiv.org/abs/2001.04451.\n",
    "</p>"
   ]
  },
  {
   "cell_type": "markdown",
   "metadata": {},
   "source": []
  },
  {
   "cell_type": "code",
   "execution_count": 1,
   "metadata": {
    "colab": {
     "base_uri": "https://localhost:8080/"
    },
    "id": "UaVPTMzut29K",
    "outputId": "a573bafb-6aa9-4df4-93dd-ca3afc093a44"
   },
   "outputs": [
    {
     "name": "stdout",
     "output_type": "stream",
     "text": [
      "Looking in indexes: https://pypi.org/simple, https://us-python.pkg.dev/colab-wheels/public/simple/\n",
      "Requirement already satisfied: tensorflow in /usr/local/lib/python3.8/dist-packages (2.9.2)\n",
      "Requirement already satisfied: tensorboard<2.10,>=2.9 in /usr/local/lib/python3.8/dist-packages (from tensorflow) (2.9.1)\n",
      "Requirement already satisfied: tensorflow-io-gcs-filesystem>=0.23.1 in /usr/local/lib/python3.8/dist-packages (from tensorflow) (0.29.0)\n",
      "Requirement already satisfied: keras<2.10.0,>=2.9.0rc0 in /usr/local/lib/python3.8/dist-packages (from tensorflow) (2.9.0)\n",
      "Requirement already satisfied: h5py>=2.9.0 in /usr/local/lib/python3.8/dist-packages (from tensorflow) (3.1.0)\n",
      "Requirement already satisfied: protobuf<3.20,>=3.9.2 in /usr/local/lib/python3.8/dist-packages (from tensorflow) (3.19.6)\n",
      "Requirement already satisfied: typing-extensions>=3.6.6 in /usr/local/lib/python3.8/dist-packages (from tensorflow) (4.4.0)\n",
      "Requirement already satisfied: absl-py>=1.0.0 in /usr/local/lib/python3.8/dist-packages (from tensorflow) (1.3.0)\n",
      "Requirement already satisfied: opt-einsum>=2.3.2 in /usr/local/lib/python3.8/dist-packages (from tensorflow) (3.3.0)\n",
      "Requirement already satisfied: termcolor>=1.1.0 in /usr/local/lib/python3.8/dist-packages (from tensorflow) (2.2.0)\n",
      "Requirement already satisfied: grpcio<2.0,>=1.24.3 in /usr/local/lib/python3.8/dist-packages (from tensorflow) (1.51.1)\n",
      "Requirement already satisfied: tensorflow-estimator<2.10.0,>=2.9.0rc0 in /usr/local/lib/python3.8/dist-packages (from tensorflow) (2.9.0)\n",
      "Requirement already satisfied: numpy>=1.20 in /usr/local/lib/python3.8/dist-packages (from tensorflow) (1.21.6)\n",
      "Requirement already satisfied: six>=1.12.0 in /usr/local/lib/python3.8/dist-packages (from tensorflow) (1.15.0)\n",
      "Requirement already satisfied: astunparse>=1.6.0 in /usr/local/lib/python3.8/dist-packages (from tensorflow) (1.6.3)\n",
      "Requirement already satisfied: flatbuffers<2,>=1.12 in /usr/local/lib/python3.8/dist-packages (from tensorflow) (1.12)\n",
      "Requirement already satisfied: keras-preprocessing>=1.1.1 in /usr/local/lib/python3.8/dist-packages (from tensorflow) (1.1.2)\n",
      "Requirement already satisfied: setuptools in /usr/local/lib/python3.8/dist-packages (from tensorflow) (57.4.0)\n",
      "Requirement already satisfied: gast<=0.4.0,>=0.2.1 in /usr/local/lib/python3.8/dist-packages (from tensorflow) (0.4.0)\n",
      "Requirement already satisfied: libclang>=13.0.0 in /usr/local/lib/python3.8/dist-packages (from tensorflow) (15.0.6.1)\n",
      "Requirement already satisfied: wrapt>=1.11.0 in /usr/local/lib/python3.8/dist-packages (from tensorflow) (1.14.1)\n",
      "Requirement already satisfied: google-pasta>=0.1.1 in /usr/local/lib/python3.8/dist-packages (from tensorflow) (0.2.0)\n",
      "Requirement already satisfied: packaging in /usr/local/lib/python3.8/dist-packages (from tensorflow) (21.3)\n",
      "Requirement already satisfied: wheel<1.0,>=0.23.0 in /usr/local/lib/python3.8/dist-packages (from astunparse>=1.6.0->tensorflow) (0.38.4)\n",
      "Requirement already satisfied: werkzeug>=1.0.1 in /usr/local/lib/python3.8/dist-packages (from tensorboard<2.10,>=2.9->tensorflow) (1.0.1)\n",
      "Requirement already satisfied: tensorboard-data-server<0.7.0,>=0.6.0 in /usr/local/lib/python3.8/dist-packages (from tensorboard<2.10,>=2.9->tensorflow) (0.6.1)\n",
      "Requirement already satisfied: tensorboard-plugin-wit>=1.6.0 in /usr/local/lib/python3.8/dist-packages (from tensorboard<2.10,>=2.9->tensorflow) (1.8.1)\n",
      "Requirement already satisfied: requests<3,>=2.21.0 in /usr/local/lib/python3.8/dist-packages (from tensorboard<2.10,>=2.9->tensorflow) (2.25.1)\n",
      "Requirement already satisfied: google-auth<3,>=1.6.3 in /usr/local/lib/python3.8/dist-packages (from tensorboard<2.10,>=2.9->tensorflow) (2.16.0)\n",
      "Requirement already satisfied: markdown>=2.6.8 in /usr/local/lib/python3.8/dist-packages (from tensorboard<2.10,>=2.9->tensorflow) (3.4.1)\n",
      "Requirement already satisfied: google-auth-oauthlib<0.5,>=0.4.1 in /usr/local/lib/python3.8/dist-packages (from tensorboard<2.10,>=2.9->tensorflow) (0.4.6)\n",
      "Requirement already satisfied: pyparsing!=3.0.5,>=2.0.2 in /usr/local/lib/python3.8/dist-packages (from packaging->tensorflow) (3.0.9)\n",
      "Requirement already satisfied: cachetools<6.0,>=2.0.0 in /usr/local/lib/python3.8/dist-packages (from google-auth<3,>=1.6.3->tensorboard<2.10,>=2.9->tensorflow) (5.2.1)\n",
      "Requirement already satisfied: rsa<5,>=3.1.4 in /usr/local/lib/python3.8/dist-packages (from google-auth<3,>=1.6.3->tensorboard<2.10,>=2.9->tensorflow) (4.9)\n",
      "Requirement already satisfied: pyasn1-modules>=0.2.1 in /usr/local/lib/python3.8/dist-packages (from google-auth<3,>=1.6.3->tensorboard<2.10,>=2.9->tensorflow) (0.2.8)\n",
      "Requirement already satisfied: requests-oauthlib>=0.7.0 in /usr/local/lib/python3.8/dist-packages (from google-auth-oauthlib<0.5,>=0.4.1->tensorboard<2.10,>=2.9->tensorflow) (1.3.1)\n",
      "Requirement already satisfied: importlib-metadata>=4.4 in /usr/local/lib/python3.8/dist-packages (from markdown>=2.6.8->tensorboard<2.10,>=2.9->tensorflow) (6.0.0)\n",
      "Requirement already satisfied: idna<3,>=2.5 in /usr/local/lib/python3.8/dist-packages (from requests<3,>=2.21.0->tensorboard<2.10,>=2.9->tensorflow) (2.10)\n",
      "Requirement already satisfied: chardet<5,>=3.0.2 in /usr/local/lib/python3.8/dist-packages (from requests<3,>=2.21.0->tensorboard<2.10,>=2.9->tensorflow) (4.0.0)\n",
      "Requirement already satisfied: urllib3<1.27,>=1.21.1 in /usr/local/lib/python3.8/dist-packages (from requests<3,>=2.21.0->tensorboard<2.10,>=2.9->tensorflow) (1.24.3)\n",
      "Requirement already satisfied: certifi>=2017.4.17 in /usr/local/lib/python3.8/dist-packages (from requests<3,>=2.21.0->tensorboard<2.10,>=2.9->tensorflow) (2022.12.7)\n",
      "Requirement already satisfied: zipp>=0.5 in /usr/local/lib/python3.8/dist-packages (from importlib-metadata>=4.4->markdown>=2.6.8->tensorboard<2.10,>=2.9->tensorflow) (3.11.0)\n",
      "Requirement already satisfied: pyasn1<0.5.0,>=0.4.6 in /usr/local/lib/python3.8/dist-packages (from pyasn1-modules>=0.2.1->google-auth<3,>=1.6.3->tensorboard<2.10,>=2.9->tensorflow) (0.4.8)\n",
      "Requirement already satisfied: oauthlib>=3.0.0 in /usr/local/lib/python3.8/dist-packages (from requests-oauthlib>=0.7.0->google-auth-oauthlib<0.5,>=0.4.1->tensorboard<2.10,>=2.9->tensorflow) (3.2.2)\n"
     ]
    }
   ],
   "source": [
    "# installing Tensorflow\n",
    "\n",
    "!pip install tensorflow"
   ]
  },
  {
   "cell_type": "code",
   "execution_count": 2,
   "metadata": {
    "id": "Lm13dk3juUz-"
   },
   "outputs": [],
   "source": [
    "# importing necessary libraries\n",
    "\n",
    "import pandas as pd\n",
    "import numpy as np\n",
    "import re\n",
    "import tensorflow as tf\n",
    "import matplotlib.pyplot as plt"
   ]
  },
  {
   "cell_type": "code",
   "execution_count": 3,
   "metadata": {
    "id": "0VyUgqswucok"
   },
   "outputs": [],
   "source": [
    "# adding decontractions\n",
    "# this function takes the expression and converts contractions into their natural forms\n",
    "# reference: https://stackoverflow.com/questions/19790188/expanding-english-language-contractions-in-python/47091490#47091490\n",
    "\n",
    "def decontractions(expression):\n",
    "\n",
    "    # specific contractions\n",
    "    expression = re.sub(r\"won\\'t\", \"will not\", expression)\n",
    "    expression = re.sub(r\"can\\'t\", \"can not\", expression)\n",
    "    \n",
    "    expression = re.sub(r\"won\\’t\", \"will not\", expression)\n",
    "    expression = re.sub(r\"can\\’t\", \"can not\", expression)\n",
    "\n",
    "    # general contractions\n",
    "    expression = re.sub(r\"n\\'t\", \" not\", expression)\n",
    "    expression = re.sub(r\"\\'re\", \" are\", expression)\n",
    "    expression = re.sub(r\"\\'s\", \" is\", expression)\n",
    "    expression = re.sub(r\"\\'d\", \" would\", expression)\n",
    "    expression = re.sub(r\"\\'ll\", \" will\", expression)\n",
    "    expression = re.sub(r\"\\'t\", \" not\", expression)\n",
    "    expression = re.sub(r\"\\'ve\", \" have\", expression)\n",
    "    expression = re.sub(r\"\\'m\", \" am\", expression)\n",
    "\n",
    "    expression = re.sub(r\"n\\’t\", \" not\", expression)\n",
    "    expression = re.sub(r\"\\’re\", \" are\", expression)\n",
    "    expression = re.sub(r\"\\’s\", \" is\", expression)\n",
    "    expression = re.sub(r\"\\’d\", \" would\", expression)\n",
    "    expression = re.sub(r\"\\’ll\", \" will\", expression)\n",
    "    expression = re.sub(r\"\\’t\", \" not\", expression)\n",
    "    expression = re.sub(r\"\\’ve\", \" have\", expression)\n",
    "    expression = re.sub(r\"\\’m\", \" am\", expression)\n",
    "\n",
    "    return expression"
   ]
  },
  {
   "cell_type": "code",
   "execution_count": 4,
   "metadata": {
    "id": "gEfKPFZJuiPM"
   },
   "outputs": [],
   "source": [
    "# function for data pre-processing\n",
    "\n",
    "# this function converts all the text into lowercase letters\n",
    "# uses the function in https://gist.github.com/anandborad/d410a49a493b56dace4f814ab5325bbd to remove the contractions\n",
    "# remove all the spacial characters except for space: ' '\n",
    "\n",
    "def preprocess(text):\n",
    "\n",
    "    text = text.lower()\n",
    "    text = decontractions(text)\n",
    "    text = re.sub('[^A-Za-z0-9,.?! ]+', '', text)\n",
    "    text = text.split()\n",
    "    text = \" \".join(text)\n",
    "    return text"
   ]
  },
  {
   "cell_type": "code",
   "execution_count": 5,
   "metadata": {
    "colab": {
     "base_uri": "https://localhost:8080/"
    },
    "id": "s2xAznQkunLR",
    "outputId": "eb7a2fa4-626b-4d62-f8fc-86739be7fb5f"
   },
   "outputs": [
    {
     "name": "stdout",
     "output_type": "stream",
     "text": [
      "Cloning into 'Transformer-based-chatbot'...\n",
      "remote: Enumerating objects: 7, done.\u001b[K\n",
      "remote: Counting objects: 100% (7/7), done.\u001b[K\n",
      "remote: Compressing objects: 100% (5/5), done.\u001b[K\n",
      "remote: Total 7 (delta 2), reused 5 (delta 0), pack-reused 0\u001b[K\n",
      "Unpacking objects: 100% (7/7), 16.41 KiB | 4.10 MiB/s, done.\n"
     ]
    }
   ],
   "source": [
    "# upload the data file from GitHub repository\n",
    "\n",
    "!git clone https://github.com/RavindishaWi/Transformer-based-chatbot.git"
   ]
  },
  {
   "cell_type": "code",
   "execution_count": 6,
   "metadata": {
    "colab": {
     "base_uri": "https://localhost:8080/",
     "height": 206
    },
    "id": "_6Mthi45vOC_",
    "outputId": "b1e1c700-0736-4e03-aff6-d979dd56cef2"
   },
   "outputs": [
    {
     "data": {
      "text/html": [
       "\n",
       "  <div id=\"df-3d9cfed5-8447-40b8-a227-697f3d5a6c68\">\n",
       "    <div class=\"colab-df-container\">\n",
       "      <div>\n",
       "<style scoped>\n",
       "    .dataframe tbody tr th:only-of-type {\n",
       "        vertical-align: middle;\n",
       "    }\n",
       "\n",
       "    .dataframe tbody tr th {\n",
       "        vertical-align: top;\n",
       "    }\n",
       "\n",
       "    .dataframe thead th {\n",
       "        text-align: right;\n",
       "    }\n",
       "</style>\n",
       "<table border=\"1\" class=\"dataframe\">\n",
       "  <thead>\n",
       "    <tr style=\"text-align: right;\">\n",
       "      <th></th>\n",
       "      <th>intents</th>\n",
       "    </tr>\n",
       "  </thead>\n",
       "  <tbody>\n",
       "    <tr>\n",
       "      <th>0</th>\n",
       "      <td>{'tag': 'greeting-1', 'patterns': 'Hi', 'respo...</td>\n",
       "    </tr>\n",
       "    <tr>\n",
       "      <th>1</th>\n",
       "      <td>{'tag': 'greeting-2', 'patterns': 'Hey', 'resp...</td>\n",
       "    </tr>\n",
       "    <tr>\n",
       "      <th>2</th>\n",
       "      <td>{'tag': 'greeting-3', 'patterns': 'Is anyone t...</td>\n",
       "    </tr>\n",
       "    <tr>\n",
       "      <th>3</th>\n",
       "      <td>{'tag': 'greeting-4', 'patterns': 'Hi there', ...</td>\n",
       "    </tr>\n",
       "    <tr>\n",
       "      <th>4</th>\n",
       "      <td>{'tag': 'greeting-5', 'patterns': 'Hello', 're...</td>\n",
       "    </tr>\n",
       "  </tbody>\n",
       "</table>\n",
       "</div>\n",
       "      <button class=\"colab-df-convert\" onclick=\"convertToInteractive('df-3d9cfed5-8447-40b8-a227-697f3d5a6c68')\"\n",
       "              title=\"Convert this dataframe to an interactive table.\"\n",
       "              style=\"display:none;\">\n",
       "        \n",
       "  <svg xmlns=\"http://www.w3.org/2000/svg\" height=\"24px\"viewBox=\"0 0 24 24\"\n",
       "       width=\"24px\">\n",
       "    <path d=\"M0 0h24v24H0V0z\" fill=\"none\"/>\n",
       "    <path d=\"M18.56 5.44l.94 2.06.94-2.06 2.06-.94-2.06-.94-.94-2.06-.94 2.06-2.06.94zm-11 1L8.5 8.5l.94-2.06 2.06-.94-2.06-.94L8.5 2.5l-.94 2.06-2.06.94zm10 10l.94 2.06.94-2.06 2.06-.94-2.06-.94-.94-2.06-.94 2.06-2.06.94z\"/><path d=\"M17.41 7.96l-1.37-1.37c-.4-.4-.92-.59-1.43-.59-.52 0-1.04.2-1.43.59L10.3 9.45l-7.72 7.72c-.78.78-.78 2.05 0 2.83L4 21.41c.39.39.9.59 1.41.59.51 0 1.02-.2 1.41-.59l7.78-7.78 2.81-2.81c.8-.78.8-2.07 0-2.86zM5.41 20L4 18.59l7.72-7.72 1.47 1.35L5.41 20z\"/>\n",
       "  </svg>\n",
       "      </button>\n",
       "      \n",
       "  <style>\n",
       "    .colab-df-container {\n",
       "      display:flex;\n",
       "      flex-wrap:wrap;\n",
       "      gap: 12px;\n",
       "    }\n",
       "\n",
       "    .colab-df-convert {\n",
       "      background-color: #E8F0FE;\n",
       "      border: none;\n",
       "      border-radius: 50%;\n",
       "      cursor: pointer;\n",
       "      display: none;\n",
       "      fill: #1967D2;\n",
       "      height: 32px;\n",
       "      padding: 0 0 0 0;\n",
       "      width: 32px;\n",
       "    }\n",
       "\n",
       "    .colab-df-convert:hover {\n",
       "      background-color: #E2EBFA;\n",
       "      box-shadow: 0px 1px 2px rgba(60, 64, 67, 0.3), 0px 1px 3px 1px rgba(60, 64, 67, 0.15);\n",
       "      fill: #174EA6;\n",
       "    }\n",
       "\n",
       "    [theme=dark] .colab-df-convert {\n",
       "      background-color: #3B4455;\n",
       "      fill: #D2E3FC;\n",
       "    }\n",
       "\n",
       "    [theme=dark] .colab-df-convert:hover {\n",
       "      background-color: #434B5C;\n",
       "      box-shadow: 0px 1px 3px 1px rgba(0, 0, 0, 0.15);\n",
       "      filter: drop-shadow(0px 1px 2px rgba(0, 0, 0, 0.3));\n",
       "      fill: #FFFFFF;\n",
       "    }\n",
       "  </style>\n",
       "\n",
       "      <script>\n",
       "        const buttonEl =\n",
       "          document.querySelector('#df-3d9cfed5-8447-40b8-a227-697f3d5a6c68 button.colab-df-convert');\n",
       "        buttonEl.style.display =\n",
       "          google.colab.kernel.accessAllowed ? 'block' : 'none';\n",
       "\n",
       "        async function convertToInteractive(key) {\n",
       "          const element = document.querySelector('#df-3d9cfed5-8447-40b8-a227-697f3d5a6c68');\n",
       "          const dataTable =\n",
       "            await google.colab.kernel.invokeFunction('convertToInteractive',\n",
       "                                                     [key], {});\n",
       "          if (!dataTable) return;\n",
       "\n",
       "          const docLinkHtml = 'Like what you see? Visit the ' +\n",
       "            '<a target=\"_blank\" href=https://colab.research.google.com/notebooks/data_table.ipynb>data table notebook</a>'\n",
       "            + ' to learn more about interactive tables.';\n",
       "          element.innerHTML = '';\n",
       "          dataTable['output_type'] = 'display_data';\n",
       "          await google.colab.output.renderOutput(dataTable, element);\n",
       "          const docLink = document.createElement('div');\n",
       "          docLink.innerHTML = docLinkHtml;\n",
       "          element.appendChild(docLink);\n",
       "        }\n",
       "      </script>\n",
       "    </div>\n",
       "  </div>\n",
       "  "
      ],
      "text/plain": [
       "                                             intents\n",
       "0  {'tag': 'greeting-1', 'patterns': 'Hi', 'respo...\n",
       "1  {'tag': 'greeting-2', 'patterns': 'Hey', 'resp...\n",
       "2  {'tag': 'greeting-3', 'patterns': 'Is anyone t...\n",
       "3  {'tag': 'greeting-4', 'patterns': 'Hi there', ...\n",
       "4  {'tag': 'greeting-5', 'patterns': 'Hello', 're..."
      ]
     },
     "execution_count": 6,
     "metadata": {},
     "output_type": "execute_result"
    }
   ],
   "source": [
    "# Reading the JSON data file\n",
    "\n",
    "json_data = pd.read_json('/content/Transformer-based-chatbot/data/chatbot-intents.json')\n",
    "json_data.head()"
   ]
  },
  {
   "cell_type": "code",
   "execution_count": 7,
   "metadata": {
    "colab": {
     "base_uri": "https://localhost:8080/"
    },
    "id": "tXJTHxW7vSsY",
    "outputId": "9c99764c-e01b-4cb0-f77d-a4480da8d58b"
   },
   "outputs": [
    {
     "name": "stdout",
     "output_type": "stream",
     "text": [
      "                                               intents\n",
      "0    {'tag': 'greeting-1', 'patterns': 'Hi', 'respo...\n",
      "1    {'tag': 'greeting-2', 'patterns': 'Hey', 'resp...\n",
      "2    {'tag': 'greeting-3', 'patterns': 'Is anyone t...\n",
      "3    {'tag': 'greeting-4', 'patterns': 'Hi there', ...\n",
      "4    {'tag': 'greeting-5', 'patterns': 'Hello', 're...\n",
      "..                                                 ...\n",
      "233  {'tag': 'fact-76', 'patterns': 'What do you kn...\n",
      "234  {'tag': 'fact-77', 'patterns': 'Tell me about ...\n",
      "235  {'tag': 'fact-78', 'patterns': 'Define mental ...\n",
      "236  {'tag': 'fact-79', 'patterns': 'Am i suffering...\n",
      "237  {'tag': 'fact-80', 'patterns': 'Am i mentally ...\n",
      "\n",
      "[238 rows x 1 columns]\n"
     ]
    }
   ],
   "source": [
    "# view uploaded data\n",
    "\n",
    "print(json_data)"
   ]
  },
  {
   "cell_type": "code",
   "execution_count": 8,
   "metadata": {
    "colab": {
     "base_uri": "https://localhost:8080/",
     "height": 424
    },
    "id": "YqEq8S1HvWRm",
    "outputId": "f09ba076-e457-48c1-ffd6-554e30a0291e"
   },
   "outputs": [
    {
     "data": {
      "text/html": [
       "\n",
       "  <div id=\"df-ede0f78f-c575-4039-be5f-7678bd323699\">\n",
       "    <div class=\"colab-df-container\">\n",
       "      <div>\n",
       "<style scoped>\n",
       "    .dataframe tbody tr th:only-of-type {\n",
       "        vertical-align: middle;\n",
       "    }\n",
       "\n",
       "    .dataframe tbody tr th {\n",
       "        vertical-align: top;\n",
       "    }\n",
       "\n",
       "    .dataframe thead th {\n",
       "        text-align: right;\n",
       "    }\n",
       "</style>\n",
       "<table border=\"1\" class=\"dataframe\">\n",
       "  <thead>\n",
       "    <tr style=\"text-align: right;\">\n",
       "      <th></th>\n",
       "      <th>intents</th>\n",
       "    </tr>\n",
       "  </thead>\n",
       "  <tbody>\n",
       "    <tr>\n",
       "      <th>0</th>\n",
       "      <td>{'tag': 'greeting-1', 'patterns': 'Hi', 'respo...</td>\n",
       "    </tr>\n",
       "    <tr>\n",
       "      <th>1</th>\n",
       "      <td>{'tag': 'greeting-2', 'patterns': 'Hey', 'resp...</td>\n",
       "    </tr>\n",
       "    <tr>\n",
       "      <th>2</th>\n",
       "      <td>{'tag': 'greeting-3', 'patterns': 'Is anyone t...</td>\n",
       "    </tr>\n",
       "    <tr>\n",
       "      <th>3</th>\n",
       "      <td>{'tag': 'greeting-4', 'patterns': 'Hi there', ...</td>\n",
       "    </tr>\n",
       "    <tr>\n",
       "      <th>4</th>\n",
       "      <td>{'tag': 'greeting-5', 'patterns': 'Hello', 're...</td>\n",
       "    </tr>\n",
       "    <tr>\n",
       "      <th>...</th>\n",
       "      <td>...</td>\n",
       "    </tr>\n",
       "    <tr>\n",
       "      <th>233</th>\n",
       "      <td>{'tag': 'fact-76', 'patterns': 'What do you kn...</td>\n",
       "    </tr>\n",
       "    <tr>\n",
       "      <th>234</th>\n",
       "      <td>{'tag': 'fact-77', 'patterns': 'Tell me about ...</td>\n",
       "    </tr>\n",
       "    <tr>\n",
       "      <th>235</th>\n",
       "      <td>{'tag': 'fact-78', 'patterns': 'Define mental ...</td>\n",
       "    </tr>\n",
       "    <tr>\n",
       "      <th>236</th>\n",
       "      <td>{'tag': 'fact-79', 'patterns': 'Am i suffering...</td>\n",
       "    </tr>\n",
       "    <tr>\n",
       "      <th>237</th>\n",
       "      <td>{'tag': 'fact-80', 'patterns': 'Am i mentally ...</td>\n",
       "    </tr>\n",
       "  </tbody>\n",
       "</table>\n",
       "<p>238 rows × 1 columns</p>\n",
       "</div>\n",
       "      <button class=\"colab-df-convert\" onclick=\"convertToInteractive('df-ede0f78f-c575-4039-be5f-7678bd323699')\"\n",
       "              title=\"Convert this dataframe to an interactive table.\"\n",
       "              style=\"display:none;\">\n",
       "        \n",
       "  <svg xmlns=\"http://www.w3.org/2000/svg\" height=\"24px\"viewBox=\"0 0 24 24\"\n",
       "       width=\"24px\">\n",
       "    <path d=\"M0 0h24v24H0V0z\" fill=\"none\"/>\n",
       "    <path d=\"M18.56 5.44l.94 2.06.94-2.06 2.06-.94-2.06-.94-.94-2.06-.94 2.06-2.06.94zm-11 1L8.5 8.5l.94-2.06 2.06-.94-2.06-.94L8.5 2.5l-.94 2.06-2.06.94zm10 10l.94 2.06.94-2.06 2.06-.94-2.06-.94-.94-2.06-.94 2.06-2.06.94z\"/><path d=\"M17.41 7.96l-1.37-1.37c-.4-.4-.92-.59-1.43-.59-.52 0-1.04.2-1.43.59L10.3 9.45l-7.72 7.72c-.78.78-.78 2.05 0 2.83L4 21.41c.39.39.9.59 1.41.59.51 0 1.02-.2 1.41-.59l7.78-7.78 2.81-2.81c.8-.78.8-2.07 0-2.86zM5.41 20L4 18.59l7.72-7.72 1.47 1.35L5.41 20z\"/>\n",
       "  </svg>\n",
       "      </button>\n",
       "      \n",
       "  <style>\n",
       "    .colab-df-container {\n",
       "      display:flex;\n",
       "      flex-wrap:wrap;\n",
       "      gap: 12px;\n",
       "    }\n",
       "\n",
       "    .colab-df-convert {\n",
       "      background-color: #E8F0FE;\n",
       "      border: none;\n",
       "      border-radius: 50%;\n",
       "      cursor: pointer;\n",
       "      display: none;\n",
       "      fill: #1967D2;\n",
       "      height: 32px;\n",
       "      padding: 0 0 0 0;\n",
       "      width: 32px;\n",
       "    }\n",
       "\n",
       "    .colab-df-convert:hover {\n",
       "      background-color: #E2EBFA;\n",
       "      box-shadow: 0px 1px 2px rgba(60, 64, 67, 0.3), 0px 1px 3px 1px rgba(60, 64, 67, 0.15);\n",
       "      fill: #174EA6;\n",
       "    }\n",
       "\n",
       "    [theme=dark] .colab-df-convert {\n",
       "      background-color: #3B4455;\n",
       "      fill: #D2E3FC;\n",
       "    }\n",
       "\n",
       "    [theme=dark] .colab-df-convert:hover {\n",
       "      background-color: #434B5C;\n",
       "      box-shadow: 0px 1px 3px 1px rgba(0, 0, 0, 0.15);\n",
       "      filter: drop-shadow(0px 1px 2px rgba(0, 0, 0, 0.3));\n",
       "      fill: #FFFFFF;\n",
       "    }\n",
       "  </style>\n",
       "\n",
       "      <script>\n",
       "        const buttonEl =\n",
       "          document.querySelector('#df-ede0f78f-c575-4039-be5f-7678bd323699 button.colab-df-convert');\n",
       "        buttonEl.style.display =\n",
       "          google.colab.kernel.accessAllowed ? 'block' : 'none';\n",
       "\n",
       "        async function convertToInteractive(key) {\n",
       "          const element = document.querySelector('#df-ede0f78f-c575-4039-be5f-7678bd323699');\n",
       "          const dataTable =\n",
       "            await google.colab.kernel.invokeFunction('convertToInteractive',\n",
       "                                                     [key], {});\n",
       "          if (!dataTable) return;\n",
       "\n",
       "          const docLinkHtml = 'Like what you see? Visit the ' +\n",
       "            '<a target=\"_blank\" href=https://colab.research.google.com/notebooks/data_table.ipynb>data table notebook</a>'\n",
       "            + ' to learn more about interactive tables.';\n",
       "          element.innerHTML = '';\n",
       "          dataTable['output_type'] = 'display_data';\n",
       "          await google.colab.output.renderOutput(dataTable, element);\n",
       "          const docLink = document.createElement('div');\n",
       "          docLink.innerHTML = docLinkHtml;\n",
       "          element.appendChild(docLink);\n",
       "        }\n",
       "      </script>\n",
       "    </div>\n",
       "  </div>\n",
       "  "
      ],
      "text/plain": [
       "                                               intents\n",
       "0    {'tag': 'greeting-1', 'patterns': 'Hi', 'respo...\n",
       "1    {'tag': 'greeting-2', 'patterns': 'Hey', 'resp...\n",
       "2    {'tag': 'greeting-3', 'patterns': 'Is anyone t...\n",
       "3    {'tag': 'greeting-4', 'patterns': 'Hi there', ...\n",
       "4    {'tag': 'greeting-5', 'patterns': 'Hello', 're...\n",
       "..                                                 ...\n",
       "233  {'tag': 'fact-76', 'patterns': 'What do you kn...\n",
       "234  {'tag': 'fact-77', 'patterns': 'Tell me about ...\n",
       "235  {'tag': 'fact-78', 'patterns': 'Define mental ...\n",
       "236  {'tag': 'fact-79', 'patterns': 'Am i suffering...\n",
       "237  {'tag': 'fact-80', 'patterns': 'Am i mentally ...\n",
       "\n",
       "[238 rows x 1 columns]"
      ]
     },
     "execution_count": 8,
     "metadata": {},
     "output_type": "execute_result"
    }
   ],
   "source": [
    "# read JSON data file to dataframe\n",
    "\n",
    "with open('/content/Transformer-based-chatbot/data/chatbot-intents.json', encoding='utf-8') as inputfile:\n",
    "    df = pd.read_json(inputfile)\n",
    "    \n",
    "# convert from dataframe to CSV\n",
    "\n",
    "df.to_csv('chatbot-intents.csv', encoding='utf-8', index=False)\n",
    "\n",
    "# view data in dataframe\n",
    "df"
   ]
  },
  {
   "cell_type": "code",
   "execution_count": 9,
   "metadata": {
    "colab": {
     "base_uri": "https://localhost:8080/",
     "height": 424
    },
    "id": "EHzxfjIuvcSK",
    "outputId": "1209eeb0-de2b-4790-e3dd-feb8e93ad182"
   },
   "outputs": [
    {
     "data": {
      "text/html": [
       "\n",
       "  <div id=\"df-c902f42b-d092-4f9c-8bcb-48d5dfc6ae65\">\n",
       "    <div class=\"colab-df-container\">\n",
       "      <div>\n",
       "<style scoped>\n",
       "    .dataframe tbody tr th:only-of-type {\n",
       "        vertical-align: middle;\n",
       "    }\n",
       "\n",
       "    .dataframe tbody tr th {\n",
       "        vertical-align: top;\n",
       "    }\n",
       "\n",
       "    .dataframe thead th {\n",
       "        text-align: right;\n",
       "    }\n",
       "</style>\n",
       "<table border=\"1\" class=\"dataframe\">\n",
       "  <thead>\n",
       "    <tr style=\"text-align: right;\">\n",
       "      <th></th>\n",
       "      <th>tag</th>\n",
       "      <th>patterns</th>\n",
       "      <th>responses</th>\n",
       "    </tr>\n",
       "  </thead>\n",
       "  <tbody>\n",
       "    <tr>\n",
       "      <th>0</th>\n",
       "      <td>greeting-1</td>\n",
       "      <td>Hi</td>\n",
       "      <td>Hello there. Tell me how are you feeling today?</td>\n",
       "    </tr>\n",
       "    <tr>\n",
       "      <th>1</th>\n",
       "      <td>greeting-2</td>\n",
       "      <td>Hey</td>\n",
       "      <td>Hi there. What brings you here today?</td>\n",
       "    </tr>\n",
       "    <tr>\n",
       "      <th>2</th>\n",
       "      <td>greeting-3</td>\n",
       "      <td>Is anyone there?</td>\n",
       "      <td>Hi there. I'm here. How are you feeling today?</td>\n",
       "    </tr>\n",
       "    <tr>\n",
       "      <th>3</th>\n",
       "      <td>greeting-4</td>\n",
       "      <td>Hi there</td>\n",
       "      <td>Hello. How are you feeling today?</td>\n",
       "    </tr>\n",
       "    <tr>\n",
       "      <th>4</th>\n",
       "      <td>greeting-5</td>\n",
       "      <td>Hello</td>\n",
       "      <td>Hello there. Glad to see you're back. What's g...</td>\n",
       "    </tr>\n",
       "    <tr>\n",
       "      <th>...</th>\n",
       "      <td>...</td>\n",
       "      <td>...</td>\n",
       "      <td>...</td>\n",
       "    </tr>\n",
       "    <tr>\n",
       "      <th>233</th>\n",
       "      <td>fact-76</td>\n",
       "      <td>What do you know about depression?</td>\n",
       "      <td>Depression is a common and serious medical ill...</td>\n",
       "    </tr>\n",
       "    <tr>\n",
       "      <th>234</th>\n",
       "      <td>fact-77</td>\n",
       "      <td>Tell me about depression?</td>\n",
       "      <td>Depression causes feelings of sadness and/or a...</td>\n",
       "    </tr>\n",
       "    <tr>\n",
       "      <th>235</th>\n",
       "      <td>fact-78</td>\n",
       "      <td>Define mental health</td>\n",
       "      <td>Mental health includes our emotional, psycholo...</td>\n",
       "    </tr>\n",
       "    <tr>\n",
       "      <th>236</th>\n",
       "      <td>fact-79</td>\n",
       "      <td>Am i suffering from depression?</td>\n",
       "      <td>For a diagnosis of depression, a person needs ...</td>\n",
       "    </tr>\n",
       "    <tr>\n",
       "      <th>237</th>\n",
       "      <td>fact-80</td>\n",
       "      <td>Am i mentally ill?</td>\n",
       "      <td>For a diagnosis of mental illness, a person ne...</td>\n",
       "    </tr>\n",
       "  </tbody>\n",
       "</table>\n",
       "<p>238 rows × 3 columns</p>\n",
       "</div>\n",
       "      <button class=\"colab-df-convert\" onclick=\"convertToInteractive('df-c902f42b-d092-4f9c-8bcb-48d5dfc6ae65')\"\n",
       "              title=\"Convert this dataframe to an interactive table.\"\n",
       "              style=\"display:none;\">\n",
       "        \n",
       "  <svg xmlns=\"http://www.w3.org/2000/svg\" height=\"24px\"viewBox=\"0 0 24 24\"\n",
       "       width=\"24px\">\n",
       "    <path d=\"M0 0h24v24H0V0z\" fill=\"none\"/>\n",
       "    <path d=\"M18.56 5.44l.94 2.06.94-2.06 2.06-.94-2.06-.94-.94-2.06-.94 2.06-2.06.94zm-11 1L8.5 8.5l.94-2.06 2.06-.94-2.06-.94L8.5 2.5l-.94 2.06-2.06.94zm10 10l.94 2.06.94-2.06 2.06-.94-2.06-.94-.94-2.06-.94 2.06-2.06.94z\"/><path d=\"M17.41 7.96l-1.37-1.37c-.4-.4-.92-.59-1.43-.59-.52 0-1.04.2-1.43.59L10.3 9.45l-7.72 7.72c-.78.78-.78 2.05 0 2.83L4 21.41c.39.39.9.59 1.41.59.51 0 1.02-.2 1.41-.59l7.78-7.78 2.81-2.81c.8-.78.8-2.07 0-2.86zM5.41 20L4 18.59l7.72-7.72 1.47 1.35L5.41 20z\"/>\n",
       "  </svg>\n",
       "      </button>\n",
       "      \n",
       "  <style>\n",
       "    .colab-df-container {\n",
       "      display:flex;\n",
       "      flex-wrap:wrap;\n",
       "      gap: 12px;\n",
       "    }\n",
       "\n",
       "    .colab-df-convert {\n",
       "      background-color: #E8F0FE;\n",
       "      border: none;\n",
       "      border-radius: 50%;\n",
       "      cursor: pointer;\n",
       "      display: none;\n",
       "      fill: #1967D2;\n",
       "      height: 32px;\n",
       "      padding: 0 0 0 0;\n",
       "      width: 32px;\n",
       "    }\n",
       "\n",
       "    .colab-df-convert:hover {\n",
       "      background-color: #E2EBFA;\n",
       "      box-shadow: 0px 1px 2px rgba(60, 64, 67, 0.3), 0px 1px 3px 1px rgba(60, 64, 67, 0.15);\n",
       "      fill: #174EA6;\n",
       "    }\n",
       "\n",
       "    [theme=dark] .colab-df-convert {\n",
       "      background-color: #3B4455;\n",
       "      fill: #D2E3FC;\n",
       "    }\n",
       "\n",
       "    [theme=dark] .colab-df-convert:hover {\n",
       "      background-color: #434B5C;\n",
       "      box-shadow: 0px 1px 3px 1px rgba(0, 0, 0, 0.15);\n",
       "      filter: drop-shadow(0px 1px 2px rgba(0, 0, 0, 0.3));\n",
       "      fill: #FFFFFF;\n",
       "    }\n",
       "  </style>\n",
       "\n",
       "      <script>\n",
       "        const buttonEl =\n",
       "          document.querySelector('#df-c902f42b-d092-4f9c-8bcb-48d5dfc6ae65 button.colab-df-convert');\n",
       "        buttonEl.style.display =\n",
       "          google.colab.kernel.accessAllowed ? 'block' : 'none';\n",
       "\n",
       "        async function convertToInteractive(key) {\n",
       "          const element = document.querySelector('#df-c902f42b-d092-4f9c-8bcb-48d5dfc6ae65');\n",
       "          const dataTable =\n",
       "            await google.colab.kernel.invokeFunction('convertToInteractive',\n",
       "                                                     [key], {});\n",
       "          if (!dataTable) return;\n",
       "\n",
       "          const docLinkHtml = 'Like what you see? Visit the ' +\n",
       "            '<a target=\"_blank\" href=https://colab.research.google.com/notebooks/data_table.ipynb>data table notebook</a>'\n",
       "            + ' to learn more about interactive tables.';\n",
       "          element.innerHTML = '';\n",
       "          dataTable['output_type'] = 'display_data';\n",
       "          await google.colab.output.renderOutput(dataTable, element);\n",
       "          const docLink = document.createElement('div');\n",
       "          docLink.innerHTML = docLinkHtml;\n",
       "          element.appendChild(docLink);\n",
       "        }\n",
       "      </script>\n",
       "    </div>\n",
       "  </div>\n",
       "  "
      ],
      "text/plain": [
       "            tag                            patterns  \\\n",
       "0    greeting-1                                  Hi   \n",
       "1    greeting-2                                 Hey   \n",
       "2    greeting-3                    Is anyone there?   \n",
       "3    greeting-4                            Hi there   \n",
       "4    greeting-5                               Hello   \n",
       "..          ...                                 ...   \n",
       "233     fact-76  What do you know about depression?   \n",
       "234     fact-77           Tell me about depression?   \n",
       "235     fact-78                Define mental health   \n",
       "236     fact-79     Am i suffering from depression?   \n",
       "237     fact-80                  Am i mentally ill?   \n",
       "\n",
       "                                             responses  \n",
       "0      Hello there. Tell me how are you feeling today?  \n",
       "1                Hi there. What brings you here today?  \n",
       "2       Hi there. I'm here. How are you feeling today?  \n",
       "3                    Hello. How are you feeling today?  \n",
       "4    Hello there. Glad to see you're back. What's g...  \n",
       "..                                                 ...  \n",
       "233  Depression is a common and serious medical ill...  \n",
       "234  Depression causes feelings of sadness and/or a...  \n",
       "235  Mental health includes our emotional, psycholo...  \n",
       "236  For a diagnosis of depression, a person needs ...  \n",
       "237  For a diagnosis of mental illness, a person ne...  \n",
       "\n",
       "[238 rows x 3 columns]"
      ]
     },
     "execution_count": 9,
     "metadata": {},
     "output_type": "execute_result"
    }
   ],
   "source": [
    "# form the dataframe in to three columns: tag, patterns, responses\n",
    "\n",
    "intents = df['intents'].values.tolist()\n",
    "df = pd.DataFrame(intents, columns =['tag', 'patterns','responses'])\n",
    "\n",
    "# view data in dataframe\n",
    "df"
   ]
  },
  {
   "cell_type": "code",
   "execution_count": 10,
   "metadata": {
    "colab": {
     "base_uri": "https://localhost:8080/"
    },
    "id": "PO74-_w-vg5o",
    "outputId": "c4c7fa81-62d2-48ba-ad5b-96d9d248cf44"
   },
   "outputs": [
    {
     "name": "stdout",
     "output_type": "stream",
     "text": [
      "            tag                            patterns  \\\n",
      "0    greeting-1                                  Hi   \n",
      "1    greeting-2                                 Hey   \n",
      "2    greeting-3                    Is anyone there?   \n",
      "3    greeting-4                            Hi there   \n",
      "4    greeting-5                               Hello   \n",
      "..          ...                                 ...   \n",
      "233     fact-76  What do you know about depression?   \n",
      "234     fact-77           Tell me about depression?   \n",
      "235     fact-78                Define mental health   \n",
      "236     fact-79     Am i suffering from depression?   \n",
      "237     fact-80                  Am i mentally ill?   \n",
      "\n",
      "                                             responses  \n",
      "0      Hello there. Tell me how are you feeling today?  \n",
      "1                Hi there. What brings you here today?  \n",
      "2       Hi there. I'm here. How are you feeling today?  \n",
      "3                    Hello. How are you feeling today?  \n",
      "4    Hello there. Glad to see you're back. What's g...  \n",
      "..                                                 ...  \n",
      "233  Depression is a common and serious medical ill...  \n",
      "234  Depression causes feelings of sadness and/or a...  \n",
      "235  Mental health includes our emotional, psycholo...  \n",
      "236  For a diagnosis of depression, a person needs ...  \n",
      "237  For a diagnosis of mental illness, a person ne...  \n",
      "\n",
      "[238 rows x 3 columns]\n"
     ]
    }
   ],
   "source": [
    "# convert dataframe to CSV file\n",
    "df.to_csv(\"chatbot-intents.csv\", index=False)\n",
    " \n",
    "# load the resultant CSV file\n",
    "result_data_csv = pd.read_csv(\"chatbot-intents.csv\")\n",
    " \n",
    "# and view the data\n",
    "print(result_data_csv)"
   ]
  },
  {
   "cell_type": "code",
   "execution_count": 11,
   "metadata": {
    "colab": {
     "base_uri": "https://localhost:8080/"
    },
    "id": "mcCiyXXYvlRB",
    "outputId": "5acafcdd-666b-4466-a938-3dd1268c1622"
   },
   "outputs": [
    {
     "data": {
      "text/plain": [
       "array(['Hi', 'Hey', 'Is anyone there?', 'Hi there', 'Hello', 'Hola',\n",
       "       'Good morning', 'Good afternoon', 'Good evening', 'Good night',\n",
       "       'Bye', 'See you later', 'Goodbye', 'Sayonara', 'ok bye then',\n",
       "       'Thanks', 'Thank you', \"That's helpful\", 'Thanks for the help',\n",
       "       'Thank you very much', '', 'nothing much', 'Who are you?',\n",
       "       'What are you?', 'Tell me more about yourself.',\n",
       "       'What is your name?', 'What should I call you?',\n",
       "       'Tell me about yourself', 'Who you are?', 'What can you do?',\n",
       "       'Who created you?', 'How were you made?', 'How were you created?',\n",
       "       'My name is ', 'I am name.', 'I go by ', 'Could you help me?',\n",
       "       'give me a hand please', 'Can you help?',\n",
       "       'What can you do for me?', 'I need support', 'I need help',\n",
       "       'Support me please', 'I am feeling so lonely', 'I feel down',\n",
       "       'I feel sad', 'I am sad', \"I'm feeling sad\", 'I am feeling lonely',\n",
       "       'I am so lonely', 'I feel down', 'I feel so lonely',\n",
       "       'I feel empty', \"I don't have anyone\", 'I am so stressed out',\n",
       "       'I feel stuck', 'I still feel stressed', 'I am so burned out',\n",
       "       'I feel so worthless.', 'No one likes me.', \"I can't do anything.\",\n",
       "       'I am so useless', 'Nothing makes sense anymore',\n",
       "       \"I can't take it anymore\", 'I am so depressed',\n",
       "       'I think I have depression', 'I feel great today.', 'I am happy.',\n",
       "       'I feel happy.', \"I'm good.\", 'cheerful', \"I'm fine\", 'I feel ok',\n",
       "       'Oh I see. Okay', 'ok', 'nice', 'Whatever', 'Fine', 'yeah', 'yes',\n",
       "       'no', 'not really', 'I feel so anxious.',\n",
       "       \"I'm feeling anxious lately\", \"I'm so anxious because of \",\n",
       "       'I think I have anxiety because of ',\n",
       "       \"I don't want to talk about it.\", 'No just stay away.',\n",
       "       \"I can't bring myself to open up.\", 'Just shut up',\n",
       "       'I have insominia',\n",
       "       \"I haven't had proper sleep for the past few days.\", \"I'm scared\",\n",
       "       'That sounds awful. What do i do?',\n",
       "       \"No i don't want to feel this way\", 'I am scared for myself',\n",
       "       'My mom died', 'My dad passed away', 'Someone in my family died',\n",
       "       \"You don't understand me.\",\n",
       "       \"You're just some robot. How would you know?\",\n",
       "       \"You can't possibly know what i'm going through\", \"You're useless\",\n",
       "       \"You can't help me\", 'Nobody understands me.', \"That's all.\",\n",
       "       \"I don't have anything more to say\", 'Nothing else',\n",
       "       \"That's all i have to say\", 'no, that would be all',\n",
       "       'I want to kill myself', \"I've thought about killing myself.\",\n",
       "       'I want to die', 'I am going to kill myself',\n",
       "       'I am going to commit suicide', 'I hate you', \"I don't like you\",\n",
       "       \"I don't trust you\", 'You hate me', \"You don't like me\", 'exams',\n",
       "       'friends', 'relationship', 'boyfriend', 'girlfriend', 'family',\n",
       "       'money', 'financial problems', 'Tell me a joke',\n",
       "       'You already told me that', 'You mentioned that already',\n",
       "       'Why are you repeating yourself?', 'What are you saying?',\n",
       "       \"That doesn't make sense\", 'Wrong answer', 'Are you stupid?',\n",
       "       \"You're crazy\", 'You are dumb', 'Are you dumb?',\n",
       "       'Where do you live?', 'Where are you?', 'What is your location?',\n",
       "       'I want to talk about something else',\n",
       "       'Can we not talk about this?', \"Let's talk about something else.\",\n",
       "       \"I don't want to talk about this.\", \"I don't have any friends\",\n",
       "       'Can I ask you something?',\n",
       "       \"Probably because of my exams. I feel stressed out because I don't think I've prepared well enough.\",\n",
       "       'I guess not. All I can think about are my exams. Not really',\n",
       "       'yes, i would like to learn more about it.',\n",
       "       \"yeah you're right. i deserve a break.\",\n",
       "       'hmmm that sounds like it could be useful to me.',\n",
       "       'i did what you said and i feel alot better now. thank you very much.',\n",
       "       \"thank you very much again. i'll continue practicing meditation and focus on what i can control.\",\n",
       "       'I need some advice on something.',\n",
       "       'I want to learn about mental health.',\n",
       "       'Tell me a fact about mental health',\n",
       "       'Tell me another fact about mental health',\n",
       "       'What is mental health?', 'Why is mental health important?',\n",
       "       'What is Depression?', 'How do i know if i have Depression?',\n",
       "       'What does a therapist do?', 'What is therapy?',\n",
       "       'What does it mean to have a mental illness?',\n",
       "       'Who does mental illness affect?', 'What causes mental illness?',\n",
       "       'What are some of the warning signs of mental illness?',\n",
       "       'Can people with mental illness recover?',\n",
       "       'What should I do if I know someone who appears to have the symptoms of a mental disorder?',\n",
       "       'How can I find a mental health professional for myself or my child?',\n",
       "       'What treatment options are available?',\n",
       "       'If I become involved in treatment, what do I need to know?',\n",
       "       'What is the difference between mental health professionals?',\n",
       "       'How can I find a mental health professional right for my child or myself?',\n",
       "       'Where else can I get help?',\n",
       "       'What should I know before starting a new medication?',\n",
       "       'Where can I go to find therapy?',\n",
       "       'Where can I learn about types of mental health treatment?',\n",
       "       'What are the different types of mental health professionals?',\n",
       "       'Where can I go to find a support group?',\n",
       "       'Can you prevent mental health problems?',\n",
       "       'is there any cure for mental health problems?',\n",
       "       'What causes mental health problems?',\n",
       "       \"What do I do if I'm worried about my mental health?\",\n",
       "       \"How do I know if I'm unwell?\",\n",
       "       'How can I maintain social connections? What if I feel lonely?',\n",
       "       \"What's the difference between anxiety and stress?\",\n",
       "       \"What's the difference between sadness and depression?\",\n",
       "       'I feel I have let my parents down',\n",
       "       'What are the types of depression?', 'I am good for nothing',\n",
       "       \"I'm feeling stressed lately\", \"I'm afraid I will fail again\",\n",
       "       'What are the causes of depression?',\n",
       "       'What are the top causes of depression?',\n",
       "       'Which age group has the highest rate of depression?',\n",
       "       'Which country has the highest rate of depression?',\n",
       "       'Which country has the lowest rate of depression?',\n",
       "       'Which country has the lowest rate of depression?',\n",
       "       'Is school a cause of depression?',\n",
       "       'Is school a cause of depression?',\n",
       "       'What is the biological cause of depression?',\n",
       "       'How does depression affect the world?',\n",
       "       'What is the meaning of anxiety and depression?',\n",
       "       'Does oversleeping cause depression?',\n",
       "       'Can lack of sleep make you feel sad?',\n",
       "       'How long can Anxiety last?', 'What are the stages of anxiety?',\n",
       "       'Why is anxiety bad for you?',\n",
       "       'What is the 3 3 3 rule for anxiety?',\n",
       "       'How can we reduce anxiety?', 'I think I am ugly',\n",
       "       'I think I am ugly', 'I wish I was better than them',\n",
       "       'I hate myself', 'I hate losing', \"I think I'm losing my mind\",\n",
       "       'I want a break', 'I will never succeed in life',\n",
       "       'I will never succeed in life', 'I am a victim of bullying',\n",
       "       'I am afraid to file a case against bullying', 'I wish to quit',\n",
       "       'I want to leave the country and run away', 'My time has come',\n",
       "       'I let everyone down', 'I want to quit', 'Who is therapy for?',\n",
       "       'Do i need therapy?', 'Am i depressed?', 'Define depression',\n",
       "       'What do you know about depression?', 'Tell me about depression?',\n",
       "       'Define mental health', 'Am i suffering from depression?',\n",
       "       'Am i mentally ill?'], dtype=object)"
      ]
     },
     "execution_count": 11,
     "metadata": {},
     "output_type": "execute_result"
    }
   ],
   "source": [
    "# view pattern values array\n",
    "\n",
    "df.patterns.values"
   ]
  },
  {
   "cell_type": "markdown",
   "metadata": {
    "id": "YmRK9i7Bvswm"
   },
   "source": [
    "<h3>Data Pre-processing</h3>"
   ]
  },
  {
   "cell_type": "code",
   "execution_count": 12,
   "metadata": {
    "colab": {
     "base_uri": "https://localhost:8080/"
    },
    "id": "zaAFG8EivpWG",
    "outputId": "1b604bc7-1adb-4f0f-f1a9-ee487e069f70"
   },
   "outputs": [
    {
     "data": {
      "text/plain": [
       "tag          0\n",
       "patterns     0\n",
       "responses    0\n",
       "dtype: int64"
      ]
     },
     "execution_count": 12,
     "metadata": {},
     "output_type": "execute_result"
    }
   ],
   "source": [
    "# get the sum of NaN values in each column\n",
    "\n",
    "df.isna().sum()"
   ]
  },
  {
   "cell_type": "code",
   "execution_count": 13,
   "metadata": {
    "colab": {
     "base_uri": "https://localhost:8080/"
    },
    "id": "sPq9EELNv1cd",
    "outputId": "28098776-460e-4101-ec24-530138249ac1"
   },
   "outputs": [
    {
     "data": {
      "text/plain": [
       "tag          0.0\n",
       "patterns     0.0\n",
       "responses    0.0\n",
       "dtype: float64"
      ]
     },
     "execution_count": 13,
     "metadata": {},
     "output_type": "execute_result"
    }
   ],
   "source": [
    "# percentage of missing values of each column\n",
    "\n",
    "df.isna().sum()/len(df)*100"
   ]
  },
  {
   "cell_type": "markdown",
   "metadata": {
    "id": "RIFNRpmXv9N9"
   },
   "source": [
    "<p>There are no NaN values in this dataset. Therefore, it is safe to use the data as it is for training the model.</p>"
   ]
  },
  {
   "cell_type": "code",
   "execution_count": 14,
   "metadata": {
    "colab": {
     "base_uri": "https://localhost:8080/"
    },
    "id": "Z-9Xtri_v45I",
    "outputId": "95708f7a-f11d-49fc-f828-7da7f060f6a5"
   },
   "outputs": [
    {
     "name": "stdout",
     "output_type": "stream",
     "text": [
      "<class 'pandas.core.frame.DataFrame'>\n",
      "RangeIndex: 238 entries, 0 to 237\n",
      "Data columns (total 3 columns):\n",
      " #   Column     Non-Null Count  Dtype \n",
      "---  ------     --------------  ----- \n",
      " 0   tag        238 non-null    object\n",
      " 1   patterns   238 non-null    object\n",
      " 2   responses  238 non-null    object\n",
      "dtypes: object(3)\n",
      "memory usage: 5.7+ KB\n"
     ]
    }
   ],
   "source": [
    "# check the data type and other information of the data\n",
    "\n",
    "df.info()"
   ]
  },
  {
   "cell_type": "code",
   "execution_count": 15,
   "metadata": {
    "colab": {
     "base_uri": "https://localhost:8080/",
     "height": 206
    },
    "id": "vC2uqta_wEdW",
    "outputId": "8bca5e76-9b8d-4c5a-c2f9-433cbfbb2627"
   },
   "outputs": [
    {
     "data": {
      "text/html": [
       "\n",
       "  <div id=\"df-dd345cc7-4b82-48a1-8406-b598ed214427\">\n",
       "    <div class=\"colab-df-container\">\n",
       "      <div>\n",
       "<style scoped>\n",
       "    .dataframe tbody tr th:only-of-type {\n",
       "        vertical-align: middle;\n",
       "    }\n",
       "\n",
       "    .dataframe tbody tr th {\n",
       "        vertical-align: top;\n",
       "    }\n",
       "\n",
       "    .dataframe thead th {\n",
       "        text-align: right;\n",
       "    }\n",
       "</style>\n",
       "<table border=\"1\" class=\"dataframe\">\n",
       "  <thead>\n",
       "    <tr style=\"text-align: right;\">\n",
       "      <th></th>\n",
       "      <th>tag</th>\n",
       "      <th>patterns</th>\n",
       "      <th>responses</th>\n",
       "    </tr>\n",
       "  </thead>\n",
       "  <tbody>\n",
       "    <tr>\n",
       "      <th>0</th>\n",
       "      <td>greeting-1</td>\n",
       "      <td>hi</td>\n",
       "      <td>hello there. tell me how are you feeling today?</td>\n",
       "    </tr>\n",
       "    <tr>\n",
       "      <th>1</th>\n",
       "      <td>greeting-2</td>\n",
       "      <td>hey</td>\n",
       "      <td>hi there. what brings you here today?</td>\n",
       "    </tr>\n",
       "    <tr>\n",
       "      <th>2</th>\n",
       "      <td>greeting-3</td>\n",
       "      <td>is anyone there?</td>\n",
       "      <td>hi there. i am here. how are you feeling today?</td>\n",
       "    </tr>\n",
       "    <tr>\n",
       "      <th>3</th>\n",
       "      <td>greeting-4</td>\n",
       "      <td>hi there</td>\n",
       "      <td>hello. how are you feeling today?</td>\n",
       "    </tr>\n",
       "    <tr>\n",
       "      <th>4</th>\n",
       "      <td>greeting-5</td>\n",
       "      <td>hello</td>\n",
       "      <td>hello there. glad to see you are back. what is...</td>\n",
       "    </tr>\n",
       "  </tbody>\n",
       "</table>\n",
       "</div>\n",
       "      <button class=\"colab-df-convert\" onclick=\"convertToInteractive('df-dd345cc7-4b82-48a1-8406-b598ed214427')\"\n",
       "              title=\"Convert this dataframe to an interactive table.\"\n",
       "              style=\"display:none;\">\n",
       "        \n",
       "  <svg xmlns=\"http://www.w3.org/2000/svg\" height=\"24px\"viewBox=\"0 0 24 24\"\n",
       "       width=\"24px\">\n",
       "    <path d=\"M0 0h24v24H0V0z\" fill=\"none\"/>\n",
       "    <path d=\"M18.56 5.44l.94 2.06.94-2.06 2.06-.94-2.06-.94-.94-2.06-.94 2.06-2.06.94zm-11 1L8.5 8.5l.94-2.06 2.06-.94-2.06-.94L8.5 2.5l-.94 2.06-2.06.94zm10 10l.94 2.06.94-2.06 2.06-.94-2.06-.94-.94-2.06-.94 2.06-2.06.94z\"/><path d=\"M17.41 7.96l-1.37-1.37c-.4-.4-.92-.59-1.43-.59-.52 0-1.04.2-1.43.59L10.3 9.45l-7.72 7.72c-.78.78-.78 2.05 0 2.83L4 21.41c.39.39.9.59 1.41.59.51 0 1.02-.2 1.41-.59l7.78-7.78 2.81-2.81c.8-.78.8-2.07 0-2.86zM5.41 20L4 18.59l7.72-7.72 1.47 1.35L5.41 20z\"/>\n",
       "  </svg>\n",
       "      </button>\n",
       "      \n",
       "  <style>\n",
       "    .colab-df-container {\n",
       "      display:flex;\n",
       "      flex-wrap:wrap;\n",
       "      gap: 12px;\n",
       "    }\n",
       "\n",
       "    .colab-df-convert {\n",
       "      background-color: #E8F0FE;\n",
       "      border: none;\n",
       "      border-radius: 50%;\n",
       "      cursor: pointer;\n",
       "      display: none;\n",
       "      fill: #1967D2;\n",
       "      height: 32px;\n",
       "      padding: 0 0 0 0;\n",
       "      width: 32px;\n",
       "    }\n",
       "\n",
       "    .colab-df-convert:hover {\n",
       "      background-color: #E2EBFA;\n",
       "      box-shadow: 0px 1px 2px rgba(60, 64, 67, 0.3), 0px 1px 3px 1px rgba(60, 64, 67, 0.15);\n",
       "      fill: #174EA6;\n",
       "    }\n",
       "\n",
       "    [theme=dark] .colab-df-convert {\n",
       "      background-color: #3B4455;\n",
       "      fill: #D2E3FC;\n",
       "    }\n",
       "\n",
       "    [theme=dark] .colab-df-convert:hover {\n",
       "      background-color: #434B5C;\n",
       "      box-shadow: 0px 1px 3px 1px rgba(0, 0, 0, 0.15);\n",
       "      filter: drop-shadow(0px 1px 2px rgba(0, 0, 0, 0.3));\n",
       "      fill: #FFFFFF;\n",
       "    }\n",
       "  </style>\n",
       "\n",
       "      <script>\n",
       "        const buttonEl =\n",
       "          document.querySelector('#df-dd345cc7-4b82-48a1-8406-b598ed214427 button.colab-df-convert');\n",
       "        buttonEl.style.display =\n",
       "          google.colab.kernel.accessAllowed ? 'block' : 'none';\n",
       "\n",
       "        async function convertToInteractive(key) {\n",
       "          const element = document.querySelector('#df-dd345cc7-4b82-48a1-8406-b598ed214427');\n",
       "          const dataTable =\n",
       "            await google.colab.kernel.invokeFunction('convertToInteractive',\n",
       "                                                     [key], {});\n",
       "          if (!dataTable) return;\n",
       "\n",
       "          const docLinkHtml = 'Like what you see? Visit the ' +\n",
       "            '<a target=\"_blank\" href=https://colab.research.google.com/notebooks/data_table.ipynb>data table notebook</a>'\n",
       "            + ' to learn more about interactive tables.';\n",
       "          element.innerHTML = '';\n",
       "          dataTable['output_type'] = 'display_data';\n",
       "          await google.colab.output.renderOutput(dataTable, element);\n",
       "          const docLink = document.createElement('div');\n",
       "          docLink.innerHTML = docLinkHtml;\n",
       "          element.appendChild(docLink);\n",
       "        }\n",
       "      </script>\n",
       "    </div>\n",
       "  </div>\n",
       "  "
      ],
      "text/plain": [
       "          tag          patterns  \\\n",
       "0  greeting-1                hi   \n",
       "1  greeting-2               hey   \n",
       "2  greeting-3  is anyone there?   \n",
       "3  greeting-4          hi there   \n",
       "4  greeting-5             hello   \n",
       "\n",
       "                                           responses  \n",
       "0    hello there. tell me how are you feeling today?  \n",
       "1              hi there. what brings you here today?  \n",
       "2    hi there. i am here. how are you feeling today?  \n",
       "3                  hello. how are you feeling today?  \n",
       "4  hello there. glad to see you are back. what is...  "
      ]
     },
     "execution_count": 15,
     "metadata": {},
     "output_type": "execute_result"
    }
   ],
   "source": [
    "#Preprocessing the Dataframe using the preprocess() function previously defined\n",
    "\n",
    "df['patterns'] = df['patterns'].apply(preprocess)\n",
    "df['responses'] = df['responses'].apply(preprocess)\n",
    "\n",
    "df.head()"
   ]
  },
  {
   "cell_type": "code",
   "execution_count": 16,
   "metadata": {
    "id": "iRM15e1OwIbl"
   },
   "outputs": [],
   "source": [
    "# Tokenization\n",
    "\n",
    "import tensorflow_datasets as tfds\n",
    "\n",
    "# to generate a vocabulary from a corpus\n",
    "\n",
    "tokenizer = tfds.deprecated.text.SubwordTextEncoder.build_from_corpus(\n",
    "    df.patterns.values + df.responses.values , target_vocab_size=2**13) # 2^13 ~ 8000 words"
   ]
  },
  {
   "cell_type": "code",
   "execution_count": 17,
   "metadata": {
    "id": "V-7RV4mhwReM"
   },
   "outputs": [],
   "source": [
    "# functions used later as in 'train_examples.map(tf_encode)'\n",
    "\n",
    "# encode function is used by tf_encode\n",
    "# add [CLS] and [SEP] and encode tokens for pt and en\n",
    "\n",
    "MAX_LENGTH = 40\n",
    "\n",
    "def encode(lang_one, lang_two):\n",
    "\n",
    "  encode_token = []\n",
    "  decode_token = []\n",
    "\n",
    "  for (i,j) in zip(lang_one, lang_two):\n",
    "\n",
    "    lang_one = [tokenizer.vocab_size] + tokenizer.encode(i) + [tokenizer.vocab_size+1]\n",
    "    lang_two = [tokenizer.vocab_size] + tokenizer.encode(j) + [tokenizer.vocab_size+1]\n",
    "    \n",
    "    if len(lang_one) <= MAX_LENGTH and len(lang_two) <= MAX_LENGTH: \n",
    "      encode_token.append(lang_one)\n",
    "      decode_token.append(lang_two)\n",
    "    \n",
    "  # get encode and decode tokens\n",
    "\n",
    "  encode_token = tf.keras.preprocessing.sequence.pad_sequences(encode_token, maxlen = MAX_LENGTH, padding='post')\n",
    "  decode_token = tf.keras.preprocessing.sequence.pad_sequences(decode_token, maxlen = MAX_LENGTH, padding='post')\n",
    "  \n",
    "  return encode_token, decode_token"
   ]
  },
  {
   "cell_type": "code",
   "execution_count": 18,
   "metadata": {
    "id": "8AqoAkDdwTN6"
   },
   "outputs": [],
   "source": [
    "# splitting data into train and validation sets\n",
    "\n",
    "from sklearn.model_selection import train_test_split\n",
    "\n",
    "train, validation = train_test_split(df, test_size=0.2)"
   ]
  },
  {
   "cell_type": "code",
   "execution_count": 19,
   "metadata": {
    "id": "k03zspFLwx2w"
   },
   "outputs": [],
   "source": [
    "train_encode, train_decode = encode(train.patterns, train.responses)"
   ]
  },
  {
   "cell_type": "code",
   "execution_count": 20,
   "metadata": {
    "id": "ErLgxqNTw43U"
   },
   "outputs": [],
   "source": [
    "# decoder inputs use the previous target as input\n",
    "# remove START_TOKEN from the targets\n",
    "\n",
    "BATCH_SIZE = 512\n",
    "BUFFER_SIZE = 20000\n",
    "\n",
    "dataset = tf.data.Dataset.from_tensor_slices((\n",
    "    {\n",
    "        'inputs': train_encode,\n",
    "        'decoder_inputs': train_decode[:, :-1]\n",
    "    },\n",
    "    {\n",
    "        'outputs': train_decode[:, 1:]\n",
    "    },\n",
    "))\n",
    "\n",
    "dataset = dataset.cache()\n",
    "dataset = dataset.shuffle(BUFFER_SIZE)\n",
    "dataset = dataset.batch(BATCH_SIZE)\n",
    "dataset = dataset.prefetch(tf.data.experimental.AUTOTUNE)"
   ]
  },
  {
   "cell_type": "code",
   "execution_count": 21,
   "metadata": {
    "colab": {
     "base_uri": "https://localhost:8080/"
    },
    "id": "ZSGUI0NYygyW",
    "outputId": "52d9547f-737b-48be-8181-29f4a6a8477f"
   },
   "outputs": [
    {
     "data": {
      "text/plain": [
       "({'inputs': <tf.Tensor: shape=(141, 40), dtype=int32, numpy=\n",
       "  array([[1911,   21,   11, ...,    0,    0,    0],\n",
       "         [1911,  160, 1136, ...,    0,    0,    0],\n",
       "         [1911,   15,  276, ...,    0,    0,    0],\n",
       "         ...,\n",
       "         [1911,    5,   33, ...,    0,    0,    0],\n",
       "         [1911,    5,   20, ...,    0,    0,    0],\n",
       "         [1911,    5,  143, ...,    0,    0,    0]], dtype=int32)>,\n",
       "  'decoder_inputs': <tf.Tensor: shape=(141, 39), dtype=int32, numpy=\n",
       "  array([[1911, 1642,    1, ...,    0,    0,    0],\n",
       "         [1911,  160, 1136, ...,    0,    0,    0],\n",
       "         [1911,   23,   36, ...,    0,    0,    0],\n",
       "         ...,\n",
       "         [1911,  168,   10, ...,    0,    0,    0],\n",
       "         [1911,  155,   24, ...,    0,    0,    0],\n",
       "         [1911,    5,   16, ...,    0,    0,    0]], dtype=int32)>},\n",
       " {'outputs': <tf.Tensor: shape=(141, 39), dtype=int32, numpy=\n",
       "  array([[1642,    1,  578, ...,    0,    0,    0],\n",
       "         [ 160, 1136,    1, ...,    0,    0,    0],\n",
       "         [  23,   36,   85, ...,    0,    0,    0],\n",
       "         ...,\n",
       "         [ 168,   10,  315, ...,    0,    0,    0],\n",
       "         [ 155,   24,   80, ...,    0,    0,    0],\n",
       "         [   5,   16,  404, ...,    0,    0,    0]], dtype=int32)>})"
      ]
     },
     "execution_count": 21,
     "metadata": {},
     "output_type": "execute_result"
    }
   ],
   "source": [
    "next(iter(dataset))"
   ]
  },
  {
   "cell_type": "code",
   "execution_count": 22,
   "metadata": {
    "id": "RiOjCj8QylTK"
   },
   "outputs": [],
   "source": [
    "validation_encode, validation_decode = encode(validation.patterns, validation.responses)"
   ]
  },
  {
   "cell_type": "code",
   "execution_count": 23,
   "metadata": {
    "id": "FhZQl39Iypbm"
   },
   "outputs": [],
   "source": [
    "BATCH_SIZE = 512\n",
    "BUFFER_SIZE = 20000\n",
    "\n",
    "validation_set = tf.data.Dataset.from_tensor_slices((\n",
    "    {\n",
    "        'inputs': validation_encode,\n",
    "        'decoder_inputs': validation_decode[:, :-1]\n",
    "    },\n",
    "    {\n",
    "        'outputs': validation_decode[:, 1:]\n",
    "    },\n",
    "))\n",
    "\n",
    "validation_set = validation_set.cache()\n",
    "validation_set = validation_set.shuffle(BUFFER_SIZE)\n",
    "validation_set = validation_set.batch(BATCH_SIZE)\n",
    "validation_set = validation_set.prefetch(tf.data.experimental.AUTOTUNE)"
   ]
  },
  {
   "cell_type": "code",
   "execution_count": 24,
   "metadata": {
    "id": "LwnsdLDcyuYw"
   },
   "outputs": [],
   "source": [
    "import tensorflow.keras as keras\n",
    "from  tensorflow.keras.layers import LSTM, Embedding, Dense, BatchNormalization"
   ]
  },
  {
   "cell_type": "code",
   "execution_count": 25,
   "metadata": {
    "id": "6_wuDl55yx8s"
   },
   "outputs": [],
   "source": [
    "def get_angles(position, i, d_model):\n",
    "  angle_rates = 1 / np.power(10000, (2 * (i//2)) / np.float32(d_model))\n",
    "  return position * angle_rates"
   ]
  },
  {
   "cell_type": "code",
   "execution_count": 26,
   "metadata": {
    "id": "oND8fJYPy0_H"
   },
   "outputs": [],
   "source": [
    "def positional_encoding(position, d_model):\n",
    "  angle_rads = get_angles(np.arange(position)[:, np.newaxis],\n",
    "                          np.arange(d_model)[np.newaxis, :],\n",
    "                          d_model)\n",
    "  \n",
    "  # applying sin to even indices in the array; 2i\n",
    "  angle_rads[:, 0::2] = np.sin(angle_rads[:, 0::2])\n",
    "  \n",
    "  # applying cos to odd indices in the array; 2i+1\n",
    "  angle_rads[:, 1::2] = np.cos(angle_rads[:, 1::2])\n",
    "    \n",
    "  position_encoding = angle_rads[np.newaxis, ...]\n",
    "    \n",
    "  return tf.cast(position_encoding, dtype=tf.float32)"
   ]
  },
  {
   "cell_type": "code",
   "execution_count": 27,
   "metadata": {
    "colab": {
     "base_uri": "https://localhost:8080/",
     "height": 300
    },
    "id": "CzrIUPQ5y5j_",
    "outputId": "0c3a9c17-eaa1-44ae-bf80-09c203db8fc8"
   },
   "outputs": [
    {
     "name": "stdout",
     "output_type": "stream",
     "text": [
      "(1, 50, 512)\n"
     ]
    },
    {
     "data": {
      "image/png": "[encoded data removed]",
      "text/plain": [
       "<Figure size 432x288 with 2 Axes>"
      ]
     },
     "metadata": {
      "needs_background": "light"
     },
     "output_type": "display_data"
    }
   ],
   "source": [
    "position_encoding = positional_encoding(50, 512)\n",
    "print(position_encoding.shape)\n",
    "\n",
    "plt.pcolormesh(position_encoding[0], cmap='RdBu')\n",
    "plt.xlabel('Depth')\n",
    "plt.xlim((0, 512))\n",
    "plt.ylabel('Position')\n",
    "plt.colorbar()\n",
    "plt.show()"
   ]
  },
  {
   "cell_type": "code",
   "execution_count": 28,
   "metadata": {
    "id": "nL41W90Cy9YV"
   },
   "outputs": [],
   "source": [
    "def create_padding_mask(sequence):\n",
    "  sequence = tf.cast(tf.math.equal(sequence, 0), tf.float32)\n",
    "  \n",
    "  # adding extra dimensions to add the padding to the attention logits\n",
    "    \n",
    "  return sequence[:, tf.newaxis, tf.newaxis, :]"
   ]
  },
  {
   "cell_type": "code",
   "execution_count": 29,
   "metadata": {
    "id": "yET2lWMKzN1i"
   },
   "outputs": [],
   "source": [
    "def create_look_ahead_mask(size):\n",
    "  mask = 1 - tf.linalg.band_part(tf.ones((size, size)), -1, 0)\n",
    "  return mask"
   ]
  },
  {
   "cell_type": "code",
   "execution_count": 30,
   "metadata": {
    "id": "Pse5J30pzPef"
   },
   "outputs": [],
   "source": [
    "def create_look_ahead_mask(x):\n",
    "  sequence_length = tf.shape(x)[1]\n",
    "  look_ahead_mask = 1 - tf.linalg.band_part(tf.ones((sequence_length, sequence_length)), -1, 0)\n",
    "  padding_mask = create_padding_mask(x)\n",
    "  return tf.maximum(look_ahead_mask, padding_mask)"
   ]
  },
  {
   "cell_type": "code",
   "execution_count": 31,
   "metadata": {
    "id": "ZCPHtURLzUJe"
   },
   "outputs": [],
   "source": [
    "def create_masks(input, target):\n",
    "  # encoder padding mask\n",
    "  encoder_padding_mask = create_padding_mask(input)\n",
    "  \n",
    "  # used in the second attention block in the decoder\n",
    "  # this padding mask is used to mask the encoder outputs\n",
    "\n",
    "  decoder_padding_mask = create_padding_mask(input)\n",
    "  \n",
    "  # used in the first attention block in the decoder\n",
    "  # it is used to pad and mask future tokens in the input received by the decoder\n",
    "\n",
    "  look_ahead_mask = create_look_ahead_mask(tf.shape(target)[1])\n",
    "  decoder_target_padding_mask = create_padding_mask(target)\n",
    "  combined_mask = tf.maximum(decoder_target_padding_mask, look_ahead_mask)\n",
    "  \n",
    "  return encoder_padding_mask, combined_mask, decoder_padding_mask"
   ]
  },
  {
   "cell_type": "code",
   "execution_count": 32,
   "metadata": {
    "id": "gdenkLdGzZZg"
   },
   "outputs": [],
   "source": [
    "def scaled_dot_product_attention(query, key, value, mask):\n",
    "  matmul_qk = tf.matmul(query, key, transpose_b=True)\n",
    "\n",
    "  depth = tf.cast(tf.shape(key)[-1], tf.float32)\n",
    "  logits = matmul_qk / tf.math.sqrt(depth)\n",
    "\n",
    "  # adding the mask zero out padding tokens.\n",
    "  if mask is not None:\n",
    "    logits += (mask * -1e9)\n",
    "\n",
    "  attention_weights = tf.nn.softmax(logits, axis=-1)\n",
    "\n",
    "  return tf.matmul(attention_weights, value)"
   ]
  },
  {
   "cell_type": "code",
   "execution_count": 33,
   "metadata": {
    "id": "8kAGmDN-zd_n"
   },
   "outputs": [],
   "source": [
    "class MultiHeadAttention(tf.keras.layers.Layer):\n",
    "\n",
    "  def __init__(self, d_model, num_heads, name=\"multi_head_attention\"):\n",
    "    super(MultiHeadAttention, self).__init__(name=name)\n",
    "    self.num_heads = num_heads\n",
    "    self.d_model = d_model\n",
    "\n",
    "    assert d_model % self.num_heads == 0\n",
    "\n",
    "    self.depth = d_model // self.num_heads\n",
    "\n",
    "    self.query_dense = tf.keras.layers.Dense(units=d_model)\n",
    "    self.key_dense = tf.keras.layers.Dense(units=d_model)\n",
    "    self.value_dense = tf.keras.layers.Dense(units=d_model)\n",
    "\n",
    "    self.dense = tf.keras.layers.Dense(units=d_model)\n",
    "\n",
    "  def split_heads(self, inputs, batch_size):\n",
    "    inputs = tf.reshape(\n",
    "        inputs, shape=(batch_size, -1, self.num_heads, self.depth))\n",
    "    return tf.transpose(inputs, perm=[0, 2, 1, 3])\n",
    "\n",
    "  def call(self, inputs):\n",
    "    query, key, value, mask = inputs['query'], inputs['key'], inputs[\n",
    "        'value'], inputs['mask']\n",
    "    batch_size = tf.shape(query)[0]\n",
    "\n",
    "    # linear layers\n",
    "    query = self.query_dense(query)\n",
    "    key = self.key_dense(key)\n",
    "    value = self.value_dense(value)\n",
    "\n",
    "    # split heads\n",
    "    query = self.split_heads(query, batch_size)\n",
    "    key = self.split_heads(key, batch_size)\n",
    "    value = self.split_heads(value, batch_size)\n",
    "\n",
    "    scaled_attention = scaled_dot_product_attention(query, key, value, mask)\n",
    "\n",
    "    scaled_attention = tf.transpose(scaled_attention, perm=[0, 2, 1, 3])\n",
    "\n",
    "    concat_attention = tf.reshape(scaled_attention,\n",
    "                                  (batch_size, -1, self.d_model))\n",
    "\n",
    "    outputs = self.dense(concat_attention)\n",
    "\n",
    "    return outputs"
   ]
  },
  {
   "cell_type": "code",
   "execution_count": 34,
   "metadata": {
    "id": "FtWUIaAgziD7"
   },
   "outputs": [],
   "source": [
    "class PositionalEncoding(tf.keras.layers.Layer):\n",
    "\n",
    "  def __init__(self, position, d_model):\n",
    "    super(PositionalEncoding, self).__init__()\n",
    "    self.pos_encoding = self.positional_encoding(position, d_model)\n",
    "\n",
    "  def get_angles(self, position, i, d_model):\n",
    "    angles = 1 / tf.pow(10000, (2 * (i // 2)) / tf.cast(d_model, tf.float32))\n",
    "    return position * angles\n",
    "\n",
    "  def positional_encoding(self, position, d_model):\n",
    "    angle_rads = self.get_angles(\n",
    "        position=tf.range(position, dtype=tf.float32)[:, tf.newaxis],\n",
    "        i=tf.range(d_model, dtype=tf.float32)[tf.newaxis, :],\n",
    "        d_model=d_model)\n",
    "    \n",
    "    # applying sin to even index in the array\n",
    "    sines = tf.math.sin(angle_rads[:, 0::2])\n",
    "\n",
    "    # applying cos to odd index in the array\n",
    "    cosines = tf.math.cos(angle_rads[:, 1::2])\n",
    "\n",
    "    pos_encoding = tf.concat([sines, cosines], axis=-1)\n",
    "    pos_encoding = pos_encoding[tf.newaxis, ...]\n",
    "    return tf.cast(pos_encoding, tf.float32)\n",
    "\n",
    "  def call(self, inputs):\n",
    "    return inputs + self.pos_encoding[:, :tf.shape(inputs)[1], :]"
   ]
  },
  {
   "cell_type": "code",
   "execution_count": 35,
   "metadata": {
    "id": "NUDEKpOLzm-t"
   },
   "outputs": [],
   "source": [
    "def encoder_layer(units, d_model, num_heads, dropout, name=\"encoder_layer\"):\n",
    "  inputs = tf.keras.Input(shape=(None, d_model), name=\"inputs\")\n",
    "  padding_mask = tf.keras.Input(shape=(1, 1, None), name=\"padding_mask\")\n",
    "\n",
    "  attention = MultiHeadAttention(\n",
    "      d_model, num_heads, name=\"attention\")({\n",
    "          'query': inputs,\n",
    "          'key': inputs,\n",
    "          'value': inputs,\n",
    "          'mask': padding_mask\n",
    "      })\n",
    "  attention = tf.keras.layers.Dropout(rate=dropout)(attention)\n",
    "  attention = tf.keras.layers.LayerNormalization(\n",
    "      epsilon=1e-6)(inputs + attention)\n",
    "\n",
    "  outputs = tf.keras.layers.Dense(units=units, activation='relu')(attention)\n",
    "  outputs = tf.keras.layers.Dense(units=d_model)(outputs)\n",
    "  outputs = tf.keras.layers.Dropout(rate=dropout)(outputs)\n",
    "  outputs = tf.keras.layers.LayerNormalization(\n",
    "      epsilon=1e-6)(attention + outputs)\n",
    "\n",
    "  return tf.keras.Model(\n",
    "      inputs=[inputs, padding_mask], outputs=outputs, name=name)"
   ]
  },
  {
   "cell_type": "code",
   "execution_count": 36,
   "metadata": {
    "id": "GMCe1UvVzrrl"
   },
   "outputs": [],
   "source": [
    "def encoder(vocab_size,\n",
    "            num_layers,\n",
    "            units,\n",
    "            d_model,\n",
    "            num_heads,\n",
    "            dropout,\n",
    "            name=\"encoder\"):\n",
    "  inputs = tf.keras.Input(shape=(None,), name=\"inputs\")\n",
    "  padding_mask = tf.keras.Input(shape=(1, 1, None), name=\"padding_mask\")\n",
    "\n",
    "  embeddings = tf.keras.layers.Embedding(vocab_size, d_model)(inputs)\n",
    "  embeddings *= tf.math.sqrt(tf.cast(d_model, tf.float32))\n",
    "  embeddings = PositionalEncoding(vocab_size, d_model)(embeddings)\n",
    "\n",
    "  outputs = tf.keras.layers.Dropout(rate=dropout)(embeddings)\n",
    "\n",
    "  for i in range(num_layers):\n",
    "    outputs = encoder_layer(\n",
    "        units=units,\n",
    "        d_model=d_model,\n",
    "        num_heads=num_heads,\n",
    "        dropout=dropout,\n",
    "        name=\"encoder_layer_{}\".format(i),\n",
    "    )([outputs, padding_mask])\n",
    "\n",
    "  return tf.keras.Model(\n",
    "      inputs=[inputs, padding_mask], outputs=outputs, name=name)"
   ]
  },
  {
   "cell_type": "code",
   "execution_count": 37,
   "metadata": {
    "id": "EufjoFutzwwV"
   },
   "outputs": [],
   "source": [
    "def decoder_layer(units, d_model, num_heads, dropout, name=\"decoder_layer\"):\n",
    "  inputs = tf.keras.Input(shape=(None, d_model), name=\"inputs\")\n",
    "  encoder_outputs = tf.keras.Input(shape=(None, d_model), name=\"encoder_outputs\")\n",
    "  look_ahead_mask = tf.keras.Input(\n",
    "      shape=(1, None, None), name=\"look_ahead_mask\")\n",
    "  padding_mask = tf.keras.Input(shape=(1, 1, None), name='padding_mask')\n",
    "\n",
    "  attention_one = MultiHeadAttention(\n",
    "      d_model, num_heads, name=\"attention_one\")(inputs={\n",
    "          'query': inputs,\n",
    "          'key': inputs,\n",
    "          'value': inputs,\n",
    "          'mask': look_ahead_mask\n",
    "      })\n",
    "  attention_one = tf.keras.layers.LayerNormalization(\n",
    "      epsilon=1e-6)(attention_one + inputs)\n",
    "\n",
    "  attention_two = MultiHeadAttention(\n",
    "      d_model, num_heads, name=\"attention_two\")(inputs={\n",
    "          'query': attention_one,\n",
    "          'key': encoder_outputs,\n",
    "          'value': encoder_outputs,\n",
    "          'mask': padding_mask\n",
    "      })\n",
    "  attention_two = tf.keras.layers.Dropout(rate=dropout)(attention_two)\n",
    "  attention_two = tf.keras.layers.LayerNormalization(\n",
    "      epsilon=1e-6)(attention_two + attention_one)\n",
    "\n",
    "  outputs = tf.keras.layers.Dense(units=units, activation='relu')(attention_two)\n",
    "  outputs = tf.keras.layers.Dense(units=d_model)(outputs)\n",
    "  outputs = tf.keras.layers.Dropout(rate=dropout)(outputs)\n",
    "  outputs = tf.keras.layers.LayerNormalization(\n",
    "      epsilon=1e-6)(outputs + attention_two)\n",
    "\n",
    "  return tf.keras.Model(\n",
    "      inputs=[inputs, encoder_outputs, look_ahead_mask, padding_mask],\n",
    "      outputs=outputs,\n",
    "      name=name)"
   ]
  },
  {
   "cell_type": "code",
   "execution_count": 38,
   "metadata": {
    "id": "0tlMnLfWz2SM"
   },
   "outputs": [],
   "source": [
    "def decoder(vocab_size,\n",
    "            num_layers,\n",
    "            units,\n",
    "            d_model,\n",
    "            num_heads,\n",
    "            dropout,\n",
    "            name='decoder'):\n",
    "  inputs = tf.keras.Input(shape=(None,), name='inputs')\n",
    "  encoder_outputs = tf.keras.Input(shape=(None, d_model), name='encoder_outputs')\n",
    "  look_ahead_mask = tf.keras.Input(\n",
    "      shape=(1, None, None), name='look_ahead_mask')\n",
    "  padding_mask = tf.keras.Input(shape=(1, 1, None), name='padding_mask')\n",
    "  \n",
    "  embeddings = tf.keras.layers.Embedding(vocab_size, d_model)(inputs)\n",
    "  embeddings *= tf.math.sqrt(tf.cast(d_model, tf.float32))\n",
    "  embeddings = PositionalEncoding(vocab_size, d_model)(embeddings)\n",
    "\n",
    "  outputs = tf.keras.layers.Dropout(rate=dropout)(embeddings)\n",
    "\n",
    "  for i in range(num_layers):\n",
    "    outputs = decoder_layer(\n",
    "        units=units,\n",
    "        d_model=d_model,\n",
    "        num_heads=num_heads,\n",
    "        dropout=dropout,\n",
    "        name='decoder_layer_{}'.format(i),\n",
    "    )(inputs=[outputs, encoder_outputs, look_ahead_mask, padding_mask])\n",
    "\n",
    "  return tf.keras.Model(\n",
    "      inputs=[inputs, encoder_outputs, look_ahead_mask, padding_mask],\n",
    "      outputs=outputs,\n",
    "      name=name)"
   ]
  },
  {
   "cell_type": "code",
   "execution_count": 39,
   "metadata": {
    "id": "KWeANtX3z6je"
   },
   "outputs": [],
   "source": [
    "def transformer(vocab_size,\n",
    "                num_layers,\n",
    "                units,\n",
    "                d_model,\n",
    "                num_heads,\n",
    "                dropout,\n",
    "                name=\"transformer\"):\n",
    "  inputs = tf.keras.Input(shape=(None,), name=\"inputs\")\n",
    "  decoder_inputs = tf.keras.Input(shape=(None,), name=\"decoder_inputs\")\n",
    "\n",
    "  encoder_padding_mask = tf.keras.layers.Lambda(\n",
    "      create_padding_mask, output_shape=(1, 1, None),\n",
    "      name='encoder_padding_mask')(inputs)\n",
    "\n",
    "  # masking the future tokens for decoder inputs at the first attention block\n",
    "  look_ahead_mask = tf.keras.layers.Lambda(\n",
    "      create_look_ahead_mask,\n",
    "      output_shape=(1, None, None),\n",
    "      name='look_ahead_mask')(decoder_inputs)\n",
    "\n",
    "  # masking the encoder outputs for the second attention block\n",
    "  decoder_padding_mask = tf.keras.layers.Lambda(\n",
    "      create_padding_mask, output_shape=(1, 1, None),\n",
    "      name='decoder_padding_mask')(inputs)\n",
    "\n",
    "  encoder_outputs = encoder(\n",
    "      vocab_size=vocab_size,\n",
    "      num_layers=num_layers,\n",
    "      units=units,\n",
    "      d_model=d_model,\n",
    "      num_heads=num_heads,\n",
    "      dropout=dropout,\n",
    "  )(inputs=[inputs, encoder_padding_mask])\n",
    "\n",
    "  decoder_outputs = decoder(\n",
    "      vocab_size=vocab_size,\n",
    "      num_layers=num_layers,\n",
    "      units=units,\n",
    "      d_model=d_model,\n",
    "      num_heads=num_heads,\n",
    "      dropout=dropout,\n",
    "  )(inputs=[decoder_inputs, encoder_outputs, look_ahead_mask, decoder_padding_mask])\n",
    "\n",
    "  outputs = tf.keras.layers.Dense(units=vocab_size, name=\"outputs\")(decoder_outputs)\n",
    "\n",
    "  return tf.keras.Model(inputs=[inputs, decoder_inputs], outputs=outputs, name=name)"
   ]
  },
  {
   "cell_type": "code",
   "execution_count": 40,
   "metadata": {
    "id": "sfwNYcbOz_1v"
   },
   "outputs": [],
   "source": [
    "# maximum sentence length\n",
    "MAX_LENGTH = 40\n",
    "\n",
    "# maximum number of samples to preprocess\n",
    "MAX_SAMPLES = 50000\n",
    "\n",
    "# for tf.data.Dataset\n",
    "BATCH_SIZE = 512\n",
    "BUFFER_SIZE = 20000\n",
    "\n",
    "# for the Transformer\n",
    "NUM_LAYERS = 2\n",
    "D_MODEL = 256\n",
    "NUM_HEADS = 8\n",
    "UNITS = 512\n",
    "DROPOUT = 0.1\n",
    "\n",
    "EPOCHS = 40"
   ]
  },
  {
   "cell_type": "code",
   "execution_count": 41,
   "metadata": {
    "id": "arxgmi8I0FFR"
   },
   "outputs": [],
   "source": [
    "NUM_LAYERS = 2\n",
    "D_MODEL = 256\n",
    "NUM_HEADS = 8\n",
    "UNITS = 512\n",
    "DROPOUT = 0.1\n",
    "# Vocabulary size plus start and end token\n",
    "VOCAB_SIZE = tokenizer.vocab_size + 2\n",
    "\n",
    "model = transformer(\n",
    "    vocab_size=VOCAB_SIZE,\n",
    "    num_layers=NUM_LAYERS,\n",
    "    units=UNITS,\n",
    "    d_model=D_MODEL,\n",
    "    num_heads=NUM_HEADS,\n",
    "    dropout=DROPOUT)"
   ]
  },
  {
   "cell_type": "code",
   "execution_count": 42,
   "metadata": {
    "id": "LA0aKzW_0JIb"
   },
   "outputs": [],
   "source": [
    "def loss_function(real, prediction):\n",
    "  mask = tf.math.logical_not(tf.math.equal(real, 0))\n",
    "  loss_ = loss_object(real, prediction)\n",
    "\n",
    "  mask = tf.cast(mask, dtype=loss_.dtype)\n",
    "  loss_ *= mask\n",
    "  \n",
    "  return tf.reduce_sum(loss_)/tf.reduce_sum(mask)"
   ]
  },
  {
   "cell_type": "code",
   "execution_count": 43,
   "metadata": {
    "id": "Rg5lxLxP0NiH"
   },
   "outputs": [],
   "source": [
    "train_loss = tf.keras.metrics.Mean(name='train_loss')\n",
    "train_accuracy = tf.keras.metrics.SparseCategoricalAccuracy(\n",
    "    name='train_accuracy')"
   ]
  },
  {
   "cell_type": "code",
   "execution_count": 44,
   "metadata": {
    "id": "TDGyvdwC0Qya"
   },
   "outputs": [],
   "source": [
    "loss_object = tf.keras.losses.SparseCategoricalCrossentropy(\n",
    "    from_logits=True, reduction='none')"
   ]
  },
  {
   "cell_type": "code",
   "execution_count": 45,
   "metadata": {
    "id": "gPCJEenH0Tyv"
   },
   "outputs": [],
   "source": [
    "#loss function\n",
    "\n",
    "def loss_function(y_true, y_prediction):\n",
    "  y_true = tf.reshape(y_true, shape=(-1, MAX_LENGTH - 1))\n",
    "  \n",
    "  loss = tf.keras.losses.SparseCategoricalCrossentropy(\n",
    "      from_logits=True, reduction='none')(y_true, y_prediction)\n",
    "\n",
    "  mask = tf.cast(tf.not_equal(y_true, 0), tf.float32)\n",
    "  loss = tf.multiply(loss, mask)\n",
    "\n",
    "  return tf.reduce_mean(loss)\n",
    "\n",
    "class CustomSchedule(tf.keras.optimizers.schedules.LearningRateSchedule):\n",
    "\n",
    "  def __init__(self, d_model, warmup_steps=4000):\n",
    "    super(CustomSchedule, self).__init__()\n",
    "\n",
    "    self.d_model = d_model\n",
    "    self.d_model = tf.cast(self.d_model, tf.float32)\n",
    "\n",
    "    self.warmup_steps = warmup_steps\n",
    "\n",
    "  def __call__(self, step):\n",
    "    arg_one = tf.math.rsqrt(step)\n",
    "    arg_two = step * (self.warmup_steps**-1.5)\n",
    "\n",
    "    return tf.math.rsqrt(self.d_model) * tf.math.minimum(arg_one, arg_two)\n",
    "\n",
    "learning_rate = CustomSchedule(D_MODEL)\n",
    "\n",
    "optimizer = tf.keras.optimizers.Adam(\n",
    "    learning_rate, beta_1=0.9, beta_2=0.98, epsilon=1e-9)\n",
    "\n",
    "def accuracy(y_true, y_prediction):\n",
    "\n",
    "  # ensure labels have the shape (batch_size, MAX_LENGTH - 1)\n",
    "  y_true = tf.reshape(y_true, shape=(-1, MAX_LENGTH - 1))\n",
    "  accuracy = tf.metrics.SparseCategoricalAccuracy()(y_true, y_prediction)\n",
    "  return accuracy"
   ]
  },
  {
   "cell_type": "code",
   "execution_count": 46,
   "metadata": {
    "colab": {
     "base_uri": "https://localhost:8080/"
    },
    "id": "n3YQOiQs0m2x",
    "outputId": "ebca4014-db72-4023-94d1-c15c197415e1"
   },
   "outputs": [
    {
     "name": "stdout",
     "output_type": "stream",
     "text": [
      "Model: \"transformer\"\n",
      "__________________________________________________________________________________________________\n",
      " Layer (type)                   Output Shape         Param #     Connected to                     \n",
      "==================================================================================================\n",
      " inputs (InputLayer)            [(None, None)]       0           []                               \n",
      "                                                                                                  \n",
      " decoder_inputs (InputLayer)    [(None, None)]       0           []                               \n",
      "                                                                                                  \n",
      " encoder_padding_mask (Lambda)  (None, 1, 1, None)   0           ['inputs[0][0]']                 \n",
      "                                                                                                  \n",
      " encoder (Functional)           (None, None, 256)    1543936     ['inputs[0][0]',                 \n",
      "                                                                  'encoder_padding_mask[0][0]']   \n",
      "                                                                                                  \n",
      " look_ahead_mask (Lambda)       (None, 1, None, Non  0           ['decoder_inputs[0][0]']         \n",
      "                                e)                                                                \n",
      "                                                                                                  \n",
      " decoder_padding_mask (Lambda)  (None, 1, 1, None)   0           ['inputs[0][0]']                 \n",
      "                                                                                                  \n",
      " decoder (Functional)           (None, None, 256)    2071296     ['decoder_inputs[0][0]',         \n",
      "                                                                  'encoder[0][0]',                \n",
      "                                                                  'look_ahead_mask[0][0]',        \n",
      "                                                                  'decoder_padding_mask[0][0]']   \n",
      "                                                                                                  \n",
      " outputs (Dense)                (None, None, 1913)   491641      ['decoder[0][0]']                \n",
      "                                                                                                  \n",
      "==================================================================================================\n",
      "Total params: 4,106,873\n",
      "Trainable params: 4,106,873\n",
      "Non-trainable params: 0\n",
      "__________________________________________________________________________________________________\n"
     ]
    }
   ],
   "source": [
    "# clear the backend\n",
    "tf.keras.backend.clear_session()\n",
    "\n",
    "learning_rate = CustomSchedule(D_MODEL)\n",
    "\n",
    "# Adam optimizer\n",
    "optimizer = tf.keras.optimizers.Adam(\n",
    "    learning_rate, beta_1=0.9, beta_2=0.98, epsilon=1e-9)\n",
    "\n",
    "def accuracy(y_true, y_pred):\n",
    "  # ensure labels have shape (batch_size, MAX_LENGTH - 1)\n",
    "  y_true = tf.reshape(y_true, shape=(-1, MAX_LENGTH - 1))\n",
    "  return tf.keras.metrics.sparse_categorical_accuracy(y_true, y_pred)\n",
    "\n",
    "# initialize and compile model \n",
    "\n",
    "model = transformer(\n",
    "    vocab_size=VOCAB_SIZE,\n",
    "    num_layers=NUM_LAYERS,\n",
    "    units=UNITS,\n",
    "    d_model=D_MODEL,\n",
    "    num_heads=NUM_HEADS,\n",
    "    dropout=DROPOUT)\n",
    "\n",
    "model.compile(optimizer=optimizer, loss=loss_function, metrics=[accuracy])\n",
    "\n",
    "model.summary()"
   ]
  },
  {
   "cell_type": "code",
   "execution_count": 47,
   "metadata": {
    "colab": {
     "base_uri": "https://localhost:8080/"
    },
    "id": "ohzd6r-00rum",
    "outputId": "2c65f0e1-2ae0-423e-9ed4-67e596e532ae"
   },
   "outputs": [
    {
     "name": "stdout",
     "output_type": "stream",
     "text": [
      "Epoch 1/50\n",
      "1/1 [==============================] - 15s 15s/step - loss: 3.4947 - accuracy: 0.0000e+00 - val_loss: 3.1483 - val_accuracy: 0.0000e+00\n",
      "Epoch 2/50\n",
      "1/1 [==============================] - 2s 2s/step - loss: 3.4977 - accuracy: 1.8185e-04 - val_loss: 3.1481 - val_accuracy: 0.0000e+00\n",
      "Epoch 3/50\n",
      "1/1 [==============================] - 2s 2s/step - loss: 3.4953 - accuracy: 0.0000e+00 - val_loss: 3.1477 - val_accuracy: 0.0000e+00\n",
      "Epoch 4/50\n",
      "1/1 [==============================] - 2s 2s/step - loss: 3.4924 - accuracy: 5.4555e-04 - val_loss: 3.1471 - val_accuracy: 0.0000e+00\n",
      "Epoch 5/50\n",
      "1/1 [==============================] - 2s 2s/step - loss: 3.4951 - accuracy: 1.8185e-04 - val_loss: 3.1463 - val_accuracy: 0.0000e+00\n",
      "Epoch 6/50\n",
      "1/1 [==============================] - 2s 2s/step - loss: 3.4927 - accuracy: 0.0000e+00 - val_loss: 3.1453 - val_accuracy: 0.0000e+00\n",
      "Epoch 7/50\n",
      "1/1 [==============================] - 2s 2s/step - loss: 3.4928 - accuracy: 0.0000e+00 - val_loss: 3.1441 - val_accuracy: 0.0000e+00\n",
      "Epoch 8/50\n",
      "1/1 [==============================] - 2s 2s/step - loss: 3.4913 - accuracy: 1.8185e-04 - val_loss: 3.1427 - val_accuracy: 0.0000e+00\n",
      "Epoch 9/50\n",
      "1/1 [==============================] - 2s 2s/step - loss: 3.4889 - accuracy: 3.6370e-04 - val_loss: 3.1411 - val_accuracy: 0.0000e+00\n",
      "Epoch 10/50\n",
      "1/1 [==============================] - 2s 2s/step - loss: 3.4864 - accuracy: 0.0000e+00 - val_loss: 3.1394 - val_accuracy: 0.0000e+00\n",
      "Epoch 11/50\n",
      "1/1 [==============================] - 2s 2s/step - loss: 3.4893 - accuracy: 1.8185e-04 - val_loss: 3.1374 - val_accuracy: 0.0000e+00\n",
      "Epoch 12/50\n",
      "1/1 [==============================] - 2s 2s/step - loss: 3.4832 - accuracy: 1.8185e-04 - val_loss: 3.1353 - val_accuracy: 0.0000e+00\n",
      "Epoch 13/50\n",
      "1/1 [==============================] - 2s 2s/step - loss: 3.4830 - accuracy: 3.6370e-04 - val_loss: 3.1329 - val_accuracy: 0.0000e+00\n",
      "Epoch 14/50\n",
      "1/1 [==============================] - 2s 2s/step - loss: 3.4778 - accuracy: 1.8185e-04 - val_loss: 3.1304 - val_accuracy: 0.0000e+00\n",
      "Epoch 15/50\n",
      "1/1 [==============================] - 2s 2s/step - loss: 3.4796 - accuracy: 1.8185e-04 - val_loss: 3.1277 - val_accuracy: 0.0000e+00\n",
      "Epoch 16/50\n",
      "1/1 [==============================] - 2s 2s/step - loss: 3.4732 - accuracy: 5.4555e-04 - val_loss: 3.1248 - val_accuracy: 0.0000e+00\n",
      "Epoch 17/50\n",
      "1/1 [==============================] - 2s 2s/step - loss: 3.4685 - accuracy: 7.2740e-04 - val_loss: 3.1217 - val_accuracy: 0.0000e+00\n",
      "Epoch 18/50\n",
      "1/1 [==============================] - 2s 2s/step - loss: 3.4690 - accuracy: 1.8185e-04 - val_loss: 3.1184 - val_accuracy: 0.0000e+00\n",
      "Epoch 19/50\n",
      "1/1 [==============================] - 2s 2s/step - loss: 3.4662 - accuracy: 0.0000e+00 - val_loss: 3.1150 - val_accuracy: 0.0000e+00\n",
      "Epoch 20/50\n",
      "1/1 [==============================] - 2s 2s/step - loss: 3.4621 - accuracy: 3.6370e-04 - val_loss: 3.1114 - val_accuracy: 0.0000e+00\n",
      "Epoch 21/50\n",
      "1/1 [==============================] - 2s 2s/step - loss: 3.4574 - accuracy: 3.6370e-04 - val_loss: 3.1076 - val_accuracy: 0.0000e+00\n",
      "Epoch 22/50\n",
      "1/1 [==============================] - 2s 2s/step - loss: 3.4537 - accuracy: 3.6370e-04 - val_loss: 3.1037 - val_accuracy: 0.0000e+00\n",
      "Epoch 23/50\n",
      "1/1 [==============================] - 2s 2s/step - loss: 3.4477 - accuracy: 1.8185e-04 - val_loss: 3.0996 - val_accuracy: 0.0000e+00\n",
      "Epoch 24/50\n",
      "1/1 [==============================] - 2s 2s/step - loss: 3.4464 - accuracy: 7.2740e-04 - val_loss: 3.0954 - val_accuracy: 0.0000e+00\n",
      "Epoch 25/50\n",
      "1/1 [==============================] - 2s 2s/step - loss: 3.4400 - accuracy: 9.0926e-04 - val_loss: 3.0910 - val_accuracy: 0.0000e+00\n",
      "Epoch 26/50\n",
      "1/1 [==============================] - 2s 2s/step - loss: 3.4366 - accuracy: 3.6370e-04 - val_loss: 3.0865 - val_accuracy: 0.0000e+00\n",
      "Epoch 27/50\n",
      "1/1 [==============================] - 2s 2s/step - loss: 3.4329 - accuracy: 3.6370e-04 - val_loss: 3.0818 - val_accuracy: 0.0000e+00\n",
      "Epoch 28/50\n",
      "1/1 [==============================] - 2s 2s/step - loss: 3.4245 - accuracy: 0.0013 - val_loss: 3.0771 - val_accuracy: 0.0000e+00\n",
      "Epoch 29/50\n",
      "1/1 [==============================] - 2s 2s/step - loss: 3.4240 - accuracy: 1.8185e-04 - val_loss: 3.0722 - val_accuracy: 0.0000e+00\n",
      "Epoch 30/50\n",
      "1/1 [==============================] - 2s 2s/step - loss: 3.4194 - accuracy: 1.8185e-04 - val_loss: 3.0672 - val_accuracy: 0.0000e+00\n",
      "Epoch 31/50\n",
      "1/1 [==============================] - 2s 2s/step - loss: 3.4141 - accuracy: 9.0926e-04 - val_loss: 3.0620 - val_accuracy: 0.0000e+00\n",
      "Epoch 32/50\n",
      "1/1 [==============================] - 2s 2s/step - loss: 3.4104 - accuracy: 0.0013 - val_loss: 3.0568 - val_accuracy: 0.0000e+00\n",
      "Epoch 33/50\n",
      "1/1 [==============================] - 2s 2s/step - loss: 3.4034 - accuracy: 0.0018 - val_loss: 3.0515 - val_accuracy: 0.0000e+00\n",
      "Epoch 34/50\n",
      "1/1 [==============================] - 2s 2s/step - loss: 3.3970 - accuracy: 5.4555e-04 - val_loss: 3.0460 - val_accuracy: 0.0000e+00\n",
      "Epoch 35/50\n",
      "1/1 [==============================] - 3s 3s/step - loss: 3.3957 - accuracy: 0.0027 - val_loss: 3.0405 - val_accuracy: 5.9630e-04\n",
      "Epoch 36/50\n",
      "1/1 [==============================] - 2s 2s/step - loss: 3.3862 - accuracy: 0.0027 - val_loss: 3.0350 - val_accuracy: 5.9630e-04\n",
      "Epoch 37/50\n",
      "1/1 [==============================] - 2s 2s/step - loss: 3.3813 - accuracy: 0.0029 - val_loss: 3.0293 - val_accuracy: 0.0018\n",
      "Epoch 38/50\n",
      "1/1 [==============================] - 2s 2s/step - loss: 3.3770 - accuracy: 0.0033 - val_loss: 3.0236 - val_accuracy: 0.0018\n",
      "Epoch 39/50\n",
      "1/1 [==============================] - 2s 2s/step - loss: 3.3713 - accuracy: 0.0040 - val_loss: 3.0178 - val_accuracy: 0.0018\n",
      "Epoch 40/50\n",
      "1/1 [==============================] - 2s 2s/step - loss: 3.3633 - accuracy: 0.0051 - val_loss: 3.0120 - val_accuracy: 0.0036\n",
      "Epoch 41/50\n",
      "1/1 [==============================] - 2s 2s/step - loss: 3.3557 - accuracy: 0.0055 - val_loss: 3.0062 - val_accuracy: 0.0048\n",
      "Epoch 42/50\n",
      "1/1 [==============================] - 2s 2s/step - loss: 3.3536 - accuracy: 0.0062 - val_loss: 3.0003 - val_accuracy: 0.0072\n",
      "Epoch 43/50\n",
      "1/1 [==============================] - 2s 2s/step - loss: 3.3437 - accuracy: 0.0095 - val_loss: 2.9944 - val_accuracy: 0.0083\n",
      "Epoch 44/50\n",
      "1/1 [==============================] - 2s 2s/step - loss: 3.3413 - accuracy: 0.0085 - val_loss: 2.9884 - val_accuracy: 0.0101\n",
      "Epoch 45/50\n",
      "1/1 [==============================] - 2s 2s/step - loss: 3.3329 - accuracy: 0.0075 - val_loss: 2.9825 - val_accuracy: 0.0119\n",
      "Epoch 46/50\n",
      "1/1 [==============================] - 2s 2s/step - loss: 3.3264 - accuracy: 0.0138 - val_loss: 2.9765 - val_accuracy: 0.0149\n",
      "Epoch 47/50\n",
      "1/1 [==============================] - 2s 2s/step - loss: 3.3188 - accuracy: 0.0145 - val_loss: 2.9705 - val_accuracy: 0.0161\n",
      "Epoch 48/50\n",
      "1/1 [==============================] - 2s 2s/step - loss: 3.3161 - accuracy: 0.0156 - val_loss: 2.9646 - val_accuracy: 0.0173\n",
      "Epoch 49/50\n",
      "1/1 [==============================] - 2s 2s/step - loss: 3.3091 - accuracy: 0.0153 - val_loss: 2.9586 - val_accuracy: 0.0179\n",
      "Epoch 50/50\n",
      "1/1 [==============================] - 2s 2s/step - loss: 3.3017 - accuracy: 0.0202 - val_loss: 2.9527 - val_accuracy: 0.0185\n"
     ]
    }
   ],
   "source": [
    "model_lr_one = model.fit(dataset, epochs= 50, validation_data=validation_set)"
   ]
  },
  {
   "cell_type": "code",
   "execution_count": 48,
   "metadata": {
    "colab": {
     "base_uri": "https://localhost:8080/",
     "height": 295
    },
    "id": "TVNgSAQg2hDU",
    "outputId": "a70d5944-d19a-44bd-a8df-f64c8230920e"
   },
   "outputs": [
    {
     "data": {
      "image/png": "[encoded data removed]",
      "text/plain": [
       "<Figure size 432x288 with 1 Axes>"
      ]
     },
     "metadata": {
      "needs_background": "light"
     },
     "output_type": "display_data"
    }
   ],
   "source": [
    "plt.figure(figsize=(6, 4))\n",
    "\n",
    "epochs = model_lr_one.epoch\n",
    "validation = model_lr_one.history['val_accuracy']\n",
    "train = model_lr_one.history['accuracy']\n",
    "\n",
    "plt.plot(epochs, validation, color='black', linestyle='solid', label='validation')\n",
    "plt.plot(epochs, train, color='black', linestyle='dashed', label='train')\n",
    "\n",
    "plt.title('Transformer Model Accuracy')\n",
    "plt.xlabel('Epoch')\n",
    "plt.ylabel('Accuracy')\n",
    "\n",
    "plt.xticks(np.arange(10))\n",
    "\n",
    "plt.legend()\n",
    "\n",
    "\n",
    "plt.savefig('model_lr_one.svg')\n",
    "\n",
    "plt.show()"
   ]
  },
  {
   "cell_type": "code",
   "execution_count": 49,
   "metadata": {
    "colab": {
     "base_uri": "https://localhost:8080/"
    },
    "id": "S3wCzVAG2_Gp",
    "outputId": "6525c810-571f-4bce-c4d3-b65cd7682320"
   },
   "outputs": [
    {
     "name": "stdout",
     "output_type": "stream",
     "text": [
      "Epoch 1/100\n",
      "1/1 [==============================] - 2s 2s/step - loss: 3.2993 - accuracy: 0.0158 - val_loss: 2.9467 - val_accuracy: 0.0191\n",
      "Epoch 2/100\n",
      "1/1 [==============================] - 2s 2s/step - loss: 3.2900 - accuracy: 0.0184 - val_loss: 2.9408 - val_accuracy: 0.0185\n",
      "Epoch 3/100\n",
      "1/1 [==============================] - 3s 3s/step - loss: 3.2827 - accuracy: 0.0215 - val_loss: 2.9349 - val_accuracy: 0.0197\n",
      "Epoch 4/100\n",
      "1/1 [==============================] - 2s 2s/step - loss: 3.2776 - accuracy: 0.0189 - val_loss: 2.9290 - val_accuracy: 0.0191\n",
      "Epoch 5/100\n",
      "1/1 [==============================] - 2s 2s/step - loss: 3.2723 - accuracy: 0.0211 - val_loss: 2.9231 - val_accuracy: 0.0197\n",
      "Epoch 6/100\n",
      "1/1 [==============================] - 2s 2s/step - loss: 3.2677 - accuracy: 0.0198 - val_loss: 2.9173 - val_accuracy: 0.0191\n",
      "Epoch 7/100\n",
      "1/1 [==============================] - 2s 2s/step - loss: 3.2580 - accuracy: 0.0222 - val_loss: 2.9115 - val_accuracy: 0.0191\n",
      "Epoch 8/100\n",
      "1/1 [==============================] - 2s 2s/step - loss: 3.2528 - accuracy: 0.0205 - val_loss: 2.9057 - val_accuracy: 0.0191\n",
      "Epoch 9/100\n",
      "1/1 [==============================] - 2s 2s/step - loss: 3.2446 - accuracy: 0.0247 - val_loss: 2.9000 - val_accuracy: 0.0221\n",
      "Epoch 10/100\n",
      "1/1 [==============================] - 2s 2s/step - loss: 3.2415 - accuracy: 0.0205 - val_loss: 2.8942 - val_accuracy: 0.0233\n",
      "Epoch 11/100\n",
      "1/1 [==============================] - 2s 2s/step - loss: 3.2361 - accuracy: 0.0231 - val_loss: 2.8885 - val_accuracy: 0.0227\n",
      "Epoch 12/100\n",
      "1/1 [==============================] - 2s 2s/step - loss: 3.2274 - accuracy: 0.0256 - val_loss: 2.8828 - val_accuracy: 0.0239\n",
      "Epoch 13/100\n",
      "1/1 [==============================] - 2s 2s/step - loss: 3.2223 - accuracy: 0.0267 - val_loss: 2.8771 - val_accuracy: 0.0239\n",
      "Epoch 14/100\n",
      "1/1 [==============================] - 2s 2s/step - loss: 3.2173 - accuracy: 0.0249 - val_loss: 2.8715 - val_accuracy: 0.0239\n",
      "Epoch 15/100\n",
      "1/1 [==============================] - 2s 2s/step - loss: 3.2140 - accuracy: 0.0262 - val_loss: 2.8659 - val_accuracy: 0.0239\n",
      "Epoch 16/100\n",
      "1/1 [==============================] - 2s 2s/step - loss: 3.2017 - accuracy: 0.0256 - val_loss: 2.8604 - val_accuracy: 0.0244\n",
      "Epoch 17/100\n",
      "1/1 [==============================] - 2s 2s/step - loss: 3.1977 - accuracy: 0.0260 - val_loss: 2.8549 - val_accuracy: 0.0244\n",
      "Epoch 18/100\n",
      "1/1 [==============================] - 2s 2s/step - loss: 3.1946 - accuracy: 0.0295 - val_loss: 2.8494 - val_accuracy: 0.0250\n",
      "Epoch 19/100\n",
      "1/1 [==============================] - 2s 2s/step - loss: 3.1888 - accuracy: 0.0244 - val_loss: 2.8440 - val_accuracy: 0.0250\n",
      "Epoch 20/100\n",
      "1/1 [==============================] - 2s 2s/step - loss: 3.1812 - accuracy: 0.0253 - val_loss: 2.8387 - val_accuracy: 0.0250\n",
      "Epoch 21/100\n",
      "1/1 [==============================] - 2s 2s/step - loss: 3.1799 - accuracy: 0.0271 - val_loss: 2.8334 - val_accuracy: 0.0250\n",
      "Epoch 22/100\n",
      "1/1 [==============================] - 2s 2s/step - loss: 3.1699 - accuracy: 0.0267 - val_loss: 2.8282 - val_accuracy: 0.0250\n",
      "Epoch 23/100\n",
      "1/1 [==============================] - 2s 2s/step - loss: 3.1671 - accuracy: 0.0289 - val_loss: 2.8230 - val_accuracy: 0.0250\n",
      "Epoch 24/100\n",
      "1/1 [==============================] - 2s 2s/step - loss: 3.1573 - accuracy: 0.0269 - val_loss: 2.8179 - val_accuracy: 0.0256\n",
      "Epoch 25/100\n",
      "1/1 [==============================] - 2s 2s/step - loss: 3.1576 - accuracy: 0.0269 - val_loss: 2.8129 - val_accuracy: 0.0256\n",
      "Epoch 26/100\n",
      "1/1 [==============================] - 2s 2s/step - loss: 3.1495 - accuracy: 0.0256 - val_loss: 2.8080 - val_accuracy: 0.0256\n",
      "Epoch 27/100\n",
      "1/1 [==============================] - 2s 2s/step - loss: 3.1457 - accuracy: 0.0262 - val_loss: 2.8031 - val_accuracy: 0.0256\n",
      "Epoch 28/100\n",
      "1/1 [==============================] - 2s 2s/step - loss: 3.1378 - accuracy: 0.0273 - val_loss: 2.7983 - val_accuracy: 0.0256\n",
      "Epoch 29/100\n",
      "1/1 [==============================] - 2s 2s/step - loss: 3.1362 - accuracy: 0.0273 - val_loss: 2.7936 - val_accuracy: 0.0268\n",
      "Epoch 30/100\n",
      "1/1 [==============================] - 2s 2s/step - loss: 3.1267 - accuracy: 0.0307 - val_loss: 2.7889 - val_accuracy: 0.0268\n",
      "Epoch 31/100\n",
      "1/1 [==============================] - 2s 2s/step - loss: 3.1249 - accuracy: 0.0276 - val_loss: 2.7843 - val_accuracy: 0.0268\n",
      "Epoch 32/100\n",
      "1/1 [==============================] - 2s 2s/step - loss: 3.1183 - accuracy: 0.0296 - val_loss: 2.7798 - val_accuracy: 0.0268\n",
      "Epoch 33/100\n",
      "1/1 [==============================] - 2s 2s/step - loss: 3.1121 - accuracy: 0.0287 - val_loss: 2.7753 - val_accuracy: 0.0268\n",
      "Epoch 34/100\n",
      "1/1 [==============================] - 2s 2s/step - loss: 3.1064 - accuracy: 0.0289 - val_loss: 2.7708 - val_accuracy: 0.0268\n",
      "Epoch 35/100\n",
      "1/1 [==============================] - 2s 2s/step - loss: 3.1042 - accuracy: 0.0293 - val_loss: 2.7664 - val_accuracy: 0.0268\n",
      "Epoch 36/100\n",
      "1/1 [==============================] - 2s 2s/step - loss: 3.0981 - accuracy: 0.0295 - val_loss: 2.7621 - val_accuracy: 0.0268\n",
      "Epoch 37/100\n",
      "1/1 [==============================] - 2s 2s/step - loss: 3.0932 - accuracy: 0.0291 - val_loss: 2.7578 - val_accuracy: 0.0268\n",
      "Epoch 38/100\n",
      "1/1 [==============================] - 2s 2s/step - loss: 3.0911 - accuracy: 0.0307 - val_loss: 2.7536 - val_accuracy: 0.0274\n",
      "Epoch 39/100\n",
      "1/1 [==============================] - 2s 2s/step - loss: 3.0849 - accuracy: 0.0275 - val_loss: 2.7494 - val_accuracy: 0.0274\n",
      "Epoch 40/100\n",
      "1/1 [==============================] - 2s 2s/step - loss: 3.0826 - accuracy: 0.0293 - val_loss: 2.7452 - val_accuracy: 0.0274\n",
      "Epoch 41/100\n",
      "1/1 [==============================] - 2s 2s/step - loss: 3.0754 - accuracy: 0.0302 - val_loss: 2.7411 - val_accuracy: 0.0274\n",
      "Epoch 42/100\n",
      "1/1 [==============================] - 2s 2s/step - loss: 3.0689 - accuracy: 0.0320 - val_loss: 2.7370 - val_accuracy: 0.0274\n",
      "Epoch 43/100\n",
      "1/1 [==============================] - 2s 2s/step - loss: 3.0658 - accuracy: 0.0307 - val_loss: 2.7329 - val_accuracy: 0.0274\n",
      "Epoch 44/100\n",
      "1/1 [==============================] - 2s 2s/step - loss: 3.0594 - accuracy: 0.0300 - val_loss: 2.7289 - val_accuracy: 0.0268\n",
      "Epoch 45/100\n",
      "1/1 [==============================] - 2s 2s/step - loss: 3.0542 - accuracy: 0.0309 - val_loss: 2.7249 - val_accuracy: 0.0268\n",
      "Epoch 46/100\n",
      "1/1 [==============================] - 2s 2s/step - loss: 3.0518 - accuracy: 0.0320 - val_loss: 2.7210 - val_accuracy: 0.0274\n",
      "Epoch 47/100\n",
      "1/1 [==============================] - 2s 2s/step - loss: 3.0490 - accuracy: 0.0287 - val_loss: 2.7170 - val_accuracy: 0.0274\n",
      "Epoch 48/100\n",
      "1/1 [==============================] - 2s 2s/step - loss: 3.0444 - accuracy: 0.0309 - val_loss: 2.7131 - val_accuracy: 0.0274\n",
      "Epoch 49/100\n",
      "1/1 [==============================] - 2s 2s/step - loss: 3.0398 - accuracy: 0.0302 - val_loss: 2.7092 - val_accuracy: 0.0274\n",
      "Epoch 50/100\n",
      "1/1 [==============================] - 2s 2s/step - loss: 3.0329 - accuracy: 0.0318 - val_loss: 2.7053 - val_accuracy: 0.0274\n",
      "Epoch 51/100\n",
      "1/1 [==============================] - 2s 2s/step - loss: 3.0304 - accuracy: 0.0315 - val_loss: 2.7014 - val_accuracy: 0.0274\n",
      "Epoch 52/100\n",
      "1/1 [==============================] - 2s 2s/step - loss: 3.0231 - accuracy: 0.0326 - val_loss: 2.6976 - val_accuracy: 0.0274\n",
      "Epoch 53/100\n",
      "1/1 [==============================] - 2s 2s/step - loss: 3.0195 - accuracy: 0.0315 - val_loss: 2.6938 - val_accuracy: 0.0274\n",
      "Epoch 54/100\n",
      "1/1 [==============================] - 2s 2s/step - loss: 3.0145 - accuracy: 0.0320 - val_loss: 2.6900 - val_accuracy: 0.0268\n",
      "Epoch 55/100\n",
      "1/1 [==============================] - 2s 2s/step - loss: 3.0114 - accuracy: 0.0320 - val_loss: 2.6862 - val_accuracy: 0.0268\n",
      "Epoch 56/100\n",
      "1/1 [==============================] - 2s 2s/step - loss: 3.0038 - accuracy: 0.0316 - val_loss: 2.6825 - val_accuracy: 0.0268\n",
      "Epoch 57/100\n",
      "1/1 [==============================] - 2s 2s/step - loss: 2.9997 - accuracy: 0.0329 - val_loss: 2.6787 - val_accuracy: 0.0268\n",
      "Epoch 58/100\n",
      "1/1 [==============================] - 2s 2s/step - loss: 2.9984 - accuracy: 0.0322 - val_loss: 2.6750 - val_accuracy: 0.0274\n",
      "Epoch 59/100\n",
      "1/1 [==============================] - 2s 2s/step - loss: 2.9937 - accuracy: 0.0320 - val_loss: 2.6713 - val_accuracy: 0.0280\n",
      "Epoch 60/100\n",
      "1/1 [==============================] - 2s 2s/step - loss: 2.9872 - accuracy: 0.0322 - val_loss: 2.6676 - val_accuracy: 0.0280\n",
      "Epoch 61/100\n",
      "1/1 [==============================] - 2s 2s/step - loss: 2.9840 - accuracy: 0.0322 - val_loss: 2.6639 - val_accuracy: 0.0292\n",
      "Epoch 62/100\n",
      "1/1 [==============================] - 2s 2s/step - loss: 2.9795 - accuracy: 0.0338 - val_loss: 2.6603 - val_accuracy: 0.0298\n",
      "Epoch 63/100\n",
      "1/1 [==============================] - 2s 2s/step - loss: 2.9718 - accuracy: 0.0347 - val_loss: 2.6566 - val_accuracy: 0.0310\n",
      "Epoch 64/100\n",
      "1/1 [==============================] - 2s 2s/step - loss: 2.9709 - accuracy: 0.0367 - val_loss: 2.6529 - val_accuracy: 0.0310\n",
      "Epoch 65/100\n",
      "1/1 [==============================] - 2s 2s/step - loss: 2.9661 - accuracy: 0.0353 - val_loss: 2.6492 - val_accuracy: 0.0310\n",
      "Epoch 66/100\n",
      "1/1 [==============================] - 2s 2s/step - loss: 2.9612 - accuracy: 0.0340 - val_loss: 2.6455 - val_accuracy: 0.0316\n",
      "Epoch 67/100\n",
      "1/1 [==============================] - 2s 2s/step - loss: 2.9579 - accuracy: 0.0346 - val_loss: 2.6419 - val_accuracy: 0.0316\n",
      "Epoch 68/100\n",
      "1/1 [==============================] - 2s 2s/step - loss: 2.9532 - accuracy: 0.0360 - val_loss: 2.6382 - val_accuracy: 0.0334\n",
      "Epoch 69/100\n",
      "1/1 [==============================] - 2s 2s/step - loss: 2.9476 - accuracy: 0.0360 - val_loss: 2.6345 - val_accuracy: 0.0334\n",
      "Epoch 70/100\n",
      "1/1 [==============================] - 2s 2s/step - loss: 2.9430 - accuracy: 0.0364 - val_loss: 2.6308 - val_accuracy: 0.0340\n",
      "Epoch 71/100\n",
      "1/1 [==============================] - 2s 2s/step - loss: 2.9357 - accuracy: 0.0367 - val_loss: 2.6271 - val_accuracy: 0.0346\n",
      "Epoch 72/100\n",
      "1/1 [==============================] - 2s 2s/step - loss: 2.9351 - accuracy: 0.0367 - val_loss: 2.6233 - val_accuracy: 0.0352\n",
      "Epoch 73/100\n",
      "1/1 [==============================] - 2s 2s/step - loss: 2.9276 - accuracy: 0.0371 - val_loss: 2.6196 - val_accuracy: 0.0358\n",
      "Epoch 74/100\n",
      "1/1 [==============================] - 2s 2s/step - loss: 2.9243 - accuracy: 0.0373 - val_loss: 2.6158 - val_accuracy: 0.0364\n",
      "Epoch 75/100\n",
      "1/1 [==============================] - 2s 2s/step - loss: 2.9191 - accuracy: 0.0387 - val_loss: 2.6121 - val_accuracy: 0.0364\n",
      "Epoch 76/100\n",
      "1/1 [==============================] - 2s 2s/step - loss: 2.9133 - accuracy: 0.0391 - val_loss: 2.6083 - val_accuracy: 0.0370\n",
      "Epoch 77/100\n",
      "1/1 [==============================] - 2s 2s/step - loss: 2.9080 - accuracy: 0.0387 - val_loss: 2.6044 - val_accuracy: 0.0376\n",
      "Epoch 78/100\n",
      "1/1 [==============================] - 2s 2s/step - loss: 2.9019 - accuracy: 0.0391 - val_loss: 2.6006 - val_accuracy: 0.0370\n",
      "Epoch 79/100\n",
      "1/1 [==============================] - 2s 2s/step - loss: 2.8977 - accuracy: 0.0398 - val_loss: 2.5967 - val_accuracy: 0.0370\n",
      "Epoch 80/100\n",
      "1/1 [==============================] - 2s 2s/step - loss: 2.8953 - accuracy: 0.0400 - val_loss: 2.5929 - val_accuracy: 0.0376\n",
      "Epoch 81/100\n",
      "1/1 [==============================] - 2s 2s/step - loss: 2.8918 - accuracy: 0.0386 - val_loss: 2.5890 - val_accuracy: 0.0382\n",
      "Epoch 82/100\n",
      "1/1 [==============================] - 2s 2s/step - loss: 2.8879 - accuracy: 0.0391 - val_loss: 2.5851 - val_accuracy: 0.0394\n",
      "Epoch 83/100\n",
      "1/1 [==============================] - 2s 2s/step - loss: 2.8797 - accuracy: 0.0406 - val_loss: 2.5812 - val_accuracy: 0.0394\n",
      "Epoch 84/100\n",
      "1/1 [==============================] - 2s 2s/step - loss: 2.8755 - accuracy: 0.0429 - val_loss: 2.5773 - val_accuracy: 0.0400\n",
      "Epoch 85/100\n",
      "1/1 [==============================] - 2s 2s/step - loss: 2.8713 - accuracy: 0.0398 - val_loss: 2.5734 - val_accuracy: 0.0400\n",
      "Epoch 86/100\n",
      "1/1 [==============================] - 2s 2s/step - loss: 2.8661 - accuracy: 0.0446 - val_loss: 2.5695 - val_accuracy: 0.0400\n",
      "Epoch 87/100\n",
      "1/1 [==============================] - 2s 2s/step - loss: 2.8582 - accuracy: 0.0420 - val_loss: 2.5656 - val_accuracy: 0.0405\n",
      "Epoch 88/100\n",
      "1/1 [==============================] - 2s 2s/step - loss: 2.8554 - accuracy: 0.0422 - val_loss: 2.5617 - val_accuracy: 0.0411\n",
      "Epoch 89/100\n",
      "1/1 [==============================] - 2s 2s/step - loss: 2.8509 - accuracy: 0.0427 - val_loss: 2.5578 - val_accuracy: 0.0423\n",
      "Epoch 90/100\n",
      "1/1 [==============================] - 2s 2s/step - loss: 2.8450 - accuracy: 0.0422 - val_loss: 2.5537 - val_accuracy: 0.0429\n",
      "Epoch 91/100\n",
      "1/1 [==============================] - 2s 2s/step - loss: 2.8410 - accuracy: 0.0435 - val_loss: 2.5496 - val_accuracy: 0.0429\n",
      "Epoch 92/100\n",
      "1/1 [==============================] - 2s 2s/step - loss: 2.8351 - accuracy: 0.0426 - val_loss: 2.5454 - val_accuracy: 0.0429\n",
      "Epoch 93/100\n",
      "1/1 [==============================] - 2s 2s/step - loss: 2.8292 - accuracy: 0.0444 - val_loss: 2.5412 - val_accuracy: 0.0429\n",
      "Epoch 94/100\n",
      "1/1 [==============================] - 2s 2s/step - loss: 2.8216 - accuracy: 0.0433 - val_loss: 2.5369 - val_accuracy: 0.0423\n",
      "Epoch 95/100\n",
      "1/1 [==============================] - 2s 2s/step - loss: 2.8193 - accuracy: 0.0442 - val_loss: 2.5326 - val_accuracy: 0.0423\n",
      "Epoch 96/100\n",
      "1/1 [==============================] - 2s 2s/step - loss: 2.8120 - accuracy: 0.0449 - val_loss: 2.5283 - val_accuracy: 0.0423\n",
      "Epoch 97/100\n",
      "1/1 [==============================] - 2s 2s/step - loss: 2.8074 - accuracy: 0.0473 - val_loss: 2.5240 - val_accuracy: 0.0423\n",
      "Epoch 98/100\n",
      "1/1 [==============================] - 2s 2s/step - loss: 2.8011 - accuracy: 0.0446 - val_loss: 2.5197 - val_accuracy: 0.0423\n",
      "Epoch 99/100\n",
      "1/1 [==============================] - 2s 2s/step - loss: 2.7955 - accuracy: 0.0453 - val_loss: 2.5156 - val_accuracy: 0.0435\n",
      "Epoch 100/100\n",
      "1/1 [==============================] - 2s 2s/step - loss: 2.7909 - accuracy: 0.0460 - val_loss: 2.5113 - val_accuracy: 0.0441\n"
     ]
    }
   ],
   "source": [
    "model_lr_two = model.fit(dataset, epochs= 100, validation_data=validation_set)"
   ]
  },
  {
   "cell_type": "code",
   "execution_count": 50,
   "metadata": {
    "colab": {
     "base_uri": "https://localhost:8080/",
     "height": 295
    },
    "id": "DHZh6Sn14Ena",
    "outputId": "4b0041be-b4a1-4c1e-dc7e-f1915c822fe4"
   },
   "outputs": [
    {
     "data": {
      "image/png": "[encoded data removed]",
      "text/plain": [
       "<Figure size 432x288 with 1 Axes>"
      ]
     },
     "metadata": {
      "needs_background": "light"
     },
     "output_type": "display_data"
    }
   ],
   "source": [
    "plt.figure(figsize=(6, 4))\n",
    "\n",
    "epochs = model_lr_two.epoch\n",
    "validation = model_lr_two.history['val_accuracy']\n",
    "train = model_lr_two.history['accuracy']\n",
    "\n",
    "plt.plot(epochs, validation, color='black', linestyle='solid', label='validation')\n",
    "plt.plot(epochs, train, color='black', linestyle='dashed', label='train')\n",
    "\n",
    "plt.title('Transformer Model Accuracy')\n",
    "plt.xlabel('Epoch')\n",
    "plt.ylabel('Accuracy')\n",
    "\n",
    "plt.xticks(np.arange(10))\n",
    "\n",
    "plt.legend()\n",
    "\n",
    "\n",
    "plt.savefig('model_lr_two.svg')\n",
    "\n",
    "plt.show()"
   ]
  },
  {
   "cell_type": "code",
   "execution_count": 51,
   "metadata": {
    "colab": {
     "base_uri": "https://localhost:8080/"
    },
    "id": "4cl5UGhB4PwM",
    "outputId": "692072ce-a612-4348-d624-fceb695c20ca"
   },
   "outputs": [
    {
     "name": "stdout",
     "output_type": "stream",
     "text": [
      "Epoch 1/100\n",
      "1/1 [==============================] - 2s 2s/step - loss: 2.7881 - accuracy: 0.0473 - val_loss: 2.5071 - val_accuracy: 0.0441\n",
      "Epoch 2/100\n",
      "1/1 [==============================] - 2s 2s/step - loss: 2.7809 - accuracy: 0.0476 - val_loss: 2.5029 - val_accuracy: 0.0441\n",
      "Epoch 3/100\n",
      "1/1 [==============================] - 2s 2s/step - loss: 2.7723 - accuracy: 0.0473 - val_loss: 2.4986 - val_accuracy: 0.0441\n",
      "Epoch 4/100\n",
      "1/1 [==============================] - 2s 2s/step - loss: 2.7661 - accuracy: 0.0491 - val_loss: 2.4943 - val_accuracy: 0.0441\n",
      "Epoch 5/100\n",
      "1/1 [==============================] - 2s 2s/step - loss: 2.7659 - accuracy: 0.0486 - val_loss: 2.4900 - val_accuracy: 0.0441\n",
      "Epoch 6/100\n",
      "1/1 [==============================] - 2s 2s/step - loss: 2.7559 - accuracy: 0.0475 - val_loss: 2.4856 - val_accuracy: 0.0441\n",
      "Epoch 7/100\n",
      "1/1 [==============================] - 2s 2s/step - loss: 2.7524 - accuracy: 0.0480 - val_loss: 2.4812 - val_accuracy: 0.0447\n",
      "Epoch 8/100\n",
      "1/1 [==============================] - 2s 2s/step - loss: 2.7489 - accuracy: 0.0496 - val_loss: 2.4768 - val_accuracy: 0.0447\n",
      "Epoch 9/100\n",
      "1/1 [==============================] - 2s 2s/step - loss: 2.7398 - accuracy: 0.0506 - val_loss: 2.4724 - val_accuracy: 0.0453\n",
      "Epoch 10/100\n",
      "1/1 [==============================] - 2s 2s/step - loss: 2.7347 - accuracy: 0.0509 - val_loss: 2.4679 - val_accuracy: 0.0447\n",
      "Epoch 11/100\n",
      "1/1 [==============================] - 2s 2s/step - loss: 2.7251 - accuracy: 0.0511 - val_loss: 2.4634 - val_accuracy: 0.0447\n",
      "Epoch 12/100\n",
      "1/1 [==============================] - 2s 2s/step - loss: 2.7249 - accuracy: 0.0511 - val_loss: 2.4589 - val_accuracy: 0.0447\n",
      "Epoch 13/100\n",
      "1/1 [==============================] - 2s 2s/step - loss: 2.7174 - accuracy: 0.0507 - val_loss: 2.4544 - val_accuracy: 0.0447\n",
      "Epoch 14/100\n",
      "1/1 [==============================] - 2s 2s/step - loss: 2.7078 - accuracy: 0.0507 - val_loss: 2.4499 - val_accuracy: 0.0447\n",
      "Epoch 15/100\n",
      "1/1 [==============================] - 2s 2s/step - loss: 2.7049 - accuracy: 0.0522 - val_loss: 2.4453 - val_accuracy: 0.0447\n",
      "Epoch 16/100\n",
      "1/1 [==============================] - 2s 2s/step - loss: 2.6991 - accuracy: 0.0527 - val_loss: 2.4407 - val_accuracy: 0.0447\n",
      "Epoch 17/100\n",
      "1/1 [==============================] - 2s 2s/step - loss: 2.6915 - accuracy: 0.0511 - val_loss: 2.4362 - val_accuracy: 0.0447\n",
      "Epoch 18/100\n",
      "1/1 [==============================] - 2s 2s/step - loss: 2.6860 - accuracy: 0.0509 - val_loss: 2.4315 - val_accuracy: 0.0447\n",
      "Epoch 19/100\n",
      "1/1 [==============================] - 2s 2s/step - loss: 2.6800 - accuracy: 0.0535 - val_loss: 2.4268 - val_accuracy: 0.0453\n",
      "Epoch 20/100\n",
      "1/1 [==============================] - 2s 2s/step - loss: 2.6745 - accuracy: 0.0520 - val_loss: 2.4220 - val_accuracy: 0.0459\n",
      "Epoch 21/100\n",
      "1/1 [==============================] - 2s 2s/step - loss: 2.6657 - accuracy: 0.0531 - val_loss: 2.4173 - val_accuracy: 0.0465\n",
      "Epoch 22/100\n",
      "1/1 [==============================] - 2s 2s/step - loss: 2.6600 - accuracy: 0.0536 - val_loss: 2.4126 - val_accuracy: 0.0465\n",
      "Epoch 23/100\n",
      "1/1 [==============================] - 2s 2s/step - loss: 2.6514 - accuracy: 0.0549 - val_loss: 2.4080 - val_accuracy: 0.0459\n",
      "Epoch 24/100\n",
      "1/1 [==============================] - 2s 2s/step - loss: 2.6465 - accuracy: 0.0536 - val_loss: 2.4033 - val_accuracy: 0.0471\n",
      "Epoch 25/100\n",
      "1/1 [==============================] - 2s 2s/step - loss: 2.6394 - accuracy: 0.0555 - val_loss: 2.3987 - val_accuracy: 0.0471\n",
      "Epoch 26/100\n",
      "1/1 [==============================] - 2s 2s/step - loss: 2.6333 - accuracy: 0.0564 - val_loss: 2.3938 - val_accuracy: 0.0477\n",
      "Epoch 27/100\n",
      "1/1 [==============================] - 2s 2s/step - loss: 2.6258 - accuracy: 0.0551 - val_loss: 2.3887 - val_accuracy: 0.0483\n",
      "Epoch 28/100\n",
      "1/1 [==============================] - 2s 2s/step - loss: 2.6230 - accuracy: 0.0560 - val_loss: 2.3837 - val_accuracy: 0.0501\n",
      "Epoch 29/100\n",
      "1/1 [==============================] - 2s 2s/step - loss: 2.6123 - accuracy: 0.0595 - val_loss: 2.3787 - val_accuracy: 0.0501\n",
      "Epoch 30/100\n",
      "1/1 [==============================] - 2s 2s/step - loss: 2.6086 - accuracy: 0.0578 - val_loss: 2.3738 - val_accuracy: 0.0507\n",
      "Epoch 31/100\n",
      "1/1 [==============================] - 2s 2s/step - loss: 2.5993 - accuracy: 0.0573 - val_loss: 2.3689 - val_accuracy: 0.0513\n",
      "Epoch 32/100\n",
      "1/1 [==============================] - 2s 2s/step - loss: 2.5956 - accuracy: 0.0586 - val_loss: 2.3637 - val_accuracy: 0.0525\n",
      "Epoch 33/100\n",
      "1/1 [==============================] - 2s 2s/step - loss: 2.5871 - accuracy: 0.0593 - val_loss: 2.3583 - val_accuracy: 0.0531\n",
      "Epoch 34/100\n",
      "1/1 [==============================] - 2s 2s/step - loss: 2.5810 - accuracy: 0.0620 - val_loss: 2.3530 - val_accuracy: 0.0543\n",
      "Epoch 35/100\n",
      "1/1 [==============================] - 2s 2s/step - loss: 2.5719 - accuracy: 0.0587 - val_loss: 2.3480 - val_accuracy: 0.0549\n",
      "Epoch 36/100\n",
      "1/1 [==============================] - 2s 2s/step - loss: 2.5655 - accuracy: 0.0622 - val_loss: 2.3430 - val_accuracy: 0.0572\n",
      "Epoch 37/100\n",
      "1/1 [==============================] - 2s 2s/step - loss: 2.5593 - accuracy: 0.0638 - val_loss: 2.3379 - val_accuracy: 0.0578\n",
      "Epoch 38/100\n",
      "1/1 [==============================] - 2s 2s/step - loss: 2.5518 - accuracy: 0.0671 - val_loss: 2.3328 - val_accuracy: 0.0578\n",
      "Epoch 39/100\n",
      "1/1 [==============================] - 2s 2s/step - loss: 2.5427 - accuracy: 0.0660 - val_loss: 2.3276 - val_accuracy: 0.0602\n",
      "Epoch 40/100\n",
      "1/1 [==============================] - 2s 2s/step - loss: 2.5362 - accuracy: 0.0646 - val_loss: 2.3225 - val_accuracy: 0.0614\n",
      "Epoch 41/100\n",
      "1/1 [==============================] - 2s 2s/step - loss: 2.5282 - accuracy: 0.0680 - val_loss: 2.3172 - val_accuracy: 0.0620\n",
      "Epoch 42/100\n",
      "1/1 [==============================] - 2s 2s/step - loss: 2.5233 - accuracy: 0.0691 - val_loss: 2.3117 - val_accuracy: 0.0632\n",
      "Epoch 43/100\n",
      "1/1 [==============================] - 2s 2s/step - loss: 2.5132 - accuracy: 0.0716 - val_loss: 2.3061 - val_accuracy: 0.0644\n",
      "Epoch 44/100\n",
      "1/1 [==============================] - 2s 2s/step - loss: 2.5076 - accuracy: 0.0729 - val_loss: 2.3005 - val_accuracy: 0.0644\n",
      "Epoch 45/100\n",
      "1/1 [==============================] - 2s 2s/step - loss: 2.4993 - accuracy: 0.0740 - val_loss: 2.2950 - val_accuracy: 0.0674\n",
      "Epoch 46/100\n",
      "1/1 [==============================] - 2s 2s/step - loss: 2.4918 - accuracy: 0.0758 - val_loss: 2.2898 - val_accuracy: 0.0668\n",
      "Epoch 47/100\n",
      "1/1 [==============================] - 2s 2s/step - loss: 2.4844 - accuracy: 0.0736 - val_loss: 2.2847 - val_accuracy: 0.0680\n",
      "Epoch 48/100\n",
      "1/1 [==============================] - 2s 2s/step - loss: 2.4759 - accuracy: 0.0738 - val_loss: 2.2797 - val_accuracy: 0.0692\n",
      "Epoch 49/100\n",
      "1/1 [==============================] - 2s 2s/step - loss: 2.4692 - accuracy: 0.0751 - val_loss: 2.2743 - val_accuracy: 0.0710\n",
      "Epoch 50/100\n",
      "1/1 [==============================] - 2s 2s/step - loss: 2.4603 - accuracy: 0.0786 - val_loss: 2.2687 - val_accuracy: 0.0716\n",
      "Epoch 51/100\n",
      "1/1 [==============================] - 2s 2s/step - loss: 2.4516 - accuracy: 0.0773 - val_loss: 2.2632 - val_accuracy: 0.0733\n",
      "Epoch 52/100\n",
      "1/1 [==============================] - 2s 2s/step - loss: 2.4464 - accuracy: 0.0797 - val_loss: 2.2578 - val_accuracy: 0.0739\n",
      "Epoch 53/100\n",
      "1/1 [==============================] - 2s 2s/step - loss: 2.4375 - accuracy: 0.0818 - val_loss: 2.2525 - val_accuracy: 0.0745\n",
      "Epoch 54/100\n",
      "1/1 [==============================] - 2s 2s/step - loss: 2.4304 - accuracy: 0.0846 - val_loss: 2.2476 - val_accuracy: 0.0739\n",
      "Epoch 55/100\n",
      "1/1 [==============================] - 2s 2s/step - loss: 2.4241 - accuracy: 0.0827 - val_loss: 2.2424 - val_accuracy: 0.0745\n",
      "Epoch 56/100\n",
      "1/1 [==============================] - 2s 2s/step - loss: 2.4139 - accuracy: 0.0829 - val_loss: 2.2362 - val_accuracy: 0.0757\n",
      "Epoch 57/100\n",
      "1/1 [==============================] - 2s 2s/step - loss: 2.4026 - accuracy: 0.0833 - val_loss: 2.2300 - val_accuracy: 0.0763\n",
      "Epoch 58/100\n",
      "1/1 [==============================] - 2s 2s/step - loss: 2.3958 - accuracy: 0.0873 - val_loss: 2.2241 - val_accuracy: 0.0763\n",
      "Epoch 59/100\n",
      "1/1 [==============================] - 2s 2s/step - loss: 2.3928 - accuracy: 0.0886 - val_loss: 2.2188 - val_accuracy: 0.0757\n",
      "Epoch 60/100\n",
      "1/1 [==============================] - 2s 2s/step - loss: 2.3843 - accuracy: 0.0867 - val_loss: 2.2137 - val_accuracy: 0.0757\n",
      "Epoch 61/100\n",
      "1/1 [==============================] - 2s 2s/step - loss: 2.3726 - accuracy: 0.0851 - val_loss: 2.2081 - val_accuracy: 0.0781\n",
      "Epoch 62/100\n",
      "1/1 [==============================] - 2s 2s/step - loss: 2.3668 - accuracy: 0.0902 - val_loss: 2.2022 - val_accuracy: 0.0787\n",
      "Epoch 63/100\n",
      "1/1 [==============================] - 2s 2s/step - loss: 2.3577 - accuracy: 0.0922 - val_loss: 2.1970 - val_accuracy: 0.0811\n",
      "Epoch 64/100\n",
      "1/1 [==============================] - 2s 2s/step - loss: 2.3506 - accuracy: 0.0926 - val_loss: 2.1913 - val_accuracy: 0.0799\n",
      "Epoch 65/100\n",
      "1/1 [==============================] - 2s 2s/step - loss: 2.3441 - accuracy: 0.0906 - val_loss: 2.1864 - val_accuracy: 0.0793\n",
      "Epoch 66/100\n",
      "1/1 [==============================] - 2s 2s/step - loss: 2.3312 - accuracy: 0.0926 - val_loss: 2.1812 - val_accuracy: 0.0799\n",
      "Epoch 67/100\n",
      "1/1 [==============================] - 2s 2s/step - loss: 2.3232 - accuracy: 0.0944 - val_loss: 2.1755 - val_accuracy: 0.0805\n",
      "Epoch 68/100\n",
      "1/1 [==============================] - 2s 2s/step - loss: 2.3227 - accuracy: 0.0915 - val_loss: 2.1697 - val_accuracy: 0.0823\n",
      "Epoch 69/100\n",
      "1/1 [==============================] - 2s 2s/step - loss: 2.3113 - accuracy: 0.0991 - val_loss: 2.1644 - val_accuracy: 0.0835\n",
      "Epoch 70/100\n",
      "1/1 [==============================] - 2s 2s/step - loss: 2.3014 - accuracy: 0.0986 - val_loss: 2.1594 - val_accuracy: 0.0823\n",
      "Epoch 71/100\n",
      "1/1 [==============================] - 2s 2s/step - loss: 2.2932 - accuracy: 0.0989 - val_loss: 2.1541 - val_accuracy: 0.0823\n",
      "Epoch 72/100\n",
      "1/1 [==============================] - 2s 2s/step - loss: 2.2861 - accuracy: 0.0980 - val_loss: 2.1480 - val_accuracy: 0.0835\n",
      "Epoch 73/100\n",
      "1/1 [==============================] - 2s 2s/step - loss: 2.2794 - accuracy: 0.0991 - val_loss: 2.1422 - val_accuracy: 0.0841\n",
      "Epoch 74/100\n",
      "1/1 [==============================] - 2s 2s/step - loss: 2.2704 - accuracy: 0.0998 - val_loss: 2.1367 - val_accuracy: 0.0847\n",
      "Epoch 75/100\n",
      "1/1 [==============================] - 2s 2s/step - loss: 2.2569 - accuracy: 0.1029 - val_loss: 2.1317 - val_accuracy: 0.0847\n",
      "Epoch 76/100\n",
      "1/1 [==============================] - 2s 2s/step - loss: 2.2535 - accuracy: 0.1031 - val_loss: 2.1266 - val_accuracy: 0.0847\n",
      "Epoch 77/100\n",
      "1/1 [==============================] - 2s 2s/step - loss: 2.2455 - accuracy: 0.1037 - val_loss: 2.1212 - val_accuracy: 0.0859\n",
      "Epoch 78/100\n",
      "1/1 [==============================] - 2s 2s/step - loss: 2.2377 - accuracy: 0.1037 - val_loss: 2.1158 - val_accuracy: 0.0865\n",
      "Epoch 79/100\n",
      "1/1 [==============================] - 2s 2s/step - loss: 2.2253 - accuracy: 0.1100 - val_loss: 2.1107 - val_accuracy: 0.0871\n",
      "Epoch 80/100\n",
      "1/1 [==============================] - 2s 2s/step - loss: 2.2196 - accuracy: 0.1071 - val_loss: 2.1062 - val_accuracy: 0.0859\n",
      "Epoch 81/100\n",
      "1/1 [==============================] - 2s 2s/step - loss: 2.2131 - accuracy: 0.1049 - val_loss: 2.1012 - val_accuracy: 0.0859\n",
      "Epoch 82/100\n",
      "1/1 [==============================] - 2s 2s/step - loss: 2.2023 - accuracy: 0.1064 - val_loss: 2.0948 - val_accuracy: 0.0894\n",
      "Epoch 83/100\n",
      "1/1 [==============================] - 2s 2s/step - loss: 2.1944 - accuracy: 0.1097 - val_loss: 2.0895 - val_accuracy: 0.0894\n",
      "Epoch 84/100\n",
      "1/1 [==============================] - 2s 2s/step - loss: 2.1842 - accuracy: 0.1093 - val_loss: 2.0849 - val_accuracy: 0.0906\n",
      "Epoch 85/100\n",
      "1/1 [==============================] - 2s 2s/step - loss: 2.1782 - accuracy: 0.1117 - val_loss: 2.0806 - val_accuracy: 0.0900\n",
      "Epoch 86/100\n",
      "1/1 [==============================] - 2s 2s/step - loss: 2.1697 - accuracy: 0.1078 - val_loss: 2.0744 - val_accuracy: 0.0918\n",
      "Epoch 87/100\n",
      "1/1 [==============================] - 2s 2s/step - loss: 2.1610 - accuracy: 0.1095 - val_loss: 2.0687 - val_accuracy: 0.0906\n",
      "Epoch 88/100\n",
      "1/1 [==============================] - 2s 2s/step - loss: 2.1536 - accuracy: 0.1126 - val_loss: 2.0643 - val_accuracy: 0.0912\n",
      "Epoch 89/100\n",
      "1/1 [==============================] - 2s 2s/step - loss: 2.1431 - accuracy: 0.1122 - val_loss: 2.0596 - val_accuracy: 0.0906\n",
      "Epoch 90/100\n",
      "1/1 [==============================] - 2s 2s/step - loss: 2.1350 - accuracy: 0.1146 - val_loss: 2.0538 - val_accuracy: 0.0900\n",
      "Epoch 91/100\n",
      "1/1 [==============================] - 2s 2s/step - loss: 2.1277 - accuracy: 0.1158 - val_loss: 2.0481 - val_accuracy: 0.0906\n",
      "Epoch 92/100\n",
      "1/1 [==============================] - 2s 2s/step - loss: 2.1169 - accuracy: 0.1158 - val_loss: 2.0422 - val_accuracy: 0.0936\n",
      "Epoch 93/100\n",
      "1/1 [==============================] - 2s 2s/step - loss: 2.1125 - accuracy: 0.1187 - val_loss: 2.0371 - val_accuracy: 0.0936\n",
      "Epoch 94/100\n",
      "1/1 [==============================] - 2s 2s/step - loss: 2.1008 - accuracy: 0.1202 - val_loss: 2.0334 - val_accuracy: 0.0936\n",
      "Epoch 95/100\n",
      "1/1 [==============================] - 2s 2s/step - loss: 2.0970 - accuracy: 0.1158 - val_loss: 2.0278 - val_accuracy: 0.0942\n",
      "Epoch 96/100\n",
      "1/1 [==============================] - 2s 2s/step - loss: 2.0871 - accuracy: 0.1173 - val_loss: 2.0224 - val_accuracy: 0.0966\n",
      "Epoch 97/100\n",
      "1/1 [==============================] - 2s 2s/step - loss: 2.0765 - accuracy: 0.1231 - val_loss: 2.0174 - val_accuracy: 0.0966\n",
      "Epoch 98/100\n",
      "1/1 [==============================] - 2s 2s/step - loss: 2.0693 - accuracy: 0.1226 - val_loss: 2.0132 - val_accuracy: 0.0960\n",
      "Epoch 99/100\n",
      "1/1 [==============================] - 2s 2s/step - loss: 2.0592 - accuracy: 0.1233 - val_loss: 2.0073 - val_accuracy: 0.0966\n",
      "Epoch 100/100\n",
      "1/1 [==============================] - 2s 2s/step - loss: 2.0544 - accuracy: 0.1206 - val_loss: 2.0020 - val_accuracy: 0.0990\n"
     ]
    }
   ],
   "source": [
    "model_lr_three = model.fit(dataset, epochs= 100, validation_data=validation_set)"
   ]
  },
  {
   "cell_type": "code",
   "execution_count": 52,
   "metadata": {
    "colab": {
     "base_uri": "https://localhost:8080/",
     "height": 295
    },
    "id": "qPRAJDuT5MGs",
    "outputId": "53c1b295-d46d-48ae-a222-d84d9c1f8221"
   },
   "outputs": [
    {
     "data": {
      "image/png": "[encoded data removed]",
      "text/plain": [
       "<Figure size 432x288 with 1 Axes>"
      ]
     },
     "metadata": {
      "needs_background": "light"
     },
     "output_type": "display_data"
    }
   ],
   "source": [
    "plt.figure(figsize=(6, 4))\n",
    "\n",
    "epochs = model_lr_three.epoch\n",
    "validation = model_lr_three.history['val_accuracy']\n",
    "train = model_lr_three.history['accuracy']\n",
    "\n",
    "plt.plot(epochs, validation, color='black', linestyle='solid', label='validation')\n",
    "plt.plot(epochs, train, color='black', linestyle='dashed', label='train')\n",
    "\n",
    "plt.title('Transformer Model Accuracy')\n",
    "plt.xlabel('Epoch')\n",
    "plt.ylabel('Accuracy')\n",
    "\n",
    "plt.xticks(np.arange(10))\n",
    "\n",
    "plt.legend()\n",
    "\n",
    "\n",
    "plt.savefig('model_lr_three.svg')\n",
    "\n",
    "plt.show()"
   ]
  },
  {
   "cell_type": "code",
   "execution_count": 53,
   "metadata": {
    "colab": {
     "base_uri": "https://localhost:8080/"
    },
    "id": "VJ--_j9l5Vjd",
    "outputId": "e275e919-abfe-4247-b40e-c0ca2833cfb2"
   },
   "outputs": [
    {
     "name": "stdout",
     "output_type": "stream",
     "text": [
      "Epoch 1/200\n",
      "1/1 [==============================] - 2s 2s/step - loss: 2.0439 - accuracy: 0.1255 - val_loss: 1.9968 - val_accuracy: 0.1002\n",
      "Epoch 2/200\n",
      "1/1 [==============================] - 2s 2s/step - loss: 2.0367 - accuracy: 0.1227 - val_loss: 1.9929 - val_accuracy: 0.1008\n",
      "Epoch 3/200\n",
      "1/1 [==============================] - 2s 2s/step - loss: 2.0305 - accuracy: 0.1257 - val_loss: 1.9889 - val_accuracy: 0.1008\n",
      "Epoch 4/200\n",
      "1/1 [==============================] - 2s 2s/step - loss: 2.0161 - accuracy: 0.1289 - val_loss: 1.9836 - val_accuracy: 0.1020\n",
      "Epoch 5/200\n",
      "1/1 [==============================] - 2s 2s/step - loss: 2.0138 - accuracy: 0.1284 - val_loss: 1.9773 - val_accuracy: 0.1026\n",
      "Epoch 6/200\n",
      "1/1 [==============================] - 2s 2s/step - loss: 2.0042 - accuracy: 0.1300 - val_loss: 1.9718 - val_accuracy: 0.1014\n",
      "Epoch 7/200\n",
      "1/1 [==============================] - 2s 2s/step - loss: 1.9940 - accuracy: 0.1311 - val_loss: 1.9670 - val_accuracy: 0.1032\n",
      "Epoch 8/200\n",
      "1/1 [==============================] - 2s 2s/step - loss: 1.9880 - accuracy: 0.1289 - val_loss: 1.9634 - val_accuracy: 0.1038\n",
      "Epoch 9/200\n",
      "1/1 [==============================] - 2s 2s/step - loss: 1.9773 - accuracy: 0.1335 - val_loss: 1.9595 - val_accuracy: 0.1044\n",
      "Epoch 10/200\n",
      "1/1 [==============================] - 2s 2s/step - loss: 1.9702 - accuracy: 0.1355 - val_loss: 1.9545 - val_accuracy: 0.1044\n",
      "Epoch 11/200\n",
      "1/1 [==============================] - 2s 2s/step - loss: 1.9625 - accuracy: 0.1328 - val_loss: 1.9493 - val_accuracy: 0.1061\n",
      "Epoch 12/200\n",
      "1/1 [==============================] - 2s 2s/step - loss: 1.9550 - accuracy: 0.1328 - val_loss: 1.9439 - val_accuracy: 0.1067\n",
      "Epoch 13/200\n",
      "1/1 [==============================] - 2s 2s/step - loss: 1.9452 - accuracy: 0.1366 - val_loss: 1.9384 - val_accuracy: 0.1061\n",
      "Epoch 14/200\n",
      "1/1 [==============================] - 2s 2s/step - loss: 1.9315 - accuracy: 0.1371 - val_loss: 1.9342 - val_accuracy: 0.1085\n",
      "Epoch 15/200\n",
      "1/1 [==============================] - 2s 2s/step - loss: 1.9297 - accuracy: 0.1373 - val_loss: 1.9287 - val_accuracy: 0.1091\n",
      "Epoch 16/200\n",
      "1/1 [==============================] - 2s 2s/step - loss: 1.9229 - accuracy: 0.1386 - val_loss: 1.9234 - val_accuracy: 0.1091\n",
      "Epoch 17/200\n",
      "1/1 [==============================] - 2s 2s/step - loss: 1.9130 - accuracy: 0.1438 - val_loss: 1.9191 - val_accuracy: 0.1085\n",
      "Epoch 18/200\n",
      "1/1 [==============================] - 2s 2s/step - loss: 1.9033 - accuracy: 0.1428 - val_loss: 1.9163 - val_accuracy: 0.1091\n",
      "Epoch 19/200\n",
      "1/1 [==============================] - 2s 2s/step - loss: 1.8905 - accuracy: 0.1413 - val_loss: 1.9113 - val_accuracy: 0.1091\n",
      "Epoch 20/200\n",
      "1/1 [==============================] - 2s 2s/step - loss: 1.8876 - accuracy: 0.1418 - val_loss: 1.9052 - val_accuracy: 0.1079\n",
      "Epoch 21/200\n",
      "1/1 [==============================] - 2s 2s/step - loss: 1.8767 - accuracy: 0.1457 - val_loss: 1.9000 - val_accuracy: 0.1115\n",
      "Epoch 22/200\n",
      "1/1 [==============================] - 2s 2s/step - loss: 1.8707 - accuracy: 0.1440 - val_loss: 1.8958 - val_accuracy: 0.1121\n",
      "Epoch 23/200\n",
      "1/1 [==============================] - 2s 2s/step - loss: 1.8639 - accuracy: 0.1471 - val_loss: 1.8913 - val_accuracy: 0.1121\n",
      "Epoch 24/200\n",
      "1/1 [==============================] - 2s 2s/step - loss: 1.8552 - accuracy: 0.1480 - val_loss: 1.8870 - val_accuracy: 0.1115\n",
      "Epoch 25/200\n",
      "1/1 [==============================] - 2s 2s/step - loss: 1.8456 - accuracy: 0.1498 - val_loss: 1.8825 - val_accuracy: 0.1115\n",
      "Epoch 26/200\n",
      "1/1 [==============================] - 2s 2s/step - loss: 1.8388 - accuracy: 0.1488 - val_loss: 1.8782 - val_accuracy: 0.1121\n",
      "Epoch 27/200\n",
      "1/1 [==============================] - 2s 2s/step - loss: 1.8261 - accuracy: 0.1535 - val_loss: 1.8741 - val_accuracy: 0.1127\n",
      "Epoch 28/200\n",
      "1/1 [==============================] - 2s 2s/step - loss: 1.8215 - accuracy: 0.1524 - val_loss: 1.8691 - val_accuracy: 0.1127\n",
      "Epoch 29/200\n",
      "1/1 [==============================] - 2s 2s/step - loss: 1.8129 - accuracy: 0.1564 - val_loss: 1.8645 - val_accuracy: 0.1121\n",
      "Epoch 30/200\n",
      "1/1 [==============================] - 2s 2s/step - loss: 1.8054 - accuracy: 0.1533 - val_loss: 1.8594 - val_accuracy: 0.1133\n",
      "Epoch 31/200\n",
      "1/1 [==============================] - 2s 2s/step - loss: 1.7999 - accuracy: 0.1542 - val_loss: 1.8538 - val_accuracy: 0.1169\n",
      "Epoch 32/200\n",
      "1/1 [==============================] - 2s 2s/step - loss: 1.7909 - accuracy: 0.1600 - val_loss: 1.8497 - val_accuracy: 0.1163\n",
      "Epoch 33/200\n",
      "1/1 [==============================] - 2s 2s/step - loss: 1.7836 - accuracy: 0.1591 - val_loss: 1.8457 - val_accuracy: 0.1163\n",
      "Epoch 34/200\n",
      "1/1 [==============================] - 2s 2s/step - loss: 1.7741 - accuracy: 0.1631 - val_loss: 1.8426 - val_accuracy: 0.1205\n",
      "Epoch 35/200\n",
      "1/1 [==============================] - 2s 2s/step - loss: 1.7642 - accuracy: 0.1668 - val_loss: 1.8380 - val_accuracy: 0.1205\n",
      "Epoch 36/200\n",
      "1/1 [==============================] - 2s 2s/step - loss: 1.7561 - accuracy: 0.1597 - val_loss: 1.8329 - val_accuracy: 0.1199\n",
      "Epoch 37/200\n",
      "1/1 [==============================] - 2s 2s/step - loss: 1.7483 - accuracy: 0.1617 - val_loss: 1.8277 - val_accuracy: 0.1199\n",
      "Epoch 38/200\n",
      "1/1 [==============================] - 2s 2s/step - loss: 1.7405 - accuracy: 0.1657 - val_loss: 1.8234 - val_accuracy: 0.1205\n",
      "Epoch 39/200\n",
      "1/1 [==============================] - 2s 2s/step - loss: 1.7333 - accuracy: 0.1642 - val_loss: 1.8205 - val_accuracy: 0.1216\n",
      "Epoch 40/200\n",
      "1/1 [==============================] - 2s 2s/step - loss: 1.7273 - accuracy: 0.1708 - val_loss: 1.8155 - val_accuracy: 0.1228\n",
      "Epoch 41/200\n",
      "1/1 [==============================] - 2s 2s/step - loss: 1.7179 - accuracy: 0.1695 - val_loss: 1.8103 - val_accuracy: 0.1228\n",
      "Epoch 42/200\n",
      "1/1 [==============================] - 2s 2s/step - loss: 1.7082 - accuracy: 0.1726 - val_loss: 1.8054 - val_accuracy: 0.1216\n",
      "Epoch 43/200\n",
      "1/1 [==============================] - 2s 2s/step - loss: 1.7005 - accuracy: 0.1688 - val_loss: 1.8015 - val_accuracy: 0.1228\n",
      "Epoch 44/200\n",
      "1/1 [==============================] - 2s 2s/step - loss: 1.6928 - accuracy: 0.1709 - val_loss: 1.7979 - val_accuracy: 0.1258\n",
      "Epoch 45/200\n",
      "1/1 [==============================] - 2s 2s/step - loss: 1.6874 - accuracy: 0.1742 - val_loss: 1.7938 - val_accuracy: 0.1252\n",
      "Epoch 46/200\n",
      "1/1 [==============================] - 2s 2s/step - loss: 1.6800 - accuracy: 0.1802 - val_loss: 1.7897 - val_accuracy: 0.1252\n",
      "Epoch 47/200\n",
      "1/1 [==============================] - 2s 2s/step - loss: 1.6682 - accuracy: 0.1809 - val_loss: 1.7852 - val_accuracy: 0.1246\n",
      "Epoch 48/200\n",
      "1/1 [==============================] - 2s 2s/step - loss: 1.6635 - accuracy: 0.1789 - val_loss: 1.7815 - val_accuracy: 0.1258\n",
      "Epoch 49/200\n",
      "1/1 [==============================] - 2s 2s/step - loss: 1.6539 - accuracy: 0.1782 - val_loss: 1.7773 - val_accuracy: 0.1276\n",
      "Epoch 50/200\n",
      "1/1 [==============================] - 2s 2s/step - loss: 1.6474 - accuracy: 0.1808 - val_loss: 1.7726 - val_accuracy: 0.1288\n",
      "Epoch 51/200\n",
      "1/1 [==============================] - 2s 2s/step - loss: 1.6348 - accuracy: 0.1871 - val_loss: 1.7691 - val_accuracy: 0.1306\n",
      "Epoch 52/200\n",
      "1/1 [==============================] - 2s 2s/step - loss: 1.6294 - accuracy: 0.1871 - val_loss: 1.7648 - val_accuracy: 0.1294\n",
      "Epoch 53/200\n",
      "1/1 [==============================] - 2s 2s/step - loss: 1.6227 - accuracy: 0.1866 - val_loss: 1.7600 - val_accuracy: 0.1282\n",
      "Epoch 54/200\n",
      "1/1 [==============================] - 2s 2s/step - loss: 1.6128 - accuracy: 0.1879 - val_loss: 1.7556 - val_accuracy: 0.1300\n",
      "Epoch 55/200\n",
      "1/1 [==============================] - 2s 2s/step - loss: 1.6104 - accuracy: 0.1853 - val_loss: 1.7521 - val_accuracy: 0.1324\n",
      "Epoch 56/200\n",
      "1/1 [==============================] - 2s 2s/step - loss: 1.5976 - accuracy: 0.1920 - val_loss: 1.7487 - val_accuracy: 0.1336\n",
      "Epoch 57/200\n",
      "1/1 [==============================] - 2s 2s/step - loss: 1.5906 - accuracy: 0.1940 - val_loss: 1.7445 - val_accuracy: 0.1354\n",
      "Epoch 58/200\n",
      "1/1 [==============================] - 2s 2s/step - loss: 1.5858 - accuracy: 0.1964 - val_loss: 1.7401 - val_accuracy: 0.1354\n",
      "Epoch 59/200\n",
      "1/1 [==============================] - 2s 2s/step - loss: 1.5778 - accuracy: 0.1949 - val_loss: 1.7359 - val_accuracy: 0.1354\n",
      "Epoch 60/200\n",
      "1/1 [==============================] - 2s 2s/step - loss: 1.5672 - accuracy: 0.1966 - val_loss: 1.7326 - val_accuracy: 0.1354\n",
      "Epoch 61/200\n",
      "1/1 [==============================] - 2s 2s/step - loss: 1.5626 - accuracy: 0.1953 - val_loss: 1.7285 - val_accuracy: 0.1371\n",
      "Epoch 62/200\n",
      "1/1 [==============================] - 2s 2s/step - loss: 1.5547 - accuracy: 0.2004 - val_loss: 1.7254 - val_accuracy: 0.1389\n",
      "Epoch 63/200\n",
      "1/1 [==============================] - 2s 2s/step - loss: 1.5439 - accuracy: 0.2033 - val_loss: 1.7216 - val_accuracy: 0.1383\n",
      "Epoch 64/200\n",
      "1/1 [==============================] - 2s 2s/step - loss: 1.5363 - accuracy: 0.2022 - val_loss: 1.7171 - val_accuracy: 0.1377\n",
      "Epoch 65/200\n",
      "1/1 [==============================] - 2s 2s/step - loss: 1.5260 - accuracy: 0.2019 - val_loss: 1.7139 - val_accuracy: 0.1407\n",
      "Epoch 66/200\n",
      "1/1 [==============================] - 2s 2s/step - loss: 1.5175 - accuracy: 0.2049 - val_loss: 1.7110 - val_accuracy: 0.1401\n",
      "Epoch 67/200\n",
      "1/1 [==============================] - 2s 2s/step - loss: 1.5115 - accuracy: 0.2079 - val_loss: 1.7072 - val_accuracy: 0.1419\n",
      "Epoch 68/200\n",
      "1/1 [==============================] - 2s 2s/step - loss: 1.5063 - accuracy: 0.2086 - val_loss: 1.7029 - val_accuracy: 0.1419\n",
      "Epoch 69/200\n",
      "1/1 [==============================] - 2s 2s/step - loss: 1.4973 - accuracy: 0.2089 - val_loss: 1.6983 - val_accuracy: 0.1419\n",
      "Epoch 70/200\n",
      "1/1 [==============================] - 2s 2s/step - loss: 1.4908 - accuracy: 0.2069 - val_loss: 1.6944 - val_accuracy: 0.1437\n",
      "Epoch 71/200\n",
      "1/1 [==============================] - 2s 2s/step - loss: 1.4795 - accuracy: 0.2100 - val_loss: 1.6919 - val_accuracy: 0.1449\n",
      "Epoch 72/200\n",
      "1/1 [==============================] - 2s 2s/step - loss: 1.4781 - accuracy: 0.2157 - val_loss: 1.6907 - val_accuracy: 0.1467\n",
      "Epoch 73/200\n",
      "1/1 [==============================] - 2s 2s/step - loss: 1.4682 - accuracy: 0.2148 - val_loss: 1.6872 - val_accuracy: 0.1437\n",
      "Epoch 74/200\n",
      "1/1 [==============================] - 2s 2s/step - loss: 1.4596 - accuracy: 0.2169 - val_loss: 1.6802 - val_accuracy: 0.1455\n",
      "Epoch 75/200\n",
      "1/1 [==============================] - 2s 2s/step - loss: 1.4515 - accuracy: 0.2182 - val_loss: 1.6754 - val_accuracy: 0.1467\n",
      "Epoch 76/200\n",
      "1/1 [==============================] - 2s 2s/step - loss: 1.4447 - accuracy: 0.2173 - val_loss: 1.6712 - val_accuracy: 0.1491\n",
      "Epoch 77/200\n",
      "1/1 [==============================] - 2s 2s/step - loss: 1.4433 - accuracy: 0.2231 - val_loss: 1.6688 - val_accuracy: 0.1479\n",
      "Epoch 78/200\n",
      "1/1 [==============================] - 2s 2s/step - loss: 1.4294 - accuracy: 0.2208 - val_loss: 1.6671 - val_accuracy: 0.1461\n",
      "Epoch 79/200\n",
      "1/1 [==============================] - 3s 3s/step - loss: 1.4249 - accuracy: 0.2180 - val_loss: 1.6632 - val_accuracy: 0.1473\n",
      "Epoch 80/200\n",
      "1/1 [==============================] - 2s 2s/step - loss: 1.4156 - accuracy: 0.2249 - val_loss: 1.6593 - val_accuracy: 0.1503\n",
      "Epoch 81/200\n",
      "1/1 [==============================] - 2s 2s/step - loss: 1.4063 - accuracy: 0.2284 - val_loss: 1.6548 - val_accuracy: 0.1509\n",
      "Epoch 82/200\n",
      "1/1 [==============================] - 2s 2s/step - loss: 1.4014 - accuracy: 0.2248 - val_loss: 1.6506 - val_accuracy: 0.1497\n",
      "Epoch 83/200\n",
      "1/1 [==============================] - 2s 2s/step - loss: 1.3935 - accuracy: 0.2270 - val_loss: 1.6478 - val_accuracy: 0.1491\n",
      "Epoch 84/200\n",
      "1/1 [==============================] - 2s 2s/step - loss: 1.3834 - accuracy: 0.2268 - val_loss: 1.6440 - val_accuracy: 0.1527\n",
      "Epoch 85/200\n",
      "1/1 [==============================] - 2s 2s/step - loss: 1.3786 - accuracy: 0.2304 - val_loss: 1.6401 - val_accuracy: 0.1527\n",
      "Epoch 86/200\n",
      "1/1 [==============================] - 2s 2s/step - loss: 1.3720 - accuracy: 0.2344 - val_loss: 1.6366 - val_accuracy: 0.1503\n",
      "Epoch 87/200\n",
      "1/1 [==============================] - 2s 2s/step - loss: 1.3670 - accuracy: 0.2342 - val_loss: 1.6336 - val_accuracy: 0.1485\n",
      "Epoch 88/200\n",
      "1/1 [==============================] - 2s 2s/step - loss: 1.3586 - accuracy: 0.2362 - val_loss: 1.6302 - val_accuracy: 0.1497\n",
      "Epoch 89/200\n",
      "1/1 [==============================] - 2s 2s/step - loss: 1.3502 - accuracy: 0.2320 - val_loss: 1.6284 - val_accuracy: 0.1544\n",
      "Epoch 90/200\n",
      "1/1 [==============================] - 2s 2s/step - loss: 1.3416 - accuracy: 0.2390 - val_loss: 1.6262 - val_accuracy: 0.1580\n",
      "Epoch 91/200\n",
      "1/1 [==============================] - 2s 2s/step - loss: 1.3340 - accuracy: 0.2406 - val_loss: 1.6215 - val_accuracy: 0.1550\n",
      "Epoch 92/200\n",
      "1/1 [==============================] - 2s 2s/step - loss: 1.3304 - accuracy: 0.2408 - val_loss: 1.6175 - val_accuracy: 0.1532\n",
      "Epoch 93/200\n",
      "1/1 [==============================] - 2s 2s/step - loss: 1.3285 - accuracy: 0.2395 - val_loss: 1.6147 - val_accuracy: 0.1538\n",
      "Epoch 94/200\n",
      "1/1 [==============================] - 2s 2s/step - loss: 1.3146 - accuracy: 0.2390 - val_loss: 1.6125 - val_accuracy: 0.1586\n",
      "Epoch 95/200\n",
      "1/1 [==============================] - 2s 2s/step - loss: 1.3056 - accuracy: 0.2437 - val_loss: 1.6077 - val_accuracy: 0.1616\n",
      "Epoch 96/200\n",
      "1/1 [==============================] - 2s 2s/step - loss: 1.2953 - accuracy: 0.2464 - val_loss: 1.6036 - val_accuracy: 0.1604\n",
      "Epoch 97/200\n",
      "1/1 [==============================] - 2s 2s/step - loss: 1.2922 - accuracy: 0.2493 - val_loss: 1.6012 - val_accuracy: 0.1598\n",
      "Epoch 98/200\n",
      "1/1 [==============================] - 2s 2s/step - loss: 1.2832 - accuracy: 0.2493 - val_loss: 1.5983 - val_accuracy: 0.1580\n",
      "Epoch 99/200\n",
      "1/1 [==============================] - 2s 2s/step - loss: 1.2761 - accuracy: 0.2448 - val_loss: 1.5959 - val_accuracy: 0.1622\n",
      "Epoch 100/200\n",
      "1/1 [==============================] - 2s 2s/step - loss: 1.2688 - accuracy: 0.2566 - val_loss: 1.5928 - val_accuracy: 0.1646\n",
      "Epoch 101/200\n",
      "1/1 [==============================] - 2s 2s/step - loss: 1.2656 - accuracy: 0.2579 - val_loss: 1.5885 - val_accuracy: 0.1664\n",
      "Epoch 102/200\n",
      "1/1 [==============================] - 2s 2s/step - loss: 1.2579 - accuracy: 0.2550 - val_loss: 1.5858 - val_accuracy: 0.1628\n",
      "Epoch 103/200\n",
      "1/1 [==============================] - 2s 2s/step - loss: 1.2490 - accuracy: 0.2553 - val_loss: 1.5848 - val_accuracy: 0.1640\n",
      "Epoch 104/200\n",
      "1/1 [==============================] - 2s 2s/step - loss: 1.2431 - accuracy: 0.2566 - val_loss: 1.5824 - val_accuracy: 0.1640\n",
      "Epoch 105/200\n",
      "1/1 [==============================] - 2s 2s/step - loss: 1.2352 - accuracy: 0.2566 - val_loss: 1.5782 - val_accuracy: 0.1652\n",
      "Epoch 106/200\n",
      "1/1 [==============================] - 2s 2s/step - loss: 1.2310 - accuracy: 0.2599 - val_loss: 1.5743 - val_accuracy: 0.1670\n",
      "Epoch 107/200\n",
      "1/1 [==============================] - 2s 2s/step - loss: 1.2237 - accuracy: 0.2622 - val_loss: 1.5706 - val_accuracy: 0.1664\n",
      "Epoch 108/200\n",
      "1/1 [==============================] - 2s 2s/step - loss: 1.2122 - accuracy: 0.2624 - val_loss: 1.5673 - val_accuracy: 0.1682\n",
      "Epoch 109/200\n",
      "1/1 [==============================] - 2s 2s/step - loss: 1.2060 - accuracy: 0.2615 - val_loss: 1.5651 - val_accuracy: 0.1688\n",
      "Epoch 110/200\n",
      "1/1 [==============================] - 2s 2s/step - loss: 1.2016 - accuracy: 0.2660 - val_loss: 1.5630 - val_accuracy: 0.1694\n",
      "Epoch 111/200\n",
      "1/1 [==============================] - 2s 2s/step - loss: 1.1948 - accuracy: 0.2699 - val_loss: 1.5603 - val_accuracy: 0.1688\n",
      "Epoch 112/200\n",
      "1/1 [==============================] - 2s 2s/step - loss: 1.1841 - accuracy: 0.2731 - val_loss: 1.5566 - val_accuracy: 0.1658\n",
      "Epoch 113/200\n",
      "1/1 [==============================] - 2s 2s/step - loss: 1.1814 - accuracy: 0.2686 - val_loss: 1.5525 - val_accuracy: 0.1664\n",
      "Epoch 114/200\n",
      "1/1 [==============================] - 2s 2s/step - loss: 1.1699 - accuracy: 0.2706 - val_loss: 1.5499 - val_accuracy: 0.1670\n",
      "Epoch 115/200\n",
      "1/1 [==============================] - 2s 2s/step - loss: 1.1699 - accuracy: 0.2691 - val_loss: 1.5473 - val_accuracy: 0.1682\n",
      "Epoch 116/200\n",
      "1/1 [==============================] - 2s 2s/step - loss: 1.1585 - accuracy: 0.2746 - val_loss: 1.5440 - val_accuracy: 0.1676\n",
      "Epoch 117/200\n",
      "1/1 [==============================] - 2s 2s/step - loss: 1.1479 - accuracy: 0.2728 - val_loss: 1.5419 - val_accuracy: 0.1676\n",
      "Epoch 118/200\n",
      "1/1 [==============================] - 2s 2s/step - loss: 1.1443 - accuracy: 0.2773 - val_loss: 1.5397 - val_accuracy: 0.1694\n",
      "Epoch 119/200\n",
      "1/1 [==============================] - 2s 2s/step - loss: 1.1376 - accuracy: 0.2784 - val_loss: 1.5373 - val_accuracy: 0.1699\n",
      "Epoch 120/200\n",
      "1/1 [==============================] - 2s 2s/step - loss: 1.1293 - accuracy: 0.2773 - val_loss: 1.5351 - val_accuracy: 0.1705\n",
      "Epoch 121/200\n",
      "1/1 [==============================] - 2s 2s/step - loss: 1.1221 - accuracy: 0.2813 - val_loss: 1.5305 - val_accuracy: 0.1699\n",
      "Epoch 122/200\n",
      "1/1 [==============================] - 2s 2s/step - loss: 1.1222 - accuracy: 0.2797 - val_loss: 1.5267 - val_accuracy: 0.1735\n",
      "Epoch 123/200\n",
      "1/1 [==============================] - 2s 2s/step - loss: 1.1082 - accuracy: 0.2862 - val_loss: 1.5248 - val_accuracy: 0.1747\n",
      "Epoch 124/200\n",
      "1/1 [==============================] - 2s 2s/step - loss: 1.1075 - accuracy: 0.2866 - val_loss: 1.5222 - val_accuracy: 0.1747\n",
      "Epoch 125/200\n",
      "1/1 [==============================] - 2s 2s/step - loss: 1.0921 - accuracy: 0.2811 - val_loss: 1.5196 - val_accuracy: 0.1753\n",
      "Epoch 126/200\n",
      "1/1 [==============================] - 2s 2s/step - loss: 1.0859 - accuracy: 0.2862 - val_loss: 1.5170 - val_accuracy: 0.1741\n",
      "Epoch 127/200\n",
      "1/1 [==============================] - 2s 2s/step - loss: 1.0858 - accuracy: 0.2882 - val_loss: 1.5158 - val_accuracy: 0.1759\n",
      "Epoch 128/200\n",
      "1/1 [==============================] - 2s 2s/step - loss: 1.0787 - accuracy: 0.2902 - val_loss: 1.5129 - val_accuracy: 0.1759\n",
      "Epoch 129/200\n",
      "1/1 [==============================] - 2s 2s/step - loss: 1.0697 - accuracy: 0.2917 - val_loss: 1.5106 - val_accuracy: 0.1789\n",
      "Epoch 130/200\n",
      "1/1 [==============================] - 2s 2s/step - loss: 1.0643 - accuracy: 0.2917 - val_loss: 1.5077 - val_accuracy: 0.1777\n",
      "Epoch 131/200\n",
      "1/1 [==============================] - 2s 2s/step - loss: 1.0603 - accuracy: 0.2901 - val_loss: 1.5043 - val_accuracy: 0.1777\n",
      "Epoch 132/200\n",
      "1/1 [==============================] - 2s 2s/step - loss: 1.0524 - accuracy: 0.2921 - val_loss: 1.5023 - val_accuracy: 0.1783\n",
      "Epoch 133/200\n",
      "1/1 [==============================] - 2s 2s/step - loss: 1.0465 - accuracy: 0.2971 - val_loss: 1.5003 - val_accuracy: 0.1795\n",
      "Epoch 134/200\n",
      "1/1 [==============================] - 2s 2s/step - loss: 1.0369 - accuracy: 0.2957 - val_loss: 1.4991 - val_accuracy: 0.1795\n",
      "Epoch 135/200\n",
      "1/1 [==============================] - 2s 2s/step - loss: 1.0342 - accuracy: 0.2975 - val_loss: 1.4960 - val_accuracy: 0.1801\n",
      "Epoch 136/200\n",
      "1/1 [==============================] - 2s 2s/step - loss: 1.0244 - accuracy: 0.2966 - val_loss: 1.4931 - val_accuracy: 0.1795\n",
      "Epoch 137/200\n",
      "1/1 [==============================] - 2s 2s/step - loss: 1.0159 - accuracy: 0.3035 - val_loss: 1.4904 - val_accuracy: 0.1801\n",
      "Epoch 138/200\n",
      "1/1 [==============================] - 2s 2s/step - loss: 1.0110 - accuracy: 0.3021 - val_loss: 1.4878 - val_accuracy: 0.1801\n",
      "Epoch 139/200\n",
      "1/1 [==============================] - 2s 2s/step - loss: 1.0044 - accuracy: 0.3057 - val_loss: 1.4864 - val_accuracy: 0.1801\n",
      "Epoch 140/200\n",
      "1/1 [==============================] - 2s 2s/step - loss: 1.0004 - accuracy: 0.3066 - val_loss: 1.4837 - val_accuracy: 0.1795\n",
      "Epoch 141/200\n",
      "1/1 [==============================] - 2s 2s/step - loss: 0.9929 - accuracy: 0.3044 - val_loss: 1.4831 - val_accuracy: 0.1807\n",
      "Epoch 142/200\n",
      "1/1 [==============================] - 2s 2s/step - loss: 0.9870 - accuracy: 0.3071 - val_loss: 1.4808 - val_accuracy: 0.1801\n",
      "Epoch 143/200\n",
      "1/1 [==============================] - 2s 2s/step - loss: 0.9787 - accuracy: 0.3126 - val_loss: 1.4783 - val_accuracy: 0.1807\n",
      "Epoch 144/200\n",
      "1/1 [==============================] - 2s 2s/step - loss: 0.9683 - accuracy: 0.3099 - val_loss: 1.4758 - val_accuracy: 0.1819\n",
      "Epoch 145/200\n",
      "1/1 [==============================] - 2s 2s/step - loss: 0.9626 - accuracy: 0.3108 - val_loss: 1.4732 - val_accuracy: 0.1831\n",
      "Epoch 146/200\n",
      "1/1 [==============================] - 2s 2s/step - loss: 0.9539 - accuracy: 0.3146 - val_loss: 1.4702 - val_accuracy: 0.1849\n",
      "Epoch 147/200\n",
      "1/1 [==============================] - 2s 2s/step - loss: 0.9543 - accuracy: 0.3130 - val_loss: 1.4676 - val_accuracy: 0.1837\n",
      "Epoch 148/200\n",
      "1/1 [==============================] - 2s 2s/step - loss: 0.9467 - accuracy: 0.3199 - val_loss: 1.4658 - val_accuracy: 0.1855\n",
      "Epoch 149/200\n",
      "1/1 [==============================] - 2s 2s/step - loss: 0.9416 - accuracy: 0.3162 - val_loss: 1.4647 - val_accuracy: 0.1837\n",
      "Epoch 150/200\n",
      "1/1 [==============================] - 2s 2s/step - loss: 0.9298 - accuracy: 0.3161 - val_loss: 1.4628 - val_accuracy: 0.1849\n",
      "Epoch 151/200\n",
      "1/1 [==============================] - 2s 2s/step - loss: 0.9276 - accuracy: 0.3186 - val_loss: 1.4601 - val_accuracy: 0.1849\n",
      "Epoch 152/200\n",
      "1/1 [==============================] - 2s 2s/step - loss: 0.9218 - accuracy: 0.3215 - val_loss: 1.4582 - val_accuracy: 0.1866\n",
      "Epoch 153/200\n",
      "1/1 [==============================] - 2s 2s/step - loss: 0.9171 - accuracy: 0.3279 - val_loss: 1.4543 - val_accuracy: 0.1878\n",
      "Epoch 154/200\n",
      "1/1 [==============================] - 2s 2s/step - loss: 0.9098 - accuracy: 0.3224 - val_loss: 1.4529 - val_accuracy: 0.1866\n",
      "Epoch 155/200\n",
      "1/1 [==============================] - 2s 2s/step - loss: 0.9016 - accuracy: 0.3206 - val_loss: 1.4511 - val_accuracy: 0.1866\n",
      "Epoch 156/200\n",
      "1/1 [==============================] - 2s 2s/step - loss: 0.8917 - accuracy: 0.3222 - val_loss: 1.4490 - val_accuracy: 0.1878\n",
      "Epoch 157/200\n",
      "1/1 [==============================] - 2s 2s/step - loss: 0.8889 - accuracy: 0.3302 - val_loss: 1.4478 - val_accuracy: 0.1860\n",
      "Epoch 158/200\n",
      "1/1 [==============================] - 2s 2s/step - loss: 0.8826 - accuracy: 0.3324 - val_loss: 1.4452 - val_accuracy: 0.1866\n",
      "Epoch 159/200\n",
      "1/1 [==============================] - 2s 2s/step - loss: 0.8780 - accuracy: 0.3264 - val_loss: 1.4440 - val_accuracy: 0.1866\n",
      "Epoch 160/200\n",
      "1/1 [==============================] - 2s 2s/step - loss: 0.8650 - accuracy: 0.3279 - val_loss: 1.4415 - val_accuracy: 0.1896\n",
      "Epoch 161/200\n",
      "1/1 [==============================] - 2s 2s/step - loss: 0.8617 - accuracy: 0.3270 - val_loss: 1.4399 - val_accuracy: 0.1902\n",
      "Epoch 162/200\n",
      "1/1 [==============================] - 2s 2s/step - loss: 0.8597 - accuracy: 0.3322 - val_loss: 1.4380 - val_accuracy: 0.1896\n",
      "Epoch 163/200\n",
      "1/1 [==============================] - 2s 2s/step - loss: 0.8521 - accuracy: 0.3366 - val_loss: 1.4361 - val_accuracy: 0.1890\n",
      "Epoch 164/200\n",
      "1/1 [==============================] - 2s 2s/step - loss: 0.8401 - accuracy: 0.3399 - val_loss: 1.4338 - val_accuracy: 0.1890\n",
      "Epoch 165/200\n",
      "1/1 [==============================] - 2s 2s/step - loss: 0.8355 - accuracy: 0.3388 - val_loss: 1.4320 - val_accuracy: 0.1908\n",
      "Epoch 166/200\n",
      "1/1 [==============================] - 2s 2s/step - loss: 0.8314 - accuracy: 0.3372 - val_loss: 1.4306 - val_accuracy: 0.1932\n",
      "Epoch 167/200\n",
      "1/1 [==============================] - 2s 2s/step - loss: 0.8270 - accuracy: 0.3401 - val_loss: 1.4291 - val_accuracy: 0.1932\n",
      "Epoch 168/200\n",
      "1/1 [==============================] - 2s 2s/step - loss: 0.8213 - accuracy: 0.3401 - val_loss: 1.4268 - val_accuracy: 0.1902\n",
      "Epoch 169/200\n",
      "1/1 [==============================] - 2s 2s/step - loss: 0.8152 - accuracy: 0.3453 - val_loss: 1.4237 - val_accuracy: 0.1920\n",
      "Epoch 170/200\n",
      "1/1 [==============================] - 2s 2s/step - loss: 0.8122 - accuracy: 0.3397 - val_loss: 1.4220 - val_accuracy: 0.1914\n",
      "Epoch 171/200\n",
      "1/1 [==============================] - 2s 2s/step - loss: 0.8017 - accuracy: 0.3444 - val_loss: 1.4214 - val_accuracy: 0.1914\n",
      "Epoch 172/200\n",
      "1/1 [==============================] - 2s 2s/step - loss: 0.7941 - accuracy: 0.3446 - val_loss: 1.4208 - val_accuracy: 0.1902\n",
      "Epoch 173/200\n",
      "1/1 [==============================] - 2s 2s/step - loss: 0.7893 - accuracy: 0.3448 - val_loss: 1.4199 - val_accuracy: 0.1926\n",
      "Epoch 174/200\n",
      "1/1 [==============================] - 2s 2s/step - loss: 0.7857 - accuracy: 0.3519 - val_loss: 1.4163 - val_accuracy: 0.1932\n",
      "Epoch 175/200\n",
      "1/1 [==============================] - 2s 2s/step - loss: 0.7765 - accuracy: 0.3530 - val_loss: 1.4142 - val_accuracy: 0.1938\n",
      "Epoch 176/200\n",
      "1/1 [==============================] - 2s 2s/step - loss: 0.7733 - accuracy: 0.3479 - val_loss: 1.4129 - val_accuracy: 0.1938\n",
      "Epoch 177/200\n",
      "1/1 [==============================] - 2s 2s/step - loss: 0.7662 - accuracy: 0.3475 - val_loss: 1.4119 - val_accuracy: 0.1902\n",
      "Epoch 178/200\n",
      "1/1 [==============================] - 2s 2s/step - loss: 0.7593 - accuracy: 0.3522 - val_loss: 1.4117 - val_accuracy: 0.1938\n",
      "Epoch 179/200\n",
      "1/1 [==============================] - 2s 2s/step - loss: 0.7540 - accuracy: 0.3517 - val_loss: 1.4084 - val_accuracy: 0.1932\n",
      "Epoch 180/200\n",
      "1/1 [==============================] - 2s 2s/step - loss: 0.7465 - accuracy: 0.3562 - val_loss: 1.4061 - val_accuracy: 0.1950\n",
      "Epoch 181/200\n",
      "1/1 [==============================] - 2s 2s/step - loss: 0.7388 - accuracy: 0.3570 - val_loss: 1.4050 - val_accuracy: 0.1944\n",
      "Epoch 182/200\n",
      "1/1 [==============================] - 2s 2s/step - loss: 0.7373 - accuracy: 0.3532 - val_loss: 1.4043 - val_accuracy: 0.1944\n",
      "Epoch 183/200\n",
      "1/1 [==============================] - 2s 2s/step - loss: 0.7301 - accuracy: 0.3557 - val_loss: 1.4039 - val_accuracy: 0.1956\n",
      "Epoch 184/200\n",
      "1/1 [==============================] - 2s 2s/step - loss: 0.7284 - accuracy: 0.3588 - val_loss: 1.4028 - val_accuracy: 0.1962\n",
      "Epoch 185/200\n",
      "1/1 [==============================] - 2s 2s/step - loss: 0.7190 - accuracy: 0.3641 - val_loss: 1.4000 - val_accuracy: 0.1956\n",
      "Epoch 186/200\n",
      "1/1 [==============================] - 2s 2s/step - loss: 0.7136 - accuracy: 0.3597 - val_loss: 1.3983 - val_accuracy: 0.1944\n",
      "Epoch 187/200\n",
      "1/1 [==============================] - 2s 2s/step - loss: 0.7099 - accuracy: 0.3588 - val_loss: 1.3971 - val_accuracy: 0.1950\n",
      "Epoch 188/200\n",
      "1/1 [==============================] - 2s 2s/step - loss: 0.7015 - accuracy: 0.3621 - val_loss: 1.3960 - val_accuracy: 0.1956\n",
      "Epoch 189/200\n",
      "1/1 [==============================] - 2s 2s/step - loss: 0.6962 - accuracy: 0.3606 - val_loss: 1.3934 - val_accuracy: 0.1980\n",
      "Epoch 190/200\n",
      "1/1 [==============================] - 2s 2s/step - loss: 0.6907 - accuracy: 0.3673 - val_loss: 1.3913 - val_accuracy: 0.1986\n",
      "Epoch 191/200\n",
      "1/1 [==============================] - 2s 2s/step - loss: 0.6908 - accuracy: 0.3642 - val_loss: 1.3898 - val_accuracy: 0.1974\n",
      "Epoch 192/200\n",
      "1/1 [==============================] - 2s 2s/step - loss: 0.6807 - accuracy: 0.3668 - val_loss: 1.3894 - val_accuracy: 0.1980\n",
      "Epoch 193/200\n",
      "1/1 [==============================] - 2s 2s/step - loss: 0.6744 - accuracy: 0.3670 - val_loss: 1.3879 - val_accuracy: 0.1992\n",
      "Epoch 194/200\n",
      "1/1 [==============================] - 2s 2s/step - loss: 0.6706 - accuracy: 0.3702 - val_loss: 1.3856 - val_accuracy: 0.1998\n",
      "Epoch 195/200\n",
      "1/1 [==============================] - 2s 2s/step - loss: 0.6653 - accuracy: 0.3686 - val_loss: 1.3847 - val_accuracy: 0.1992\n",
      "Epoch 196/200\n",
      "1/1 [==============================] - 2s 2s/step - loss: 0.6631 - accuracy: 0.3708 - val_loss: 1.3829 - val_accuracy: 0.1998\n",
      "Epoch 197/200\n",
      "1/1 [==============================] - 2s 2s/step - loss: 0.6510 - accuracy: 0.3742 - val_loss: 1.3823 - val_accuracy: 0.1992\n",
      "Epoch 198/200\n",
      "1/1 [==============================] - 2s 2s/step - loss: 0.6456 - accuracy: 0.3719 - val_loss: 1.3811 - val_accuracy: 0.1992\n",
      "Epoch 199/200\n",
      "1/1 [==============================] - 2s 2s/step - loss: 0.6438 - accuracy: 0.3722 - val_loss: 1.3809 - val_accuracy: 0.2016\n",
      "Epoch 200/200\n",
      "1/1 [==============================] - 2s 2s/step - loss: 0.6379 - accuracy: 0.3784 - val_loss: 1.3792 - val_accuracy: 0.2010\n"
     ]
    }
   ],
   "source": [
    "model_lr_four = model.fit(dataset, epochs= 200, validation_data=validation_set)"
   ]
  },
  {
   "cell_type": "code",
   "execution_count": 54,
   "metadata": {
    "colab": {
     "base_uri": "https://localhost:8080/",
     "height": 295
    },
    "id": "aILc6SVz7IKr",
    "outputId": "d6b7a1ed-0648-43f0-daee-85db5fbdc182"
   },
   "outputs": [
    {
     "data": {
      "image/png": "[encoded data removed]",
      "text/plain": [
       "<Figure size 432x288 with 1 Axes>"
      ]
     },
     "metadata": {
      "needs_background": "light"
     },
     "output_type": "display_data"
    }
   ],
   "source": [
    "plt.figure(figsize=(6, 4))\n",
    "\n",
    "epochs = model_lr_four.epoch\n",
    "validation = model_lr_four.history['val_accuracy']\n",
    "train = model_lr_four.history['accuracy']\n",
    "\n",
    "plt.plot(epochs, validation, color='black', linestyle='solid', label='validation')\n",
    "plt.plot(epochs, train, color='black', linestyle='dashed', label='train')\n",
    "\n",
    "plt.title('Transformer Model Accuracy')\n",
    "plt.xlabel('Epoch')\n",
    "plt.ylabel('Accuracy')\n",
    "\n",
    "plt.xticks(np.arange(10))\n",
    "\n",
    "plt.legend()\n",
    "\n",
    "\n",
    "plt.savefig('model_lr_four.svg')\n",
    "\n",
    "plt.show()"
   ]
  },
  {
   "cell_type": "code",
   "execution_count": 55,
   "metadata": {
    "colab": {
     "base_uri": "https://localhost:8080/"
    },
    "id": "BUXOfOXa7Q2Q",
    "outputId": "528bae66-e712-4b9b-bef7-d3aac804eddd"
   },
   "outputs": [
    {
     "name": "stdout",
     "output_type": "stream",
     "text": [
      "Epoch 1/100\n",
      "1/1 [==============================] - 2s 2s/step - loss: 0.6246 - accuracy: 0.3775 - val_loss: 1.3775 - val_accuracy: 0.1986\n",
      "Epoch 2/100\n",
      "1/1 [==============================] - 2s 2s/step - loss: 0.6245 - accuracy: 0.3793 - val_loss: 1.3757 - val_accuracy: 0.1998\n",
      "Epoch 3/100\n",
      "1/1 [==============================] - 2s 2s/step - loss: 0.6193 - accuracy: 0.3748 - val_loss: 1.3755 - val_accuracy: 0.2010\n",
      "Epoch 4/100\n",
      "1/1 [==============================] - 2s 2s/step - loss: 0.6109 - accuracy: 0.3832 - val_loss: 1.3762 - val_accuracy: 0.2027\n",
      "Epoch 5/100\n",
      "1/1 [==============================] - 2s 2s/step - loss: 0.6050 - accuracy: 0.3853 - val_loss: 1.3759 - val_accuracy: 0.2021\n",
      "Epoch 6/100\n",
      "1/1 [==============================] - 2s 2s/step - loss: 0.6041 - accuracy: 0.3826 - val_loss: 1.3735 - val_accuracy: 0.1998\n",
      "Epoch 7/100\n",
      "1/1 [==============================] - 2s 2s/step - loss: 0.5959 - accuracy: 0.3832 - val_loss: 1.3714 - val_accuracy: 0.1998\n",
      "Epoch 8/100\n",
      "1/1 [==============================] - 2s 2s/step - loss: 0.5887 - accuracy: 0.3815 - val_loss: 1.3707 - val_accuracy: 0.2021\n",
      "Epoch 9/100\n",
      "1/1 [==============================] - 2s 2s/step - loss: 0.5850 - accuracy: 0.3899 - val_loss: 1.3694 - val_accuracy: 0.2033\n",
      "Epoch 10/100\n",
      "1/1 [==============================] - 2s 2s/step - loss: 0.5799 - accuracy: 0.3843 - val_loss: 1.3672 - val_accuracy: 0.2021\n",
      "Epoch 11/100\n",
      "1/1 [==============================] - 2s 2s/step - loss: 0.5765 - accuracy: 0.3879 - val_loss: 1.3671 - val_accuracy: 0.2004\n",
      "Epoch 12/100\n",
      "1/1 [==============================] - 2s 2s/step - loss: 0.5732 - accuracy: 0.3899 - val_loss: 1.3651 - val_accuracy: 0.2016\n",
      "Epoch 13/100\n",
      "1/1 [==============================] - 2s 2s/step - loss: 0.5653 - accuracy: 0.3924 - val_loss: 1.3623 - val_accuracy: 0.2016\n",
      "Epoch 14/100\n",
      "1/1 [==============================] - 2s 2s/step - loss: 0.5583 - accuracy: 0.3917 - val_loss: 1.3625 - val_accuracy: 0.2016\n",
      "Epoch 15/100\n",
      "1/1 [==============================] - 2s 2s/step - loss: 0.5545 - accuracy: 0.3893 - val_loss: 1.3631 - val_accuracy: 0.2010\n",
      "Epoch 16/100\n",
      "1/1 [==============================] - 2s 2s/step - loss: 0.5489 - accuracy: 0.3928 - val_loss: 1.3624 - val_accuracy: 0.2016\n",
      "Epoch 17/100\n",
      "1/1 [==============================] - 2s 2s/step - loss: 0.5400 - accuracy: 0.3963 - val_loss: 1.3612 - val_accuracy: 0.2010\n",
      "Epoch 18/100\n",
      "1/1 [==============================] - 2s 2s/step - loss: 0.5395 - accuracy: 0.3963 - val_loss: 1.3603 - val_accuracy: 0.2016\n",
      "Epoch 19/100\n",
      "1/1 [==============================] - 2s 2s/step - loss: 0.5368 - accuracy: 0.3983 - val_loss: 1.3598 - val_accuracy: 0.2021\n",
      "Epoch 20/100\n",
      "1/1 [==============================] - 2s 2s/step - loss: 0.5292 - accuracy: 0.3977 - val_loss: 1.3589 - val_accuracy: 0.2033\n",
      "Epoch 21/100\n",
      "1/1 [==============================] - 2s 2s/step - loss: 0.5242 - accuracy: 0.3977 - val_loss: 1.3560 - val_accuracy: 0.2027\n",
      "Epoch 22/100\n",
      "1/1 [==============================] - 2s 2s/step - loss: 0.5204 - accuracy: 0.3953 - val_loss: 1.3545 - val_accuracy: 0.2004\n",
      "Epoch 23/100\n",
      "1/1 [==============================] - 2s 2s/step - loss: 0.5140 - accuracy: 0.4004 - val_loss: 1.3550 - val_accuracy: 0.2016\n",
      "Epoch 24/100\n",
      "1/1 [==============================] - 2s 2s/step - loss: 0.5114 - accuracy: 0.4013 - val_loss: 1.3547 - val_accuracy: 0.2033\n",
      "Epoch 25/100\n",
      "1/1 [==============================] - 2s 2s/step - loss: 0.5061 - accuracy: 0.4044 - val_loss: 1.3538 - val_accuracy: 0.2045\n",
      "Epoch 26/100\n",
      "1/1 [==============================] - 2s 2s/step - loss: 0.4966 - accuracy: 0.4026 - val_loss: 1.3523 - val_accuracy: 0.2045\n",
      "Epoch 27/100\n",
      "1/1 [==============================] - 2s 2s/step - loss: 0.4979 - accuracy: 0.4024 - val_loss: 1.3504 - val_accuracy: 0.2039\n",
      "Epoch 28/100\n",
      "1/1 [==============================] - 2s 2s/step - loss: 0.4893 - accuracy: 0.4044 - val_loss: 1.3507 - val_accuracy: 0.2033\n",
      "Epoch 29/100\n",
      "1/1 [==============================] - 2s 2s/step - loss: 0.4873 - accuracy: 0.4072 - val_loss: 1.3515 - val_accuracy: 0.2039\n",
      "Epoch 30/100\n",
      "1/1 [==============================] - 2s 2s/step - loss: 0.4807 - accuracy: 0.4064 - val_loss: 1.3513 - val_accuracy: 0.2039\n",
      "Epoch 31/100\n",
      "1/1 [==============================] - 2s 2s/step - loss: 0.4787 - accuracy: 0.4084 - val_loss: 1.3485 - val_accuracy: 0.2045\n",
      "Epoch 32/100\n",
      "1/1 [==============================] - 2s 2s/step - loss: 0.4707 - accuracy: 0.4092 - val_loss: 1.3456 - val_accuracy: 0.2063\n",
      "Epoch 33/100\n",
      "1/1 [==============================] - 2s 2s/step - loss: 0.4657 - accuracy: 0.4101 - val_loss: 1.3444 - val_accuracy: 0.2057\n",
      "Epoch 34/100\n",
      "1/1 [==============================] - 2s 2s/step - loss: 0.4635 - accuracy: 0.4088 - val_loss: 1.3459 - val_accuracy: 0.2051\n",
      "Epoch 35/100\n",
      "1/1 [==============================] - 2s 2s/step - loss: 0.4536 - accuracy: 0.4137 - val_loss: 1.3478 - val_accuracy: 0.2045\n",
      "Epoch 36/100\n",
      "1/1 [==============================] - 2s 2s/step - loss: 0.4514 - accuracy: 0.4164 - val_loss: 1.3464 - val_accuracy: 0.2057\n",
      "Epoch 37/100\n",
      "1/1 [==============================] - 2s 2s/step - loss: 0.4488 - accuracy: 0.4117 - val_loss: 1.3442 - val_accuracy: 0.2057\n",
      "Epoch 38/100\n",
      "1/1 [==============================] - 2s 2s/step - loss: 0.4448 - accuracy: 0.4130 - val_loss: 1.3429 - val_accuracy: 0.2051\n",
      "Epoch 39/100\n",
      "1/1 [==============================] - 2s 2s/step - loss: 0.4384 - accuracy: 0.4179 - val_loss: 1.3426 - val_accuracy: 0.2057\n",
      "Epoch 40/100\n",
      "1/1 [==============================] - 2s 2s/step - loss: 0.4307 - accuracy: 0.4181 - val_loss: 1.3438 - val_accuracy: 0.2063\n",
      "Epoch 41/100\n",
      "1/1 [==============================] - 2s 2s/step - loss: 0.4290 - accuracy: 0.4177 - val_loss: 1.3442 - val_accuracy: 0.2075\n",
      "Epoch 42/100\n",
      "1/1 [==============================] - 2s 2s/step - loss: 0.4244 - accuracy: 0.4157 - val_loss: 1.3428 - val_accuracy: 0.2087\n",
      "Epoch 43/100\n",
      "1/1 [==============================] - 2s 2s/step - loss: 0.4176 - accuracy: 0.4184 - val_loss: 1.3414 - val_accuracy: 0.2081\n",
      "Epoch 44/100\n",
      "1/1 [==============================] - 2s 2s/step - loss: 0.4156 - accuracy: 0.4186 - val_loss: 1.3412 - val_accuracy: 0.2087\n",
      "Epoch 45/100\n",
      "1/1 [==============================] - 2s 2s/step - loss: 0.4107 - accuracy: 0.4197 - val_loss: 1.3423 - val_accuracy: 0.2099\n",
      "Epoch 46/100\n",
      "1/1 [==============================] - 2s 2s/step - loss: 0.4084 - accuracy: 0.4201 - val_loss: 1.3425 - val_accuracy: 0.2105\n",
      "Epoch 47/100\n",
      "1/1 [==============================] - 2s 2s/step - loss: 0.4021 - accuracy: 0.4199 - val_loss: 1.3408 - val_accuracy: 0.2105\n",
      "Epoch 48/100\n",
      "1/1 [==============================] - 2s 2s/step - loss: 0.3971 - accuracy: 0.4197 - val_loss: 1.3389 - val_accuracy: 0.2105\n",
      "Epoch 49/100\n",
      "1/1 [==============================] - 2s 2s/step - loss: 0.3930 - accuracy: 0.4223 - val_loss: 1.3374 - val_accuracy: 0.2117\n",
      "Epoch 50/100\n",
      "1/1 [==============================] - 2s 2s/step - loss: 0.3878 - accuracy: 0.4254 - val_loss: 1.3372 - val_accuracy: 0.2111\n",
      "Epoch 51/100\n",
      "1/1 [==============================] - 2s 2s/step - loss: 0.3868 - accuracy: 0.4261 - val_loss: 1.3388 - val_accuracy: 0.2117\n",
      "Epoch 52/100\n",
      "1/1 [==============================] - 2s 2s/step - loss: 0.3827 - accuracy: 0.4252 - val_loss: 1.3396 - val_accuracy: 0.2123\n",
      "Epoch 53/100\n",
      "1/1 [==============================] - 2s 2s/step - loss: 0.3747 - accuracy: 0.4237 - val_loss: 1.3382 - val_accuracy: 0.2105\n",
      "Epoch 54/100\n",
      "1/1 [==============================] - 2s 2s/step - loss: 0.3706 - accuracy: 0.4284 - val_loss: 1.3360 - val_accuracy: 0.2111\n",
      "Epoch 55/100\n",
      "1/1 [==============================] - 2s 2s/step - loss: 0.3666 - accuracy: 0.4270 - val_loss: 1.3352 - val_accuracy: 0.2129\n",
      "Epoch 56/100\n",
      "1/1 [==============================] - 2s 2s/step - loss: 0.3643 - accuracy: 0.4268 - val_loss: 1.3358 - val_accuracy: 0.2123\n",
      "Epoch 57/100\n",
      "1/1 [==============================] - 2s 2s/step - loss: 0.3595 - accuracy: 0.4314 - val_loss: 1.3368 - val_accuracy: 0.2117\n",
      "Epoch 58/100\n",
      "1/1 [==============================] - 2s 2s/step - loss: 0.3542 - accuracy: 0.4275 - val_loss: 1.3380 - val_accuracy: 0.2135\n",
      "Epoch 59/100\n",
      "1/1 [==============================] - 2s 2s/step - loss: 0.3501 - accuracy: 0.4324 - val_loss: 1.3373 - val_accuracy: 0.2141\n",
      "Epoch 60/100\n",
      "1/1 [==============================] - 2s 2s/step - loss: 0.3471 - accuracy: 0.4299 - val_loss: 1.3359 - val_accuracy: 0.2141\n",
      "Epoch 61/100\n",
      "1/1 [==============================] - 2s 2s/step - loss: 0.3444 - accuracy: 0.4317 - val_loss: 1.3353 - val_accuracy: 0.2147\n",
      "Epoch 62/100\n",
      "1/1 [==============================] - 2s 2s/step - loss: 0.3404 - accuracy: 0.4315 - val_loss: 1.3345 - val_accuracy: 0.2141\n",
      "Epoch 63/100\n",
      "1/1 [==============================] - 2s 2s/step - loss: 0.3349 - accuracy: 0.4314 - val_loss: 1.3336 - val_accuracy: 0.2141\n",
      "Epoch 64/100\n",
      "1/1 [==============================] - 2s 2s/step - loss: 0.3319 - accuracy: 0.4319 - val_loss: 1.3337 - val_accuracy: 0.2135\n",
      "Epoch 65/100\n",
      "1/1 [==============================] - 2s 2s/step - loss: 0.3291 - accuracy: 0.4315 - val_loss: 1.3330 - val_accuracy: 0.2141\n",
      "Epoch 66/100\n",
      "1/1 [==============================] - 2s 2s/step - loss: 0.3226 - accuracy: 0.4346 - val_loss: 1.3333 - val_accuracy: 0.2141\n",
      "Epoch 67/100\n",
      "1/1 [==============================] - 2s 2s/step - loss: 0.3200 - accuracy: 0.4328 - val_loss: 1.3333 - val_accuracy: 0.2141\n",
      "Epoch 68/100\n",
      "1/1 [==============================] - 2s 2s/step - loss: 0.3133 - accuracy: 0.4366 - val_loss: 1.3343 - val_accuracy: 0.2147\n",
      "Epoch 69/100\n",
      "1/1 [==============================] - 2s 2s/step - loss: 0.3111 - accuracy: 0.4341 - val_loss: 1.3342 - val_accuracy: 0.2141\n",
      "Epoch 70/100\n",
      "1/1 [==============================] - 2s 2s/step - loss: 0.3095 - accuracy: 0.4332 - val_loss: 1.3326 - val_accuracy: 0.2141\n",
      "Epoch 71/100\n",
      "1/1 [==============================] - 2s 2s/step - loss: 0.3037 - accuracy: 0.4366 - val_loss: 1.3325 - val_accuracy: 0.2147\n",
      "Epoch 72/100\n",
      "1/1 [==============================] - 2s 2s/step - loss: 0.2981 - accuracy: 0.4379 - val_loss: 1.3329 - val_accuracy: 0.2153\n",
      "Epoch 73/100\n",
      "1/1 [==============================] - 2s 2s/step - loss: 0.2999 - accuracy: 0.4374 - val_loss: 1.3333 - val_accuracy: 0.2159\n",
      "Epoch 74/100\n",
      "1/1 [==============================] - 2s 2s/step - loss: 0.2936 - accuracy: 0.4392 - val_loss: 1.3337 - val_accuracy: 0.2153\n",
      "Epoch 75/100\n",
      "1/1 [==============================] - 2s 2s/step - loss: 0.2909 - accuracy: 0.4404 - val_loss: 1.3336 - val_accuracy: 0.2159\n",
      "Epoch 76/100\n",
      "1/1 [==============================] - 2s 2s/step - loss: 0.2868 - accuracy: 0.4401 - val_loss: 1.3333 - val_accuracy: 0.2141\n",
      "Epoch 77/100\n",
      "1/1 [==============================] - 2s 2s/step - loss: 0.2826 - accuracy: 0.4404 - val_loss: 1.3304 - val_accuracy: 0.2159\n",
      "Epoch 78/100\n",
      "1/1 [==============================] - 2s 2s/step - loss: 0.2784 - accuracy: 0.4397 - val_loss: 1.3276 - val_accuracy: 0.2165\n",
      "Epoch 79/100\n",
      "1/1 [==============================] - 2s 2s/step - loss: 0.2765 - accuracy: 0.4415 - val_loss: 1.3294 - val_accuracy: 0.2153\n",
      "Epoch 80/100\n",
      "1/1 [==============================] - 2s 2s/step - loss: 0.2751 - accuracy: 0.4399 - val_loss: 1.3332 - val_accuracy: 0.2153\n",
      "Epoch 81/100\n",
      "1/1 [==============================] - 2s 2s/step - loss: 0.2668 - accuracy: 0.4415 - val_loss: 1.3366 - val_accuracy: 0.2135\n",
      "Epoch 82/100\n",
      "1/1 [==============================] - 2s 2s/step - loss: 0.2642 - accuracy: 0.4444 - val_loss: 1.3345 - val_accuracy: 0.2141\n",
      "Epoch 83/100\n",
      "1/1 [==============================] - 2s 2s/step - loss: 0.2616 - accuracy: 0.4435 - val_loss: 1.3307 - val_accuracy: 0.2141\n",
      "Epoch 84/100\n",
      "1/1 [==============================] - 2s 2s/step - loss: 0.2585 - accuracy: 0.4423 - val_loss: 1.3295 - val_accuracy: 0.2135\n",
      "Epoch 85/100\n",
      "1/1 [==============================] - 2s 2s/step - loss: 0.2563 - accuracy: 0.4434 - val_loss: 1.3300 - val_accuracy: 0.2165\n",
      "Epoch 86/100\n",
      "1/1 [==============================] - 2s 2s/step - loss: 0.2545 - accuracy: 0.4432 - val_loss: 1.3319 - val_accuracy: 0.2153\n",
      "Epoch 87/100\n",
      "1/1 [==============================] - 2s 2s/step - loss: 0.2473 - accuracy: 0.4444 - val_loss: 1.3312 - val_accuracy: 0.2153\n",
      "Epoch 88/100\n",
      "1/1 [==============================] - 2s 2s/step - loss: 0.2473 - accuracy: 0.4410 - val_loss: 1.3298 - val_accuracy: 0.2159\n",
      "Epoch 89/100\n",
      "1/1 [==============================] - 2s 2s/step - loss: 0.2423 - accuracy: 0.4441 - val_loss: 1.3288 - val_accuracy: 0.2135\n",
      "Epoch 90/100\n",
      "1/1 [==============================] - 2s 2s/step - loss: 0.2390 - accuracy: 0.4472 - val_loss: 1.3299 - val_accuracy: 0.2147\n",
      "Epoch 91/100\n",
      "1/1 [==============================] - 2s 2s/step - loss: 0.2379 - accuracy: 0.4461 - val_loss: 1.3324 - val_accuracy: 0.2165\n",
      "Epoch 92/100\n",
      "1/1 [==============================] - 2s 2s/step - loss: 0.2327 - accuracy: 0.4468 - val_loss: 1.3339 - val_accuracy: 0.2177\n",
      "Epoch 93/100\n",
      "1/1 [==============================] - 2s 2s/step - loss: 0.2282 - accuracy: 0.4474 - val_loss: 1.3338 - val_accuracy: 0.2159\n",
      "Epoch 94/100\n",
      "1/1 [==============================] - 2s 2s/step - loss: 0.2262 - accuracy: 0.4457 - val_loss: 1.3321 - val_accuracy: 0.2153\n",
      "Epoch 95/100\n",
      "1/1 [==============================] - 2s 2s/step - loss: 0.2254 - accuracy: 0.4468 - val_loss: 1.3308 - val_accuracy: 0.2165\n",
      "Epoch 96/100\n",
      "1/1 [==============================] - 2s 2s/step - loss: 0.2199 - accuracy: 0.4475 - val_loss: 1.3325 - val_accuracy: 0.2171\n",
      "Epoch 97/100\n",
      "1/1 [==============================] - 2s 2s/step - loss: 0.2195 - accuracy: 0.4484 - val_loss: 1.3340 - val_accuracy: 0.2171\n",
      "Epoch 98/100\n",
      "1/1 [==============================] - 2s 2s/step - loss: 0.2141 - accuracy: 0.4492 - val_loss: 1.3319 - val_accuracy: 0.2177\n",
      "Epoch 99/100\n",
      "1/1 [==============================] - 2s 2s/step - loss: 0.2111 - accuracy: 0.4490 - val_loss: 1.3306 - val_accuracy: 0.2171\n",
      "Epoch 100/100\n",
      "1/1 [==============================] - 2s 2s/step - loss: 0.2117 - accuracy: 0.4483 - val_loss: 1.3312 - val_accuracy: 0.2165\n"
     ]
    }
   ],
   "source": [
    "model_lr_five = model.fit(dataset, epochs= 100, validation_data=validation_set)"
   ]
  },
  {
   "cell_type": "code",
   "execution_count": 56,
   "metadata": {
    "colab": {
     "base_uri": "https://localhost:8080/",
     "height": 295
    },
    "id": "4hCCYL3e8S5t",
    "outputId": "b548a056-a7c3-4a9f-aed6-a58e2f8c70d0"
   },
   "outputs": [
    {
     "data": {
      "image/png": "[encoded data removed]",
      "text/plain": [
       "<Figure size 432x288 with 1 Axes>"
      ]
     },
     "metadata": {
      "needs_background": "light"
     },
     "output_type": "display_data"
    }
   ],
   "source": [
    "plt.figure(figsize=(6, 4))\n",
    "\n",
    "epochs = model_lr_five.epoch\n",
    "validation = model_lr_five.history['val_accuracy']\n",
    "train = model_lr_five.history['accuracy']\n",
    "\n",
    "plt.plot(epochs, validation, color='black', linestyle='solid', label='validation')\n",
    "plt.plot(epochs, train, color='black', linestyle='dashed', label='train')\n",
    "\n",
    "plt.title('Transformer Model Accuracy')\n",
    "plt.xlabel('Epoch')\n",
    "plt.ylabel('Accuracy')\n",
    "\n",
    "plt.xticks(np.arange(10))\n",
    "\n",
    "plt.legend()\n",
    "\n",
    "\n",
    "plt.savefig('model_lr_five.svg')\n",
    "\n",
    "plt.show()"
   ]
  },
  {
   "cell_type": "code",
   "execution_count": 57,
   "metadata": {
    "colab": {
     "base_uri": "https://localhost:8080/"
    },
    "id": "3pWOfmfO8ZAO",
    "outputId": "30d31577-099f-47b7-bbaa-d335c5c70494"
   },
   "outputs": [
    {
     "name": "stdout",
     "output_type": "stream",
     "text": [
      "Epoch 1/50\n",
      "1/1 [==============================] - 2s 2s/step - loss: 0.2076 - accuracy: 0.4506 - val_loss: 1.3336 - val_accuracy: 0.2153\n",
      "Epoch 2/50\n",
      "1/1 [==============================] - 2s 2s/step - loss: 0.2038 - accuracy: 0.4514 - val_loss: 1.3361 - val_accuracy: 0.2165\n",
      "Epoch 3/50\n",
      "1/1 [==============================] - 2s 2s/step - loss: 0.2001 - accuracy: 0.4508 - val_loss: 1.3356 - val_accuracy: 0.2165\n",
      "Epoch 4/50\n",
      "1/1 [==============================] - 2s 2s/step - loss: 0.1967 - accuracy: 0.4510 - val_loss: 1.3342 - val_accuracy: 0.2182\n",
      "Epoch 5/50\n",
      "1/1 [==============================] - 2s 2s/step - loss: 0.1965 - accuracy: 0.4504 - val_loss: 1.3337 - val_accuracy: 0.2165\n",
      "Epoch 6/50\n",
      "1/1 [==============================] - 2s 2s/step - loss: 0.1932 - accuracy: 0.4514 - val_loss: 1.3347 - val_accuracy: 0.2153\n",
      "Epoch 7/50\n",
      "1/1 [==============================] - 2s 2s/step - loss: 0.1888 - accuracy: 0.4512 - val_loss: 1.3354 - val_accuracy: 0.2171\n",
      "Epoch 8/50\n",
      "1/1 [==============================] - 2s 2s/step - loss: 0.1862 - accuracy: 0.4523 - val_loss: 1.3355 - val_accuracy: 0.2171\n",
      "Epoch 9/50\n",
      "1/1 [==============================] - 2s 2s/step - loss: 0.1856 - accuracy: 0.4530 - val_loss: 1.3350 - val_accuracy: 0.2165\n",
      "Epoch 10/50\n",
      "1/1 [==============================] - 2s 2s/step - loss: 0.1821 - accuracy: 0.4515 - val_loss: 1.3332 - val_accuracy: 0.2182\n",
      "Epoch 11/50\n",
      "1/1 [==============================] - 2s 2s/step - loss: 0.1807 - accuracy: 0.4526 - val_loss: 1.3314 - val_accuracy: 0.2194\n",
      "Epoch 12/50\n",
      "1/1 [==============================] - 2s 2s/step - loss: 0.1748 - accuracy: 0.4537 - val_loss: 1.3321 - val_accuracy: 0.2206\n",
      "Epoch 13/50\n",
      "1/1 [==============================] - 2s 2s/step - loss: 0.1725 - accuracy: 0.4539 - val_loss: 1.3337 - val_accuracy: 0.2188\n",
      "Epoch 14/50\n",
      "1/1 [==============================] - 2s 2s/step - loss: 0.1717 - accuracy: 0.4552 - val_loss: 1.3351 - val_accuracy: 0.2182\n",
      "Epoch 15/50\n",
      "1/1 [==============================] - 2s 2s/step - loss: 0.1712 - accuracy: 0.4550 - val_loss: 1.3365 - val_accuracy: 0.2171\n",
      "Epoch 16/50\n",
      "1/1 [==============================] - 2s 2s/step - loss: 0.1668 - accuracy: 0.4534 - val_loss: 1.3378 - val_accuracy: 0.2182\n",
      "Epoch 17/50\n",
      "1/1 [==============================] - 2s 2s/step - loss: 0.1669 - accuracy: 0.4532 - val_loss: 1.3380 - val_accuracy: 0.2188\n",
      "Epoch 18/50\n",
      "1/1 [==============================] - 2s 2s/step - loss: 0.1625 - accuracy: 0.4539 - val_loss: 1.3374 - val_accuracy: 0.2194\n",
      "Epoch 19/50\n",
      "1/1 [==============================] - 2s 2s/step - loss: 0.1583 - accuracy: 0.4555 - val_loss: 1.3367 - val_accuracy: 0.2200\n",
      "Epoch 20/50\n",
      "1/1 [==============================] - 2s 2s/step - loss: 0.1580 - accuracy: 0.4548 - val_loss: 1.3366 - val_accuracy: 0.2194\n",
      "Epoch 21/50\n",
      "1/1 [==============================] - 2s 2s/step - loss: 0.1554 - accuracy: 0.4544 - val_loss: 1.3363 - val_accuracy: 0.2206\n",
      "Epoch 22/50\n",
      "1/1 [==============================] - 2s 2s/step - loss: 0.1519 - accuracy: 0.4552 - val_loss: 1.3371 - val_accuracy: 0.2194\n",
      "Epoch 23/50\n",
      "1/1 [==============================] - 2s 2s/step - loss: 0.1511 - accuracy: 0.4546 - val_loss: 1.3378 - val_accuracy: 0.2188\n",
      "Epoch 24/50\n",
      "1/1 [==============================] - 2s 2s/step - loss: 0.1496 - accuracy: 0.4564 - val_loss: 1.3390 - val_accuracy: 0.2177\n",
      "Epoch 25/50\n",
      "1/1 [==============================] - 2s 2s/step - loss: 0.1460 - accuracy: 0.4559 - val_loss: 1.3400 - val_accuracy: 0.2188\n",
      "Epoch 26/50\n",
      "1/1 [==============================] - 2s 2s/step - loss: 0.1448 - accuracy: 0.4563 - val_loss: 1.3384 - val_accuracy: 0.2194\n",
      "Epoch 27/50\n",
      "1/1 [==============================] - 2s 2s/step - loss: 0.1428 - accuracy: 0.4566 - val_loss: 1.3386 - val_accuracy: 0.2188\n",
      "Epoch 28/50\n",
      "1/1 [==============================] - 2s 2s/step - loss: 0.1403 - accuracy: 0.4561 - val_loss: 1.3397 - val_accuracy: 0.2182\n",
      "Epoch 29/50\n",
      "1/1 [==============================] - 2s 2s/step - loss: 0.1405 - accuracy: 0.4574 - val_loss: 1.3417 - val_accuracy: 0.2188\n",
      "Epoch 30/50\n",
      "1/1 [==============================] - 2s 2s/step - loss: 0.1349 - accuracy: 0.4577 - val_loss: 1.3447 - val_accuracy: 0.2177\n",
      "Epoch 31/50\n",
      "1/1 [==============================] - 2s 2s/step - loss: 0.1348 - accuracy: 0.4557 - val_loss: 1.3434 - val_accuracy: 0.2200\n",
      "Epoch 32/50\n",
      "1/1 [==============================] - 2s 2s/step - loss: 0.1317 - accuracy: 0.4581 - val_loss: 1.3426 - val_accuracy: 0.2188\n",
      "Epoch 33/50\n",
      "1/1 [==============================] - 2s 2s/step - loss: 0.1314 - accuracy: 0.4574 - val_loss: 1.3443 - val_accuracy: 0.2182\n",
      "Epoch 34/50\n",
      "1/1 [==============================] - 2s 2s/step - loss: 0.1281 - accuracy: 0.4570 - val_loss: 1.3449 - val_accuracy: 0.2177\n",
      "Epoch 35/50\n",
      "1/1 [==============================] - 2s 2s/step - loss: 0.1277 - accuracy: 0.4577 - val_loss: 1.3462 - val_accuracy: 0.2171\n",
      "Epoch 36/50\n",
      "1/1 [==============================] - 2s 2s/step - loss: 0.1278 - accuracy: 0.4557 - val_loss: 1.3434 - val_accuracy: 0.2177\n",
      "Epoch 37/50\n",
      "1/1 [==============================] - 2s 2s/step - loss: 0.1247 - accuracy: 0.4561 - val_loss: 1.3427 - val_accuracy: 0.2171\n",
      "Epoch 38/50\n",
      "1/1 [==============================] - 2s 2s/step - loss: 0.1224 - accuracy: 0.4579 - val_loss: 1.3453 - val_accuracy: 0.2182\n",
      "Epoch 39/50\n",
      "1/1 [==============================] - 2s 2s/step - loss: 0.1199 - accuracy: 0.4583 - val_loss: 1.3492 - val_accuracy: 0.2194\n",
      "Epoch 40/50\n",
      "1/1 [==============================] - 2s 2s/step - loss: 0.1180 - accuracy: 0.4577 - val_loss: 1.3515 - val_accuracy: 0.2182\n",
      "Epoch 41/50\n",
      "1/1 [==============================] - 2s 2s/step - loss: 0.1161 - accuracy: 0.4581 - val_loss: 1.3508 - val_accuracy: 0.2182\n",
      "Epoch 42/50\n",
      "1/1 [==============================] - 2s 2s/step - loss: 0.1141 - accuracy: 0.4577 - val_loss: 1.3486 - val_accuracy: 0.2177\n",
      "Epoch 43/50\n",
      "1/1 [==============================] - 2s 2s/step - loss: 0.1123 - accuracy: 0.4583 - val_loss: 1.3468 - val_accuracy: 0.2171\n",
      "Epoch 44/50\n",
      "1/1 [==============================] - 2s 2s/step - loss: 0.1119 - accuracy: 0.4568 - val_loss: 1.3488 - val_accuracy: 0.2177\n",
      "Epoch 45/50\n",
      "1/1 [==============================] - 2s 2s/step - loss: 0.1117 - accuracy: 0.4575 - val_loss: 1.3523 - val_accuracy: 0.2171\n",
      "Epoch 46/50\n",
      "1/1 [==============================] - 2s 2s/step - loss: 0.1091 - accuracy: 0.4583 - val_loss: 1.3544 - val_accuracy: 0.2165\n",
      "Epoch 47/50\n",
      "1/1 [==============================] - 2s 2s/step - loss: 0.1066 - accuracy: 0.4586 - val_loss: 1.3549 - val_accuracy: 0.2177\n",
      "Epoch 48/50\n",
      "1/1 [==============================] - 2s 2s/step - loss: 0.1051 - accuracy: 0.4583 - val_loss: 1.3540 - val_accuracy: 0.2177\n",
      "Epoch 49/50\n",
      "1/1 [==============================] - 2s 2s/step - loss: 0.1043 - accuracy: 0.4572 - val_loss: 1.3544 - val_accuracy: 0.2177\n",
      "Epoch 50/50\n",
      "1/1 [==============================] - 2s 2s/step - loss: 0.1013 - accuracy: 0.4592 - val_loss: 1.3548 - val_accuracy: 0.2171\n"
     ]
    }
   ],
   "source": [
    "model_lr_six = model.fit(dataset, epochs= 50, validation_data=validation_set)"
   ]
  },
  {
   "cell_type": "code",
   "execution_count": 58,
   "metadata": {
    "colab": {
     "base_uri": "https://localhost:8080/",
     "height": 295
    },
    "id": "E_HcYtXf8_jH",
    "outputId": "6d72d031-6cd9-471b-bd08-c6b55162183b"
   },
   "outputs": [
    {
     "data": {
      "image/png": "[encoded data removed]",
      "text/plain": [
       "<Figure size 432x288 with 1 Axes>"
      ]
     },
     "metadata": {
      "needs_background": "light"
     },
     "output_type": "display_data"
    }
   ],
   "source": [
    "plt.figure(figsize=(6, 4))\n",
    "\n",
    "epochs = model_lr_six.epoch\n",
    "validation = model_lr_six.history['val_accuracy']\n",
    "train = model_lr_six.history['accuracy']\n",
    "\n",
    "plt.plot(epochs, validation, color='black', linestyle='solid', label='validation')\n",
    "plt.plot(epochs, train, color='black', linestyle='dashed', label='train')\n",
    "\n",
    "plt.title('Transformer Model Accuracy')\n",
    "plt.xlabel('Epoch')\n",
    "plt.ylabel('Accuracy')\n",
    "\n",
    "plt.xticks(np.arange(10))\n",
    "\n",
    "plt.legend()\n",
    "\n",
    "\n",
    "plt.savefig('model_lr_six.svg')\n",
    "\n",
    "plt.show()"
   ]
  },
  {
   "cell_type": "code",
   "execution_count": 59,
   "metadata": {
    "id": "o6pMh9pA9H6a"
   },
   "outputs": [],
   "source": [
    "START_TOKEN, END_TOKEN = [tokenizer.vocab_size], [tokenizer.vocab_size + 1]"
   ]
  },
  {
   "cell_type": "code",
   "execution_count": 60,
   "metadata": {
    "id": "NatpAOMJ9Vld"
   },
   "outputs": [],
   "source": [
    "def evaluate(phrase):\n",
    "  phrase = preprocess(phrase)\n",
    "\n",
    "  phrase = tf.expand_dims(\n",
    "      START_TOKEN + tokenizer.encode(phrase) + END_TOKEN, axis=0)\n",
    "\n",
    "  output = tf.expand_dims(START_TOKEN, 0)\n",
    "\n",
    "  for i in range(MAX_LENGTH):\n",
    "    predictions = model(inputs=[phrase, output], training=False)\n",
    "\n",
    "    # select the last word from the seq_len dimension\n",
    "    predictions = predictions[:, -1:, :]\n",
    "    predicted_id = tf.cast(tf.argmax(predictions, axis=-1), tf.int32)\n",
    "\n",
    "    # return the result if the predicted_id is equal to the end token\n",
    "    if tf.equal(predicted_id, END_TOKEN[0]):\n",
    "      break\n",
    "\n",
    "    # concatenated the predicted_id to the output which is given to the decoder\n",
    "    # as its input.\n",
    "    output = tf.concat([output, predicted_id], axis=-1)\n",
    "\n",
    "  return tf.squeeze(output, axis=0)\n",
    "\n",
    "\n",
    "def predict(phrase):\n",
    "  prediction = evaluate(phrase)\n",
    "\n",
    "  predicted_text = tokenizer.decode(\n",
    "      [i for i in prediction if i < tokenizer.vocab_size])\n",
    "\n",
    "  print('Input: {}'.format(phrase))\n",
    "  print('Output: {}'.format(predicted_text))\n",
    "\n",
    "  return predicted_text"
   ]
  },
  {
   "cell_type": "code",
   "execution_count": 61,
   "metadata": {
    "id": "7Hnm1eNf90gW"
   },
   "outputs": [],
   "source": [
    "model.save_weights('./checkpoints/my_checkpoint')"
   ]
  },
  {
   "cell_type": "code",
   "execution_count": 62,
   "metadata": {
    "colab": {
     "base_uri": "https://localhost:8080/"
    },
    "id": "weYS-ctm95kq",
    "outputId": "e3d6e038-3642-443b-b748-ef0093a6b0c2"
   },
   "outputs": [
    {
     "name": "stdout",
     "output_type": "stream",
     "text": [
      "Input: Hi\n",
      "Output: hello there. tell me how are you feeling today?\n"
     ]
    }
   ],
   "source": [
    "output = predict('Hi')"
   ]
  },
  {
   "cell_type": "code",
   "execution_count": 63,
   "metadata": {
    "colab": {
     "base_uri": "https://localhost:8080/"
    },
    "id": "iRtMT3D6-IuF",
    "outputId": "be9c5356-1850-4c25-9af3-5b69d1304d6e"
   },
   "outputs": [
    {
     "name": "stdout",
     "output_type": "stream",
     "text": [
      "Input: I feel so lonely\n",
      "Output: why do you think you feel this way?\n"
     ]
    }
   ],
   "source": [
    "output = predict('I feel so lonely')"
   ]
  },
  {
   "cell_type": "code",
   "execution_count": 64,
   "metadata": {
    "colab": {
     "base_uri": "https://localhost:8080/"
    },
    "id": "YH3f_7Hd-hTt",
    "outputId": "fe5b0a69-6532-436f-8b02-f4c9922a81d5"
   },
   "outputs": [
    {
     "name": "stdout",
     "output_type": "stream",
     "text": [
      "Input: I feel so anxious\n",
      "Output: do not be hard on yourself. what is the reason behind this?\n"
     ]
    }
   ],
   "source": [
    "output = predict('I feel so anxious')"
   ]
  },
  {
   "cell_type": "code",
   "execution_count": 65,
   "metadata": {
    "colab": {
     "base_uri": "https://localhost:8080/"
    },
    "id": "nRP23JAa_Va8",
    "outputId": "ab6944be-3ee4-4f46-841c-690cd4ca8a6d"
   },
   "outputs": [
    {
     "name": "stdout",
     "output_type": "stream",
     "text": [
      "Input: I feel so tired\n",
      "Output: i am sorry to hear that. if you want to talk about it. i am here.\n"
     ]
    }
   ],
   "source": [
    "output = predict('I feel so tired')"
   ]
  },
  {
   "cell_type": "code",
   "execution_count": 66,
   "metadata": {
    "colab": {
     "base_uri": "https://localhost:8080/"
    },
    "id": "Xu1Vs-f8_b92",
    "outputId": "6bc06750-eb9d-4ea9-b28e-b32dde0fb0bc"
   },
   "outputs": [
    {
     "name": "stdout",
     "output_type": "stream",
     "text": [
      "Input: I think I have depression\n",
      "Output: sometimes when we are depressed, it is hard to care about anything. it can be hard to do the simplest of things. give yourself time to heal.\n"
     ]
    }
   ],
   "source": [
    "output = predict('I think I have depression')"
   ]
  },
  {
   "cell_type": "code",
   "execution_count": 67,
   "metadata": {
    "colab": {
     "base_uri": "https://localhost:8080/"
    },
    "id": "c1vpwKbs_9VQ",
    "outputId": "191d3c64-1402-4499-eefe-4651e56041cd"
   },
   "outputs": [
    {
     "name": "stdout",
     "output_type": "stream",
     "text": [
      "Input: How do I know if I have Depression?\n",
      "Output: if your beliefs , thoughts , feelings or behaviours have a significant impact on your ability to function in what might be considered a normal or ordinary way, it would be important to seek help.\n"
     ]
    }
   ],
   "source": [
    "output = predict('How do I know if I have Depression?')"
   ]
  },
  {
   "cell_type": "code",
   "execution_count": 68,
   "metadata": {
    "colab": {
     "base_uri": "https://localhost:8080/"
    },
    "id": "YShekgoAAKq5",
    "outputId": "acc027c9-bce1-4479-ee61-b224b906de4c"
   },
   "outputs": [
    {
     "name": "stdout",
     "output_type": "stream",
     "text": [
      "Input: Can you help me?\n",
      "Output: i am here to help you. of course, i can, so please talk to me\n"
     ]
    }
   ],
   "source": [
    "output = predict('Can you help me?')"
   ]
  },
  {
   "cell_type": "code",
   "execution_count": 69,
   "metadata": {
    "colab": {
     "base_uri": "https://localhost:8080/"
    },
    "id": "sllEwklAAbfk",
    "outputId": "0caf343b-bb7b-430a-d479-26cdb682dbb2"
   },
   "outputs": [
    {
     "name": "stdout",
     "output_type": "stream",
     "text": [
      "Input: I'm feeling anxious\n",
      "Output: i am sorry to hear that. if you are feeling this way.\n"
     ]
    }
   ],
   "source": [
    "output = predict(\"I'm feeling anxious\")"
   ]
  },
  {
   "cell_type": "code",
   "execution_count": 70,
   "metadata": {
    "colab": {
     "base_uri": "https://localhost:8080/"
    },
    "id": "a7qnEF2wA3U1",
    "outputId": "841e9738-13d9-41f7-a469-26a11ca20b3e"
   },
   "outputs": [
    {
     "name": "stdout",
     "output_type": "stream",
     "text": [
      "Input: I think I have depression\n",
      "Output: sometimes when we are depressed, it is hard to care about anything. it can be hard to do the simplest of things. give yourself time to heal.\n"
     ]
    }
   ],
   "source": [
    "output = predict('I think I have depression')"
   ]
  },
  {
   "cell_type": "markdown",
   "metadata": {},
   "source": [
    "<p>It is noted that the appropriate results are generated by the transformer model. Therefore, we can be satisfied with the model accuracy.</p>"
   ]
  }
 ],
 "metadata": {
  "colab": {
   "provenance": []
  },
  "kernelspec": {
   "display_name": "Python 3 (ipykernel)",
   "language": "python",
   "name": "python3"
  },
  "language_info": {
   "codemirror_mode": {
    "name": "ipython",
    "version": 3
   },
   "file_extension": ".py",
   "mimetype": "text/x-python",
   "name": "python",
   "nbconvert_exporter": "python",
   "pygments_lexer": "ipython3",
   "version": "3.9.12"
  }
 },
 "nbformat": 4,
 "nbformat_minor": 1
}
